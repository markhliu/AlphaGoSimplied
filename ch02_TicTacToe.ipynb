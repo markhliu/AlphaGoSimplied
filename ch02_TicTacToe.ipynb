{
 "cells": [
  {
   "cell_type": "markdown",
   "id": "653089c9",
   "metadata": {},
   "source": [
    "# Chapter 2: Rule-Based AI: Tic Tac Toe\n",
    "\n",
    "In this chapter, you’ll first create a game environment for Tic Tac Toe. You'll hard code in some rules to make the AI player think up to three steps ahead. You'll then deploy the strategies against a random player and see how effective they are. Coding in rule-based AI in Tic Tac Toe in this book serves at least four purposes. First, you'll learn how to build an AI agent that can think up to three steps ahead and generalize the logic to other games or real-world situations. Second, it introduces you to the game environment of Tic Tac Toe, as we'll use this game to study other AI algorithms later in this book, such as MiniMax, Monte Carlo Tree Search, Actor-Critic, and so on. Third, in AlphaGo, the agent learns from playing against stronger players, and we'll use the AI players created in this chapter as opponents when we discuss AlphaGo strategies. Fourth, later in this book, we'll use rule-based AI to test how effective a certain game strategy is; that is, we'll use rule-based AI as our benchmark when testing the effectiveness of various game strategies (such as an AlphaGo agent).\n",
    "\n",
    "To build an AI player who can think one step ahead, we iterate through all possible next moves and check if any one of them leads to winning the game right away. If yes, the AI player will take the move. \n",
    "\n",
    "Thinking two steps ahead means that the AI player tries to prevent the opponent from winning the next turn. The program iterates through all combinations of next two moves and see if there is a combination that leads to a win for the opponent. If yes, the AI player blocks the opponent's move. \n",
    "\n",
    "By thinking three steps ahead, the AI player follows the path that most likely leads to a victory after three moves. In many scenarios, thinking three steps ahead can guarantee a win for the AI player in three steps. "
   ]
  },
  {
   "cell_type": "markdown",
   "id": "e3b25bf6",
   "metadata": {},
   "source": [
    "***\n",
    "$\\mathbf{\\text{Create a subfolder for files in Chapter 2}}$<br>\n",
    "***\n",
    "We'll put all files in Chapter 2 in a subfolder /files/ch02. Run the code in the cell below to create the subfolder.\n",
    "\n",
    "***"
   ]
  },
  {
   "cell_type": "code",
   "execution_count": 1,
   "id": "117477d3",
   "metadata": {},
   "outputs": [],
   "source": [
    "import os\n",
    "\n",
    "os.makedirs(\"files/ch02\", exist_ok=True)"
   ]
  },
  {
   "cell_type": "markdown",
   "id": "282ad876",
   "metadata": {},
   "source": [
    "# 1. Create the Tic Tac Toe Game Environment\n",
    "We'll create a Tic Tac Toe game environment, using the *turtle* library to draw game boards. We’ll create all the features and methods that a typical OpenAI Gym environment has. "
   ]
  },
  {
   "cell_type": "markdown",
   "id": "79c437e8",
   "metadata": {},
   "source": [
    "## 1.1. Use A Python Class to Represent the Environment\n",
    "We’ll create a Python class to represent the Tic Tac Toe game environment. The class will have various attributes and methods to replicate those in a typical OpenAI Gym game environment. \n",
    "\n",
    "#### Attributes\n",
    "Specifically, our self-made Tic Tac Toe game environment will have the following attributes:\n",
    " \n",
    "*\taction_space: an attribute that provides the space of all actions that can be taken by the agent. The action space will have nine values, 1 to 9. We use 1 to 9 instead of 0 to 8 to avoid confusion.\n",
    "*\tobservation_space: an attribute that provides the list of all possible states in the environment. We'll use a numpy array with 9 values to represent the nine cell on a game board.\n",
    "*\tstate: an attribute indicating which state the agent is currently in. Each of the nine cells can take values -1 (occupied by player O), 0 (empty), or 1 (occupied by player X).\n",
    "*\taction: an attribute indicating the action taken by the agent. The action is a number between 1 and 9.\n",
    "*\treward: is an attribute indicating the reward to the agent because of the action taken by the agent. The reward is 0 in each step, unless a player has won the game, in which case the winner has a reward of 1 and the loser a reward of -1. \n",
    "*\tdone: an attribute indicating whether the game has ended. This happens when one player wins or if the game is tied.\n",
    "*\tinfo: an attribute that provides information about the game. We'll set it as an empty string \"\". "
   ]
  },
  {
   "cell_type": "markdown",
   "id": "63f9996e",
   "metadata": {},
   "source": [
    "#### Methods\n",
    "Our self-made Tic Tac Toe game environment will have a few methods as well:\n",
    " \n",
    "*\treset() is a method to set the game environment to the initial (that is, the starting) state. All cells on the board will be empty.\n",
    "*\trender() is a method showing the current state of the environment graphically.\n",
    "*\tstep() is a method that returns the new state, the reward, the value of *done* variable, and the variable *info* based on the action taken by the agent.\n",
    "*\tsample() is a method to randomly choose an action from the action space.\n",
    "*\tclose() is a method to end the game environment."
   ]
  },
  {
   "cell_type": "markdown",
   "id": "de2d7767",
   "metadata": {},
   "source": [
    "## 1.2. Create A Local Module for the Tic Tac Toe Game\n",
    "We'll create a local module for the Tic Tac Toe game and place it inside the local package for this book: the package ***utils*** that we have created in Chapter 1."
   ]
  },
  {
   "cell_type": "markdown",
   "id": "7252a608",
   "metadata": {},
   "source": [
    "Now let's code in a self-made Tic Tac Toe game environment using a Python class. Save the code in the cell below as *ttt_env.py* in the folder *utils* you created in Chapter 1. Alternatively, you can download it from my GitHub repository. "
   ]
  },
  {
   "cell_type": "code",
   "execution_count": 2,
   "id": "764ab1e7",
   "metadata": {},
   "outputs": [],
   "source": [
    "import turtle as t\n",
    "from random import choice\n",
    "import numpy as np\n",
    "import time\n",
    "\n",
    "# Define an action_space helper class\n",
    "class action_space:\n",
    "    def __init__(self, n):\n",
    "        self.n = n\n",
    "    def sample(self):\n",
    "        num = np.random.choice(range(self.n))\n",
    "        # covert to 1 to 9\n",
    "        action = 1+num\n",
    "        return action\n",
    "    \n",
    "# Define an obervation_space helper class    \n",
    "class observation_space:\n",
    "    def __init__(self, n):\n",
    "        self.shape = (n,)\n",
    "\n",
    "class ttt():\n",
    "    def __init__(self): \n",
    "        # use the helper action_space class\n",
    "        self.action_space=action_space(9)\n",
    "        # use the helper observation_space class\n",
    "        self.observation_space=observation_space(9)\n",
    "        self.info=\"\"  \n",
    "        self.showboard=False          \n",
    "        # Create a dictionary to map cell number to coordinates\n",
    "        self.cellcenter = {1:(-200,-200), 2:(0,-200), 3:(200,-200),\n",
    "                    4:(-200,0), 5:(0,0), 6:(200,0),\n",
    "                    7:(-200,200), 8:(0,200), 9:(200,200)} \n",
    "\n",
    "\n",
    "    def reset(self):  \n",
    "        # The X player moves first\n",
    "        self.turn = \"X\"\n",
    "        # Count how many rounds played\n",
    "        self.rounds = 1\n",
    "        # Create a list of valid moves\n",
    "        self.validinputs = list(self.cellcenter.keys())\n",
    "        # Create a dictionary of moves made by each player\n",
    "        self.occupied = {\"X\":[],\"O\":[]}\n",
    "        # Tracking the state\n",
    "        self.state=np.array([0,0,0,0,0,0,0,0,0])\n",
    "        self.done=False\n",
    "        self.reward=0     \n",
    "        return self.state        \n",
    "        \n",
    "    # step() function: place piece on board and update state\n",
    "    def step(self, inp):\n",
    "        # Add the move to the occupied list \n",
    "        self.occupied[self.turn].append(inp)\n",
    "        # update the state: X is 1 and O is -1\n",
    "        self.state[int(inp)-1]=2*(self.turn==\"X\")-1\n",
    "        # Disallow the move in future rounds\n",
    "        self.validinputs.remove(inp) \n",
    "        # check if the player has won the game\n",
    "        if self.win_game() == True:\n",
    "            self.done=True\n",
    "            # reward is 1 if X won; -1 if O won\n",
    "            self.reward=2*(self.turn==\"X\")-1\n",
    "            self.validinputs=[]\n",
    "        # If all cellls are occupied and no winner, it's a tie\n",
    "        elif self.rounds == 9:\n",
    "            self.done=True\n",
    "            self.reward=0\n",
    "            self.validinputs=[]\n",
    "        # Counting rounds\n",
    "        self.rounds += 1\n",
    "        # Give the turn to the other player\n",
    "        if self.turn == \"X\":\n",
    "            self.turn = \"O\"\n",
    "        else:\n",
    "            self.turn = \"X\"             \n",
    "        return self.state, self.reward, self.done, self.info\n",
    "                    \n",
    "    # Determine if a player has won the game\n",
    "    def win_game(self):\n",
    "        lst = self.occupied[self.turn]\n",
    "        if 1 in lst and 2 in lst and 3 in lst:\n",
    "            return True\n",
    "        elif 4 in lst and 5 in lst and 6 in lst:\n",
    "            return True        \n",
    "        elif 7 in lst and 8 in lst and 9 in lst:\n",
    "            return True        \n",
    "        elif 1 in lst and 4 in lst and 7 in lst:\n",
    "            return True\n",
    "        elif 2 in lst and 5 in lst and 8 in lst:\n",
    "            return True\n",
    "        elif 3 in lst and 6 in lst and 9 in lst:\n",
    "            return True\n",
    "        elif 1 in lst and 5 in lst and 9 in lst:\n",
    "            return True\n",
    "        elif 3 in lst and 5 in lst and 7 in lst:\n",
    "            return True\n",
    "        else:\n",
    "            return False\n",
    "\n",
    "\n",
    "    def display_board(self):\n",
    "        # Set up the screen\n",
    "        try:\n",
    "            t.setup(630,630,10,70) \n",
    "        except t.Terminator:\n",
    "            t.setup(630,630,10,70)   \n",
    "        t.tracer(False)\n",
    "        t.hideturtle()\n",
    "        t.bgcolor(\"azure\")\n",
    "        t.title(\"Tic-Tac-Toe in Turtle Graphics\")\n",
    "        # Draw horizontal lines and vertical lines\n",
    "        t.pensize(5)\n",
    "        t.color('blue')\n",
    "        for i in (-300,-100,100,300):  \n",
    "            t.up()\n",
    "            t.goto(i,-300)\n",
    "            t.down()\n",
    "            t.goto(i,300)\n",
    "            t.up()\n",
    "            t.goto(-300,i)\n",
    "            t.down()\n",
    "            t.goto(300,i)\n",
    "            t.up()\n",
    "        # Write down the cell number\n",
    "        t.color('red')\n",
    "        for cell, center in list(self.cellcenter.items()):\n",
    "            t.goto(center[0]-80,center[1]-80)\n",
    "            t.write(cell,font = ('Arial',20,'normal'))\n",
    "\n",
    "    def render(self):\n",
    "        if self.showboard==False:\n",
    "            self.display_board()\n",
    "            self.showboard=True   \n",
    "        # Place X or O in occupied cells\n",
    "        t.color('light gray')\n",
    "        if len(self.occupied[\"X\"])>0:\n",
    "            for x in self.occupied[\"X\"]:\n",
    "                xy=self.cellcenter[x]\n",
    "                t.up()\n",
    "                t.goto(xy[0]-60,xy[1]-60)\n",
    "                t.down()               \n",
    "                t.goto(xy[0]+60,xy[1]+60)\n",
    "                t.up()\n",
    "                t.goto(xy[0]-60,xy[1]+60)\n",
    "                t.down()               \n",
    "                t.goto(xy[0]+60,xy[1]-60)\n",
    "                t.up()    \n",
    "                t.update()\n",
    "        if len(self.occupied[\"O\"])>0:                \n",
    "            for o in self.occupied[\"O\"]:\n",
    "                t.up()\n",
    "                t.goto(self.cellcenter[o])\n",
    "                t.dot(160,\"light gray\") \n",
    "                t.update()\n",
    "\n",
    "    def close(self):\n",
    "        time.sleep(1)\n",
    "        try:\n",
    "            t.bye()\n",
    "        except t.Terminator:\n",
    "            print('exit turtle')"
   ]
  },
  {
   "cell_type": "markdown",
   "id": "05110e83",
   "metadata": {},
   "source": [
    "If you run the above cell, nothing will happen. The class simply creates a game environment. We need to initiate the game environment and start playing using Python programs, just as you do with an OpenAI Gym game environment. We'll do that in the next subsection."
   ]
  },
  {
   "cell_type": "markdown",
   "id": "eee28a4e",
   "metadata": {},
   "source": [
    "## 1.3. Verify the Custom-Made Game Environment\n",
    "Next, we'll check the attributes and methods of the self-made game environment and make sure it has all the elements that are provided by a typical OpenAI Gym game environment. \n",
    "\n",
    "First we'll initiate the game environment and show the game board."
   ]
  },
  {
   "cell_type": "code",
   "execution_count": 3,
   "id": "a847d4fe",
   "metadata": {},
   "outputs": [],
   "source": [
    "from utils.ttt_env import ttt\n",
    "\n",
    "env = ttt()\n",
    "env.reset()                    \n",
    "env.render()"
   ]
  },
  {
   "cell_type": "markdown",
   "id": "06e6bd0a",
   "metadata": {},
   "source": [
    "You should see a separate turtle window, with a game board as follows: \n",
    "<img src=\"https://gattonweb.uky.edu/faculty/lium/ml/ttt_start.png\" />"
   ]
  },
  {
   "cell_type": "markdown",
   "id": "0977029b",
   "metadata": {},
   "source": [
    "If you want to close the game board window, use the *close()* method, like so:"
   ]
  },
  {
   "cell_type": "code",
   "execution_count": 4,
   "id": "439f093e",
   "metadata": {},
   "outputs": [],
   "source": [
    "env.close()"
   ]
  },
  {
   "cell_type": "markdown",
   "id": "d963a4e3",
   "metadata": {},
   "source": [
    "Next, we'll check the attributes of the environment such as the observation space and action space. "
   ]
  },
  {
   "cell_type": "code",
   "execution_count": 5,
   "id": "15b9c0d7",
   "metadata": {},
   "outputs": [
    {
     "name": "stdout",
     "output_type": "stream",
     "text": [
      "the number of possible actions are 9\n",
      "the following are ten sample actions\n",
      "4\n",
      "1\n",
      "7\n",
      "3\n",
      "8\n",
      "8\n",
      "1\n",
      "6\n",
      "3\n",
      "5\n",
      "the shape of the observation space is (9,)\n"
     ]
    }
   ],
   "source": [
    "env=ttt()\n",
    "# check the action space\n",
    "number_actions=env.action_space.n\n",
    "print(\"the number of possible actions are\",number_actions)\n",
    "# sample the action space ten times\n",
    "print(\"the following are ten sample actions\")\n",
    "for i in range(10):\n",
    "   print(env.action_space.sample())\n",
    "# check the shape of the observation space\n",
    "print(\"the shape of the observation space is\",\\\n",
    "      env.observation_space.shape)"
   ]
  },
  {
   "cell_type": "markdown",
   "id": "2033eed1",
   "metadata": {},
   "source": [
    "The meanings of the actions in this game as follows\n",
    "* 1: Placing a game piece in cell 1\n",
    "* 2: Placing a game piece in cell 2\n",
    "* ...\n",
    "* 9: Placing a game piece in cell 9\n",
    "\n",
    "\n",
    "The state space is a vector with 9 values: \n",
    "* 0 means it's empty; \n",
    "* -1 means it's occupied by player O; \n",
    "* 1 means it's occupied by player X."
   ]
  },
  {
   "cell_type": "markdown",
   "id": "fe6f879a",
   "metadata": {},
   "source": [
    "# 2. Play Games in the Tic Tac Toe Environment\n",
    "Next, we'll play games in the custom-made environment. You'll learn to save each game board as a picture. Finally, you'll record all game boards in a full game, and convert them into an animation."
   ]
  },
  {
   "cell_type": "markdown",
   "id": "fe83ac2f",
   "metadata": {},
   "source": [
    "## 2.1. Play a full game"
   ]
  },
  {
   "cell_type": "markdown",
   "id": "6e5af973",
   "metadata": {},
   "source": [
    "Here we'll play a full game, by randomly choosing an action from the action space each step."
   ]
  },
  {
   "cell_type": "code",
   "execution_count": 6,
   "id": "f44d0601",
   "metadata": {},
   "outputs": [
    {
     "name": "stdout",
     "output_type": "stream",
     "text": [
      "the current state is state=\n",
      "[[0 0 0]\n",
      " [0 0 0]\n",
      " [0 0 0]]\n",
      "Player X has chosen action=7\n",
      "the current state is state=\n",
      "[[0 0 0]\n",
      " [0 0 0]\n",
      " [1 0 0]]\n",
      "Player O has chosen action=6\n",
      "the current state is state=\n",
      "[[ 0  0  0]\n",
      " [ 0  0 -1]\n",
      " [ 1  0  0]]\n",
      "Player X has chosen action=9\n",
      "the current state is state=\n",
      "[[ 0  0  0]\n",
      " [ 0  0 -1]\n",
      " [ 1  0  1]]\n",
      "Player O has chosen action=4\n",
      "the current state is state=\n",
      "[[ 0  0  0]\n",
      " [-1  0 -1]\n",
      " [ 1  0  1]]\n",
      "Player X has chosen action=5\n",
      "the current state is state=\n",
      "[[ 0  0  0]\n",
      " [-1  1 -1]\n",
      " [ 1  0  1]]\n",
      "Player O has chosen action=8\n",
      "the current state is state=\n",
      "[[ 0  0  0]\n",
      " [-1  1 -1]\n",
      " [ 1 -1  1]]\n",
      "Player X has chosen action=2\n",
      "the current state is state=\n",
      "[[ 0  1  0]\n",
      " [-1  1 -1]\n",
      " [ 1 -1  1]]\n",
      "Player O has chosen action=3\n",
      "the current state is state=\n",
      "[[ 0  1 -1]\n",
      " [-1  1 -1]\n",
      " [ 1 -1  1]]\n",
      "Player X has chosen action=1\n",
      "Player X has won!\n"
     ]
    }
   ],
   "source": [
    "import time\n",
    "import random\n",
    "\n",
    "# Initiate the game environment\n",
    "env=ttt()\n",
    "state=env.reset()   \n",
    "env.render()\n",
    "# Play a full game manually\n",
    "while True:\n",
    "    print(f\"the current state is \\n{state.reshape(3,3)}\")    \n",
    "    action = random.choice(env.validinputs)\n",
    "    time.sleep(1)\n",
    "    print(f\"Player X has chosen action={action}\")    \n",
    "    state, reward, done, info = env.step(action)\n",
    "    env.render()\n",
    "    if done:\n",
    "        if reward==1:\n",
    "            print(f\"Player X has won!\") \n",
    "        else:\n",
    "            print(f\"It's a tie!\") \n",
    "        break\n",
    "    print(f\"the current state is \\n{state.reshape(3,3)}\")    \n",
    "    action = random.choice(env.validinputs)\n",
    "    time.sleep(1)\n",
    "    print(f\"Player O has chosen action={action}\")    \n",
    "    state, reward, done, info = env.step(action)\n",
    "    env.render()\n",
    "    if done:\n",
    "        print(f\"Player O has won!\") \n",
    "        break  \n",
    "env.close()      "
   ]
  },
  {
   "cell_type": "markdown",
   "id": "791cedf2",
   "metadata": {},
   "source": [
    "Note that the outcome is different each time you run it because the actions are randomly chosen."
   ]
  },
  {
   "cell_type": "markdown",
   "id": "064889bb",
   "metadata": {},
   "source": [
    "## 2.2. Play the Game Manually\n",
    "Next, you’ll learn how to manually interact with the Tic Tac Toe game. You'll use the key board to enter a number between 1 and 9. The following lines of code show you how."
   ]
  },
  {
   "cell_type": "code",
   "execution_count": 7,
   "id": "aac17214",
   "metadata": {},
   "outputs": [
    {
     "name": "stdout",
     "output_type": "stream",
     "text": [
      "enter a move in the form of 1 to 9\n",
      "the current state is state=\n",
      "[[0 0 0]\n",
      " [0 0 0]\n",
      " [0 0 0]]\n",
      "Player X, what's your move?\n",
      "5\n",
      "Player X has chosen action=5\n",
      "the current state is state=\n",
      "[[0 0 0]\n",
      " [0 1 0]\n",
      " [0 0 0]]\n",
      "Player O, what's your move?\n",
      "1\n",
      "Player O has chosen action=1\n",
      "the current state is state=\n",
      "[[-1  0  0]\n",
      " [ 0  1  0]\n",
      " [ 0  0  0]]\n",
      "Player X, what's your move?\n",
      "7\n",
      "Player X has chosen action=7\n",
      "the current state is state=\n",
      "[[-1  0  0]\n",
      " [ 0  1  0]\n",
      " [ 1  0  0]]\n",
      "Player O, what's your move?\n",
      "2\n",
      "Player O has chosen action=2\n",
      "the current state is state=\n",
      "[[-1 -1  0]\n",
      " [ 0  1  0]\n",
      " [ 1  0  0]]\n",
      "Player X, what's your move?\n",
      "3\n",
      "Player X has chosen action=3\n",
      "Player X has won!\n"
     ]
    }
   ],
   "source": [
    "state=env.reset()   \n",
    "print(\"enter a move in the form of 1 to 9\")\n",
    "\n",
    "# Play a full game manually\n",
    "while True:\n",
    "    print(f\"the current state is \\n{state.reshape(3,3)}\")   \n",
    "    action=int(input(\"Player X, what's your move?\\n\"))\n",
    "    print(f\"Player X has chosen action={action}\")    \n",
    "    state, reward, done, info = env.step(action)\n",
    "    if done:\n",
    "        if reward==1:\n",
    "            print(f\"Player X has won!\") \n",
    "        else:\n",
    "            print(f\"It's a tie!\") \n",
    "        break\n",
    "    print(f\"the current state is \\n{state.reshape(3,3)}\")    \n",
    "    action=int(input(\"Player O, what's your move?\\n\"))\n",
    "    print(f\"Player O has chosen action={action}\")    \n",
    "    state, reward, done, info = env.step(action)\n",
    "    if done:\n",
    "        print(f\"Player O has won!\") \n",
    "        break   \n",
    "env.close()"
   ]
  },
  {
   "cell_type": "markdown",
   "id": "9bcbdf00",
   "metadata": {},
   "source": [
    "# 3. Think One Step Ahead\n",
    "To think one step ahead, the AI player will iterate through all possible next moves and check if any one of them leads to a win right away. If yes, the AI player will take the move. Otherwise, the AI player randomly selects a move. \n",
    "\n",
    "We'll first code in such an AI player. We'll then test the efficacy of the game strategy by letting it play against random moves and see how often the AI player wins. "
   ]
  },
  {
   "cell_type": "markdown",
   "id": "e18df585",
   "metadata": {},
   "source": [
    "## 3.1. Create an AI Player Who Thinks One Step Ahead\n",
    "We define a function AI_think1(). The function checks if there is a move that wins the game for the AI player right away. If yes, it returns the move. Otherwise, the function returns a value of None. \n",
    "\n",
    "Run the following code cell to define the function:"
   ]
  },
  {
   "cell_type": "code",
   "execution_count": 8,
   "id": "3557ff1d",
   "metadata": {},
   "outputs": [],
   "source": [
    "from copy import deepcopy\n",
    "\n",
    "def AI_think1():\n",
    "    # iterate through all possible next moves\n",
    "    for m in env.validinputs:\n",
    "        # make hypothetical moves\n",
    "        env_copy=deepcopy(env)\n",
    "        new_state, reward, done, info = env_copy.step(m) \n",
    "        # if the reward is 1 or -1, then the player wins\n",
    "        if done and abs(reward)==1:\n",
    "            return m                  \n",
    "    return None"
   ]
  },
  {
   "cell_type": "markdown",
   "id": "5d70b06c",
   "metadata": {},
   "source": [
    "Note that we have made the function general in the sense that it applies to both player X and player O. \n",
    "\n",
    "Next, we'll play against the AI player and make sure it's working the way we intended it to do. "
   ]
  },
  {
   "cell_type": "markdown",
   "id": "2ebaaecd",
   "metadata": {},
   "source": [
    "## 3.2. Play against the Think-One-Step-Ahead AI\n",
    "To play against the AI we just created, we define the following AI_vs_manual(player_function) function. "
   ]
  },
  {
   "cell_type": "code",
   "execution_count": 9,
   "id": "e9d23acb",
   "metadata": {},
   "outputs": [],
   "source": [
    "def AI_vs_manual(player_function):\n",
    "    manual=input(\"Do you want to be player X or O?\")\n",
    "    if manual==\"X\" or manual==\"x\":\n",
    "        player=\"X\"\n",
    "    if manual==\"O\" or manual==\"o\":\n",
    "        player=\"O\"    \n",
    "    state=env.reset()\n",
    "    print(f\"the current state is \\n{state.reshape(3,3)}\")\n",
    "    # if you chose X, you move first\n",
    "    if player==\"X\":\n",
    "        move=input(\"enter your move:\")\n",
    "        state,reward,done,_=env.step(int(move))\n",
    "        print(f\"you have chosen move {move}\")    \n",
    "    while True:       \n",
    "        # AI moves\n",
    "        AI_move=player_function()\n",
    "        if AI_move==None:\n",
    "            AI_move=random.choice(env.validinputs)\n",
    "        state,reward,done,_=env.step(AI_move)\n",
    "        print(f\"AI has chosen move {AI_move}\")\n",
    "        print(f\"the current state is \\n{state.reshape(3,3)}\")\n",
    "        if done and reward!=0:\n",
    "            print(\"the AI player won\")\n",
    "            break\n",
    "        if done and reward==0:\n",
    "            print(\"game over; it's a tie\") \n",
    "            break               \n",
    "        move=input(\"enter your move:\")\n",
    "        state,reward,done,_=env.step(int(move))\n",
    "        print(f\"you have chosen move {move}\")       \n",
    "        if done and reward!=0:\n",
    "            print(\"the human player won\")\n",
    "            break\n",
    "        if done and reward==0:\n",
    "            print(\"game over; it's a tie\")\n",
    "            break  "
   ]
  },
  {
   "cell_type": "markdown",
   "id": "d35e6969",
   "metadata": {},
   "source": [
    "The argument in the function, *player_function*, is a function name object in Python. Later when we have AI players such as AI_think2() or AI_think3(), we can also put it inside the AI_vs_manual() as an argument and play against those AI players manually. \n",
    "\n",
    "The function first ask whether you want to be player X or player O. If you enter X, you'll play first. Otherwise, you'll play second. \n",
    "\n",
    "Below, I call the AI_vs_manual() function and put AI_think1 as the argment, like so:"
   ]
  },
  {
   "cell_type": "code",
   "execution_count": 10,
   "id": "b4c0d713",
   "metadata": {},
   "outputs": [
    {
     "name": "stdout",
     "output_type": "stream",
     "text": [
      "Do you want to be player X or O?X\n",
      "the current state is state=\n",
      "[[0 0 0]\n",
      " [0 0 0]\n",
      " [0 0 0]]\n",
      "enter your move:5\n",
      "you have chosen move 5\n",
      "AI has chosen move 4\n",
      "the current state is state=\n",
      "[[ 0  0  0]\n",
      " [-1  1  0]\n",
      " [ 0  0  0]]\n",
      "enter your move:6\n",
      "you have chosen move 6\n",
      "AI has chosen move 1\n",
      "the current state is state=\n",
      "[[-1  0  0]\n",
      " [-1  1  1]\n",
      " [ 0  0  0]]\n",
      "enter your move:2\n",
      "you have chosen move 2\n",
      "AI has chosen move 7\n",
      "the current state is state=\n",
      "[[-1  1  0]\n",
      " [-1  1  1]\n",
      " [-1  0  0]]\n",
      "the AI player won\n"
     ]
    }
   ],
   "source": [
    "AI_vs_manual(AI_think1)"
   ]
  },
  {
   "cell_type": "markdown",
   "id": "7c79eb29",
   "metadata": {},
   "source": [
    "As you can see above, the AI player takes the winning move 7 and wins the game. \n",
    "\n",
    "As an exercise, you can call the AI_vs_manual() and use AI_think1 as its argument and play game with the AI player. Choose O at the beginning so that the AI player goes first. Create a chance for the AI to win and see if the AI player takes the winning move right away. "
   ]
  },
  {
   "cell_type": "markdown",
   "id": "39f92352",
   "metadata": {},
   "source": [
    "***\n",
    "$\\mathbf{\\text{Difference between Function Name and Calling of a Function}}$<br>\n",
    "***\n",
    "Pay attention to the difference between a function name and the calling of a function.\n",
    "For example, AI_think1 is just a function name, while AI_think() calls the\n",
    "function and executes all command lines in it. What a difference the parentheses make!\n",
    "\n",
    "***"
   ]
  },
  {
   "cell_type": "markdown",
   "id": "df19f616",
   "metadata": {},
   "source": [
    "## 3.3. Test the Efficacy of the Think-One-Step-Ahead AI\n",
    "Below, we'll define a function to simulate a game between two players, player 1 and player 2. The function returns the results of the game: 1 if player 1 wins, -1 if player 2 wins, and 0 if it's a tie. "
   ]
  },
  {
   "cell_type": "code",
   "execution_count": 11,
   "id": "7d70be56",
   "metadata": {},
   "outputs": [],
   "source": [
    "def test_a_game(player1,player2):   \n",
    "    env.reset()   \n",
    "    while True:       \n",
    "        move=player1()\n",
    "        if move==None:\n",
    "            move=random.choice(env.validinputs)\n",
    "        state,reward,done,_=env.step(move)\n",
    "        if done:\n",
    "            return reward            \n",
    "        move=player2()\n",
    "        if move==None:\n",
    "            move=random.choice(env.validinputs)\n",
    "        state,reward,done,_=env.step(move)\n",
    "        if done:\n",
    "            return reward "
   ]
  },
  {
   "cell_type": "markdown",
   "id": "1da6db75",
   "metadata": {},
   "source": [
    "Since we'll let the AI player play against a player who makes random moves, we'll also define a random_player() function below:"
   ]
  },
  {
   "cell_type": "code",
   "execution_count": 12,
   "id": "643bd004",
   "metadata": {},
   "outputs": [],
   "source": [
    "def random_player():               \n",
    "    return random.choice(env.validinputs)"
   ]
  },
  {
   "cell_type": "markdown",
   "id": "1c570024",
   "metadata": {},
   "source": [
    "We create a list *results* to store game outcomes. We simulate 1000 games and half the time, the AI player moves first and the other half, the AI player moves second. Whenever the AI player moves second, we multiple the outcome by -1 so that when a value 1 in the list *results* indicates that the AI player has won and the random player has lost. "
   ]
  },
  {
   "cell_type": "code",
   "execution_count": 13,
   "id": "176c2b71",
   "metadata": {},
   "outputs": [],
   "source": [
    "results=[]\n",
    "for i in range(1000):\n",
    "    # AI moves first if i is an even number\n",
    "    if i%2==0:\n",
    "        result=test_a_game(AI_think1,random_player)\n",
    "        # record game outcome\n",
    "        results.append(result)\n",
    "    # AI moves second if i is an odd number\n",
    "    else:\n",
    "        result=test_a_game(random_player,AI_think1)\n",
    "        # record negative of game outcome\n",
    "        results.append(-result)"
   ]
  },
  {
   "cell_type": "markdown",
   "id": "620495b9",
   "metadata": {},
   "source": [
    "We iterate i from 0 to 999. Whenever i is an even number, we simulate a game and let the AI player move first. The outcome is added to the list *results*: 1 means the first player (the AI player in this case) wins and -1 means the second player wins. Whenever i is an odd number, we simulate a game and let the random player move first. We then multiply the outcome by -1 so that 1 means the AI player has won. \n",
    "\n",
    "Run the above code cells so that we simulate 1000 games and get the outcome.\n",
    "\n",
    "Next, we count how many times the AI player has won by counting the number of 1s in the list *results*. Similarly, the number of -1s is the number of times the AI player has lost. Like so:"
   ]
  },
  {
   "cell_type": "code",
   "execution_count": 14,
   "id": "d1e19a63",
   "metadata": {},
   "outputs": [
    {
     "name": "stdout",
     "output_type": "stream",
     "text": [
      "the AI player has won 653 games\n",
      "the AI player has lost 272 games\n",
      "the game has tied 75 games\n"
     ]
    }
   ],
   "source": [
    "# count how many times AI player has won\n",
    "wins=results.count(1)\n",
    "print(f\"the AI player has won {wins} games\")\n",
    "# count how many times AI player has lost\n",
    "losses=results.count(-1)\n",
    "print(f\"the AI player has lost {losses} games\")\n",
    "# count tie games\n",
    "ties=results.count(0)\n",
    "print(f\"the game has tied {ties} games\")"
   ]
  },
  {
   "cell_type": "markdown",
   "id": "7a18db0a",
   "metadata": {},
   "source": [
    "Results show that the AI player has won 653 out of the 100 games; it has lost to the random player 272 times. There are a total of 75 tie games. This indicates that the think-one-step-ahead AI player is clearly better than a random player. "
   ]
  },
  {
   "cell_type": "markdown",
   "id": "f7373bfa",
   "metadata": {},
   "source": [
    "# 4. Think Two Steps Ahead\n",
    "To think two step ahead, the AI player first checks if any of the next moves leads to a win right away. If yes, the AI player takes the move. If not, the AI player checks if there is a combination of two moves (one for the AI player and one for the opponent) that leads to a win for the opponent. If yes, the AI player blocks the opponent's winning move. Otherwise, the AI player randomly selects a move. \n",
    "\n",
    "We'll first code in such an AI player who thinks two steps ahead. We'll then test the efficacy of the game strategy by letting it play against the AI player who thinks one step ahead and see how often the new AI player wins. "
   ]
  },
  {
   "cell_type": "markdown",
   "id": "0bd5e7d9",
   "metadata": {},
   "source": [
    "## 4.1. Create an AI Player Who Thinks Two Steps Ahead\n",
    "We define a function AI_think2(). The function first checks if there is a move that wins the game for the AI player right away. If yes, it returns the move. Otherwise, the function checks if the opponent has a winning move two steps ahead. If yes, it blocks the opponents' move. Otherwise, it returns a value of None. \n",
    "\n",
    "Run the following code cell to define the function:"
   ]
  },
  {
   "cell_type": "code",
   "execution_count": 15,
   "id": "d0f0dc85",
   "metadata": {},
   "outputs": [],
   "source": [
    "def AI_think2():\n",
    "    # See if there is a winning move \n",
    "    winner=AI_think1()\n",
    "    # if yes, take it\n",
    "    if winner is not None:\n",
    "        return winner\n",
    "    # otherwise, iterate through all possible next two moves\n",
    "    for m1 in env.validinputs:\n",
    "        for m2 in env.validinputs:\n",
    "            if m1!=m2:\n",
    "                env_copy=deepcopy(env)\n",
    "                s,r,done,_=env_copy.step(m1) \n",
    "                s,r,done,_=env_copy.step(m2)                     \n",
    "                # block your opponent's winning move\n",
    "                if done and r!=0:\n",
    "                    return m2 \n",
    "    # otherwise, return None               \n",
    "    return None"
   ]
  },
  {
   "cell_type": "markdown",
   "id": "f7a02e01",
   "metadata": {},
   "source": [
    "The function is applies to both player X and player O. \n",
    "\n",
    "Next, we'll play against the think-two-steps-ahead AI player and make sure it's working the way we intended it to do. "
   ]
  },
  {
   "cell_type": "markdown",
   "id": "6997e023",
   "metadata": {},
   "source": [
    "## 3.2. Play against the Think-Two-Steps-Ahead AI\n",
    "To play against the think-two-steps-ahead AI we just created, we use define the AI_vs_manual() function we have created before to play a game manually. "
   ]
  },
  {
   "cell_type": "markdown",
   "id": "84f085f8",
   "metadata": {},
   "source": [
    "We'll use AI_think2 as the argument in the AI_vs_manual() function. I'll choose to be player O this time."
   ]
  },
  {
   "cell_type": "code",
   "execution_count": 16,
   "id": "f34930dd",
   "metadata": {},
   "outputs": [
    {
     "name": "stdout",
     "output_type": "stream",
     "text": [
      "Do you want to be player X or O?O\n",
      "the current state is state=\n",
      "[[0 0 0]\n",
      " [0 0 0]\n",
      " [0 0 0]]\n",
      "AI has chosen move 8\n",
      "the current state is state=\n",
      "[[0 0 0]\n",
      " [0 0 0]\n",
      " [0 1 0]]\n",
      "enter your move:5\n",
      "you have chosen move 5\n",
      "AI has chosen move 4\n",
      "the current state is state=\n",
      "[[ 0  0  0]\n",
      " [ 1 -1  0]\n",
      " [ 0  1  0]]\n",
      "enter your move:7\n",
      "you have chosen move 7\n",
      "AI has chosen move 3\n",
      "the current state is state=\n",
      "[[ 0  0  1]\n",
      " [ 1 -1  0]\n",
      " [-1  1  0]]\n",
      "enter your move:2\n",
      "you have chosen move 2\n",
      "AI has chosen move 1\n",
      "the current state is state=\n",
      "[[ 1 -1  1]\n",
      " [ 1 -1  0]\n",
      " [-1  1  0]]\n",
      "enter your move:9\n",
      "you have chosen move 9\n",
      "AI has chosen move 6\n",
      "the current state is state=\n",
      "[[ 1 -1  1]\n",
      " [ 1 -1  1]\n",
      " [-1  1 -1]]\n",
      "game over; it's a tie\n"
     ]
    }
   ],
   "source": [
    "AI_vs_manual(AI_think2)"
   ]
  },
  {
   "cell_type": "markdown",
   "id": "a0e5889e",
   "metadata": {},
   "source": [
    "As you can see above, when I have pieces in cells 5 and 7, the AI player blocks cell 3 to prevent me from winning the game. Looks like the AI_player2() function can indeed think two steps ahead and block the opponent's winning move.  \n",
    "\n",
    "As an exercise, you can call the AI_vs_manual() and use AI_think2 as its argument and play a game with the AI player. Choose X at the beginning so that the AI player goes second. Create a winning opportunity for yourself and see if the AI blocks your winning move. "
   ]
  },
  {
   "cell_type": "markdown",
   "id": "dc9aa1f0",
   "metadata": {},
   "source": [
    "## 4.3. Test the Efficacy of the Think-Two-Steps-Ahead AI\n",
    "Below, we'll the test_a_game() function to test the efficacy of the think-two-steps-ahead AI against the think-one-step-ahead AI. "
   ]
  },
  {
   "cell_type": "markdown",
   "id": "2864dd05",
   "metadata": {},
   "source": [
    "We again create an empty list *results* to store game outcomes. We simulate 1000 games. Half the time, the think-one-step-ahead AI player moves first and the other half of the time, the think-two-steps-ahead AI player moves first. This way, one player has a first-mover advantage. second. Whenever the think-two-steps-aheadAI player moves second, we multiple the outcome by -1 so that when a value 1 in the list *results* indicates that the think-two-steps-ahead AI player has won and the think-one-step-ahead AI player has lost. "
   ]
  },
  {
   "cell_type": "code",
   "execution_count": 17,
   "id": "63d36b68",
   "metadata": {},
   "outputs": [],
   "source": [
    "results=[]\n",
    "for i in range(1000):\n",
    "    # think-two-steps-ahead AI moves first at even i\n",
    "    if i%2==0:\n",
    "        result=test_a_game(AI_think2,AI_think1)\n",
    "        # record game outcome\n",
    "        results.append(result)\n",
    "    # AI moves second if i is an odd number\n",
    "    else:\n",
    "        result=test_a_game(AI_think1,AI_think2)\n",
    "        # record negative of game outcome\n",
    "        results.append(-result)"
   ]
  },
  {
   "cell_type": "markdown",
   "id": "db1c3c19",
   "metadata": {},
   "source": [
    "We iterate i from 0 to 999. Whenever i is an even number, we simulate a game and let the think-two-steps-ahead AI player move first. The outcome is added to the list *results*: 1 means the think-two-steps-ahead player wins and -1 means the think-one-step-ahead AI player wins. Whenever i is an odd number, we simulate a game and let the think-one-step-ahead AI player move first. We then multiply the outcome by -1 so that 1 means the think-two-steps-ahead AI player has won. \n",
    "\n",
    "Run the above code cells so that we simulate 1000 games and get the outcome.\n",
    "\n",
    "Next, we count how many times the think-two-steps-ahead AI player has won by counting the number of 1s in the list *results*. Similarly, the number of -1s is the number of times the think-two-steps-ahead AI player has lost. Like so:"
   ]
  },
  {
   "cell_type": "code",
   "execution_count": 18,
   "id": "d07476eb",
   "metadata": {},
   "outputs": [
    {
     "name": "stdout",
     "output_type": "stream",
     "text": [
      "the think-two-steps-ahead AI player has won 773 games\n",
      "the think-two-steps-ahead AI player has lost 90 games\n",
      "the game has tied 137 games\n"
     ]
    }
   ],
   "source": [
    "# count how many times AI player has won\n",
    "wins=results.count(1)\n",
    "print(f\"the think-two-steps-ahead AI player has won {wins} games\")\n",
    "# count how many times AI player has lost\n",
    "losses=results.count(-1)\n",
    "print(f\"the think-two-steps-ahead AI player has lost {losses} games\")\n",
    "# count tie games\n",
    "ties=results.count(0)\n",
    "print(f\"the game has tied {ties} games\")"
   ]
  },
  {
   "cell_type": "markdown",
   "id": "e8b1c415",
   "metadata": {},
   "source": [
    "Results show that the think-two-steps-ahead AI player has won 773 out of the 1000 games; it has lost to the think-one-step-ahead player 90 times. There are a total of 137 tie games. This indicates that the think-two-step-ahead AI player is clearly better than the think-one-step-ahead AI player. "
   ]
  },
  {
   "cell_type": "markdown",
   "id": "21150dcc",
   "metadata": {},
   "source": [
    "# 5. Think Three Steps Ahead\n",
    "This next section will allow the AI player to think up to three steps ahead before taking its turn. If the AI player has no winning move in the next step and the opponent has no winning moves two steps ahead, the AI player will look three steps ahead.\n",
    "It will take the next move that most likely leads to a win in three steps. In particular, if there’s a next move that guarantees the AI player to win in three steps, the AI palyer will select that next move as the best one.\n",
    "Let’s use an example to demonstrate."
   ]
  },
  {
   "attachments": {
    "think3.png": {
     "image/png": "[encoded data removed]"
    }
   },
   "cell_type": "markdown",
   "id": "d84715aa",
   "metadata": {},
   "source": [
    "## 5.1. An Example of Winning in Three Steps\n",
    "Consider the example as illustrated in the figure below. Player X to move, and if it choose cell 2 as its next move, it can create a double attack and gurantee a win in three steps: Player X can win by placing a piece in cell 3 or cell 8 in three steps and win the game. Player O can either block cell 3 or cell 8, but not both. \n",
    "\n",
    "![think3.png](attachment:think3.png) "
   ]
  },
  {
   "cell_type": "markdown",
   "id": "fb8383c8",
   "metadata": {},
   "source": [
    "## 5.2. Create an AI Player Who Thinks Three Steps Ahead\n",
    "We define a function AI_think3(). The function checks if there is a move that wins the game for the AI player right away or if the opponent has a winning move two steps ahead. If not, the player looks three steps ahead and choose the move that most likely leads to a win.  \n",
    "\n",
    "Run the following code cell to define the function:"
   ]
  },
  {
   "cell_type": "code",
   "execution_count": 19,
   "id": "b0fc9783",
   "metadata": {},
   "outputs": [],
   "source": [
    "def AI_think3():\n",
    "    # See if there is a winning move \n",
    "    winner=AI_think1()\n",
    "    # if yes, take it\n",
    "    if winner is not None:\n",
    "        return winner\n",
    "    # check if opponent has a winning move\n",
    "    loser=AI_think2()\n",
    "    # if yes, block it\n",
    "    if loser is not None:\n",
    "        return loser\n",
    "    # look three steps ahead\n",
    "    w3=[]\n",
    "    for m1 in env.validinputs:\n",
    "        for m2 in env.validinputs:\n",
    "            for m3 in env.validinputs:\n",
    "                if m1!=m2 and m1!=m3 and m2!=m3:\n",
    "                    env_copy=deepcopy(env)\n",
    "                    s,r,done,_=env_copy.step(m1) \n",
    "                    s,r,done,_=env_copy.step(m2)   \n",
    "                    s,r,done,_=env_copy.step(m3)                    \n",
    "                    if done and r!=0:\n",
    "                        w3.append(m1) \n",
    "    # Choose the most frequent winner\n",
    "    if len(w3)>0:\n",
    "        return max(set(w3),key=w3.count)                \n",
    "    # Return None otherwise\n",
    "    return None"
   ]
  },
  {
   "cell_type": "markdown",
   "id": "840da4ef",
   "metadata": {},
   "source": [
    "The function is applies to both player X and player O. \n",
    "\n",
    "Next, we'll play against the think-two-steps-ahead AI player and make sure it's working the way we intended it to do. "
   ]
  },
  {
   "cell_type": "markdown",
   "id": "3f207d6d",
   "metadata": {},
   "source": [
    "## 5.3. Play against the Think-Three-Steps-Ahead AI\n",
    "To play against the think-three-steps-ahead AI we just created, we use define the AI_vs_manual() function we have created before to play a game manually. "
   ]
  },
  {
   "cell_type": "markdown",
   "id": "80af37ef",
   "metadata": {},
   "source": [
    "We'll use AI_think3 as the argument in the AI_vs_manual() function. I'll choose to be player O and create an opportunity for Player X to have a double attack."
   ]
  },
  {
   "cell_type": "code",
   "execution_count": 20,
   "id": "26a3bd78",
   "metadata": {},
   "outputs": [
    {
     "name": "stdout",
     "output_type": "stream",
     "text": [
      "Do you want to be player X or O?O\n",
      "the current state is state=\n",
      "[[0 0 0]\n",
      " [0 0 0]\n",
      " [0 0 0]]\n",
      "AI has chosen move 4\n",
      "the current state is state=\n",
      "[[0 0 0]\n",
      " [1 0 0]\n",
      " [0 0 0]]\n",
      "enter your move:2\n",
      "you have chosen move 2\n",
      "AI has chosen move 1\n",
      "the current state is state=\n",
      "[[ 1 -1  0]\n",
      " [ 1  0  0]\n",
      " [ 0  0  0]]\n",
      "enter your move:7\n",
      "you have chosen move 7\n",
      "AI has chosen move 5\n",
      "the current state is state=\n",
      "[[ 1 -1  0]\n",
      " [ 1  1  0]\n",
      " [-1  0  0]]\n",
      "enter your move:9\n",
      "you have chosen move 9\n",
      "AI has chosen move 6\n",
      "the current state is state=\n",
      "[[ 1 -1  0]\n",
      " [ 1  1  1]\n",
      " [-1  0 -1]]\n",
      "the AI player won\n"
     ]
    }
   ],
   "source": [
    "AI_vs_manual(AI_think3)"
   ]
  },
  {
   "cell_type": "markdown",
   "id": "ac0cf8c1",
   "metadata": {},
   "source": [
    "As you can see above, when the AI player places a piece in cell 5, it has created a double attack: it can win through cells 1, 5, 9, or through cells 4, 5, and 6. I can only block cell 6 or cell 9, but not both. So the AI player wins in three steps. \n",
    "\n",
    "As an exercise, you can call the AI_vs_manual() and use AI_think3 as its argument and play a game with the AI player. Choose O at the beginning so that the AI player goes first. Create an opportunity for the AI player to have a double attack and see if it indeed places a piece to create a double attack and win in three steps."
   ]
  },
  {
   "cell_type": "markdown",
   "id": "6572cd31",
   "metadata": {},
   "source": [
    "## 5.4. Test the Efficacy of the Think-Three-Steps-Ahead AI\n",
    "Below, we'll the test_a_game() function to test the efficacy of the think-three-steps-ahead AI against the think-two-steps-ahead AI. "
   ]
  },
  {
   "cell_type": "markdown",
   "id": "5a5e25a8",
   "metadata": {},
   "source": [
    "We again create an empty list *results* to store game outcomes. We simulate 1000 games. Half the time, the think-three-steps-ahead AI player moves first and the other half of the time, the think-two-steps-ahead AI player moves first. This way, no player has a first-mover advantage. second. Whenever the think-three-steps-ahead AI player moves second, we multiple the outcome by -1 so that a value 1 in the list *results* indicates that the think-three-steps-ahead AI player has won."
   ]
  },
  {
   "cell_type": "code",
   "execution_count": 21,
   "id": "bdb68745",
   "metadata": {},
   "outputs": [],
   "source": [
    "results=[]\n",
    "for i in range(1000):\n",
    "    # think-three-steps-ahead AI moves first at even i\n",
    "    if i%2==0:\n",
    "        result=test_a_game(AI_think3,AI_think2)\n",
    "        # record game outcome\n",
    "        results.append(result)\n",
    "    # think-three-steps-ahead AI moves second otherwise\n",
    "    else:\n",
    "        result=test_a_game(AI_think2,AI_think3)\n",
    "        # record negative of game outcome\n",
    "        results.append(-result)"
   ]
  },
  {
   "cell_type": "markdown",
   "id": "d04f060d",
   "metadata": {},
   "source": [
    "We iterate i from 0 to 999. Whenever i is an even number, we simulate a game and let the think-two-steps-ahead AI player move first. The outcome is added to the list *results*: 1 means the think-two-steps-ahead player wins and -1 means the think-one-step-ahead AI player wins. Whenever i is an odd number, we simulate a game and let the think-one-step-ahead AI player move first. We then multiply the outcome by -1 so that 1 means the think-two-steps-ahead AI player has won. \n",
    "\n",
    "Run the above code cells so that we simulate 1000 games and get the outcome.\n",
    "\n",
    "Next, we count how many times the think-two-steps-ahead AI player has won by counting the number of 1s in the list *results*. Similarly, the number of -1s is the number of times the think-two-steps-ahead AI player has lost. Like so:"
   ]
  },
  {
   "cell_type": "code",
   "execution_count": 22,
   "id": "0be4d7ec",
   "metadata": {},
   "outputs": [
    {
     "name": "stdout",
     "output_type": "stream",
     "text": [
      "the think-three-steps-ahead AI player has won 323 games\n",
      "the think-three-steps-ahead AI player has lost 302 games\n",
      "the game has tied 375 games\n"
     ]
    }
   ],
   "source": [
    "# count how many times AI player has won\n",
    "wins=results.count(1)\n",
    "print(f\"the think-three-steps-ahead AI player has won {wins} games\")\n",
    "# count how many times AI player has lost\n",
    "losses=results.count(-1)\n",
    "print(f\"the think-three-steps-ahead AI player has lost {losses} games\")\n",
    "# count tie games\n",
    "ties=results.count(0)\n",
    "print(f\"the game has tied {ties} games\")"
   ]
  },
  {
   "cell_type": "markdown",
   "id": "da324945",
   "metadata": {},
   "source": [
    "Results show that the think-two-steps-ahead AI player has won 323 out of the 1000 games; it has lost to the think-one-step-ahead player 302 times. There are a total of 375 tie games. This indicates that the think-three-step-ahead AI player is slightly better than the think-two-steps-ahead AI player. "
   ]
  }
 ],
 "metadata": {
  "kernelspec": {
   "display_name": "Python 3 (ipykernel)",
   "language": "python",
   "name": "python3"
  },
  "language_info": {
   "codemirror_mode": {
    "name": "ipython",
    "version": 3
   },
   "file_extension": ".py",
   "mimetype": "text/x-python",
   "name": "python",
   "nbconvert_exporter": "python",
   "pygments_lexer": "ipython3",
   "version": "3.9.12"
  }
 },
 "nbformat": 4,
 "nbformat_minor": 5
}
