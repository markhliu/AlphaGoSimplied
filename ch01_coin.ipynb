{
 "cells": [
  {
   "cell_type": "markdown",
   "id": "653089c9",
   "metadata": {},
   "source": [
    "# Chapter 1: Rule-Based AI in Last Coin Standing"
   ]
  },
  {
   "cell_type": "markdown",
   "id": "54ae7c8b",
   "metadata": {},
   "source": [
    "This chapter introduces you to the game of last coin standing (a.k.a., the coin game). We'll create an artificial intelligence (AI) strategy that's rule-based. It plays perfectly once the rules are enforced: the second player always wins.\n",
    "\n",
    "The purpose of this chapter is threefold. First, it creates a game environment for the coin game and provides a perfect solution to the game based on rule-based AI. Second, later in this book, we'll develop strategies for the coin game based on other algorithms such as MiniMax, Monte Carlo Tree Search, deep learning, deep reinforcement learning. We'll use rule-based AI developed in this chapter to test the effectiveness of game strategies in later chapters. Third, later in this book, when we train deep learning or deep reinforcement learning game strategies (such as the actor-critic method), we need to simulate games. The stronger the players in simulated games, the better the trained game strategies. We'll use rule-based AI developed in this chapter to siumlate games and train deep learnong models or deep reinforcement models. \n",
    "\n",
    "Nonetheless, the main takeaway from this chapter is that rule-based AI can be very effective in many situations. In fact, rule-based AI (including look-ahead search that we'll discuss later in this book) led to the victory of Deep Blue against the world Chess champion Gary Kasparov in 1997. \n",
    "\n",
    "Before you get started, create a folder /Desktop/ai/ on your computer's desktop. Each chapter is contained in a separate Jupyter Notebook named ch01.ipynb, ch02.ipynb and so on. The local modules and are stored in the subfolder /Desktop/ai/utils/. "
   ]
  },
  {
   "cell_type": "code",
   "execution_count": 1,
   "id": "0e8bbe3e",
   "metadata": {},
   "outputs": [],
   "source": [
    "import os\n",
    "\n",
    "os.makedirs(\"utils\", exist_ok=True)\n",
    "os.makedirs(\"files/ch01/\", exist_ok=True)"
   ]
  },
  {
   "cell_type": "markdown",
   "id": "d7fa60ec",
   "metadata": {},
   "source": [
    "Place an empty file __init__.py inside the folder /Desktop/ai/utils/ so that Python treats it as a local package. Further, download the file cash.png from the book's GitHub repository and place it in the folder /Desktop/ai/files/ch01/ on your computer. "
   ]
  },
  {
   "cell_type": "markdown",
   "id": "d963a4e3",
   "metadata": {},
   "source": [
    "# 1. The Coin Game\n",
    "This section discusses the game rules and the solution to the coin game. \n",
    "## 1.1. Game Rules\n",
    "In the last coin standing game, there are 21 coins in a pile. Two players take turns to remove coins from the pile. Each player can take either one or two coins from the pile in each turn. Players are not allowed to skip a turn or take more than two coins at a time. The player who takes the last coin in the pile wins the game.\n",
    "\n",
    "There are different versions of the game. In some versions, the player who takes the last coin loses. In other versions, a player can take either one, two, or three coins in each turn. No matter which version we use, the central message of this chapter remains the same: rule-based AI can work very effectively."
   ]
  },
  {
   "cell_type": "markdown",
   "id": "22d2dd43",
   "metadata": {},
   "source": [
    "## 1.2. Implement Game Rules\n",
    "We’ll write a simple Python program to implement the game rules. Open a new cell in the Jupyter notebook and enter the following code in it. Here you are playing again a computer player who makes random moves. Use your keyboard to enter numbers 1 or 2 to play a game."
   ]
  },
  {
   "cell_type": "code",
   "execution_count": 2,
   "id": "89c2964a",
   "metadata": {},
   "outputs": [
    {
     "name": "stdout",
     "output_type": "stream",
     "text": [
      "player 1 chooses 1; 20 remaining\n",
      "what's your choice?\n",
      "2\n",
      "you have chosen 2;  18 remaining\n",
      "player 1 chooses 1; 17 remaining\n",
      "what's your choice?\n",
      "2\n",
      "you have chosen 2;  15 remaining\n",
      "player 1 chooses 2; 13 remaining\n",
      "what's your choice?\n",
      "2\n",
      "you have chosen 2;  11 remaining\n",
      "player 1 chooses 2; 9 remaining\n",
      "what's your choice?\n",
      "2\n",
      "you have chosen 2;  7 remaining\n",
      "player 1 chooses 2; 5 remaining\n",
      "what's your choice?\n",
      "2\n",
      "you have chosen 2;  3 remaining\n",
      "player 1 chooses 1; 2 remaining\n",
      "what's your choice?\n",
      "2\n",
      "you have chosen 2;  0 remaining\n",
      "game over; player 2 won\n"
     ]
    }
   ],
   "source": [
    "from random import choice\n",
    "\n",
    "coins = 21\n",
    "while True:\n",
    "    # Player 1 moves first, randomly\n",
    "    move1 = choice([1,2])\n",
    "    coins=coins-move1\n",
    "    print(f'player 1 chooses {move1}; {coins} remaining')\n",
    "    # Check if the game has ended\n",
    "    if coins<=0:\n",
    "        print('game over; player 1 won')\n",
    "        break \n",
    "    # Player 2 moves after that\n",
    "    while True:\n",
    "        try:\n",
    "            move2 = int(input('what\\'s your choice?\\n'))\n",
    "            if int(move2)==1 or int(move2)==2:\n",
    "                break\n",
    "        except:\n",
    "            print(\"please enter a number in the form of 1 or 2\")   \n",
    "    coins = coins - int(move2)\n",
    "    print(f\"you have chosen {move2};  {coins} remaining\")\n",
    "    # Check if the game has ended\n",
    "    if coins<=0:\n",
    "        print('game over; player 2 won')\n",
    "        break    "
   ]
  },
  {
   "cell_type": "markdown",
   "id": "eb1dceb0",
   "metadata": {},
   "source": [
    "The computer makes the first move and randomly selects a valid move: 1 or 2. When it’s your turn, you can enter either 1 or 2 as your move. If you enter anything other than 1 or 2, the program will remind you to enter a valid move and let you re-try. After either the computer or you make a move, the program checks if the game is over. If not, it goes to the next player. \n",
    "\n",
    "I entered the number 2 every move to speed up the game. The results show that I have won. \n",
    "\n",
    "Run the above cell and play against the computer and see if you can figure out a winning strategy. Note that the computer player's moves are different each time you play because the moves are random."
   ]
  },
  {
   "cell_type": "markdown",
   "id": "983c5579",
   "metadata": {},
   "source": [
    "## 1.3. A Winning Strategy"
   ]
  },
  {
   "cell_type": "markdown",
   "id": "6d794163",
   "metadata": {},
   "source": [
    "You may have figured out a winning strategy. The second player will always win if he/she follows this rule: make sure that the number of coins in the pile is a multiple of three. The pile starts with 21 coins, so it's already a multiple of three. Therefore, if the player 1 takes 1, player 2 should take 2; if the player 1 takes 2, player 2 should take 1. With this rule, player 2 will leave 18, 15, 12, 9, 6, and eventually 3 coins in the pile. Once there are three coins in the pile when it's player 1's turn to play, player 2 will win for sure. \n",
    "\n",
    "Play the game again using the above winning strategy.  \n",
    "\n",
    "Next, we'll create a game environment for the Last Coin Standing game. We'll also add a graphical game board using the Python turtles library."
   ]
  },
  {
   "cell_type": "markdown",
   "id": "c3717302",
   "metadata": {},
   "source": [
    "# 2. Create A Coin Game Environment "
   ]
  },
  {
   "cell_type": "markdown",
   "id": "9179c9ab",
   "metadata": {},
   "source": [
    "We'll create a Last Coin Standing game environment, using the *turtle* library to draw game boards. We’ll create all the attributes and methods that a typical OpenAI Gym environment has. We do this so that later in the book, it's easy for us to train deep reinforcement learning game strategies for the game.  "
   ]
  },
  {
   "cell_type": "markdown",
   "id": "79c437e8",
   "metadata": {},
   "source": [
    "## 2.1. A Python Class to Represent the Coin Game\n",
    "We’ll create a Python class to represent the coin game environment. The class will have various attributes and methods to replicate those in a typical OpenAI Gym game environment. \n",
    "\n",
    "Specifically, our self-made coin game environment has the following attributes:\n",
    "*\tagents: there are two agents in the coin game environment, players 1 and 2.\n",
    "*   action_space: an attribute that provides the space of all actions that can be taken by an agent. The action space will have two values, 1 and 2.\n",
    "*\tobservation_space: an attribute that provides the list of all possible states in the environment. We'll use an integer number between 0 and 21 to represent the number of coins left in the pile. \n",
    "*\tstate: an attribute indicating which state an agent is currently in. The state is the number of coins left in the pile, which can take an integer number between 0 and 21.\n",
    "*\taction: an attribute indicating the action taken by an agent. The action is eihter 1 or 2.\n",
    "*\treward: an attribute indicating the reward to the agents because of the actions taken by them. The reward is 0 in each step, unless a player has won the game. The reward is 1 to the winner and -1 to the loser. Note that there is no tie game. \n",
    "*\tdone: an attribute indicating whether the game has ended. This happens when one player wins and there is no coin left in the pile.\n",
    "*\tinfo: an attribute that provides information about the game. We'll set it as an empty string \"\". "
   ]
  },
  {
   "cell_type": "markdown",
   "id": "63f9996e",
   "metadata": {},
   "source": [
    "our self-made Coin game environment will have a few methods as well:\n",
    "*\treset() is a method to set the game environment to the initial (that is, the starting) state. Player 1 has the turn and there are 21 coins in the pile.\n",
    "*\trender() is a method showing the current state of the environment graphically.\n",
    "*\tstep() is a method that returns the new state, the reward, the value of the *done* variable, and the varibale *info* based on the action taken by an agent.\n",
    "*\tsample() is a method to randomly choose an action from the action space.\n",
    "*\tclose() is a method to end the game environment, including stopping displaying the graph of the current state of the game board."
   ]
  },
  {
   "cell_type": "markdown",
   "id": "de2d7767",
   "metadata": {},
   "source": [
    "## 2.2. Create A Local Module for the Coin Game\n",
    "We'll create a local module for the Coin game and place it inside the local package for this book: the package *utils* that we have created earlier in this chapter. Make sure you have an emplty file named $__init__.py$ inside the /utils folder so that Python can recognize it as a local package. "
   ]
  },
  {
   "cell_type": "markdown",
   "id": "7252a608",
   "metadata": {},
   "source": [
    "Now let's code in a self-made coin game environment using a Python class. Save the code in the cell below as *coin_env.py* in the folder *utils* you created for this book. Alternatively, you can download it from the book's GitHub repository. "
   ]
  },
  {
   "cell_type": "code",
   "execution_count": 3,
   "id": "f575ec78",
   "metadata": {},
   "outputs": [],
   "source": [
    "import turtle as t\n",
    "from random import choice\n",
    "from tkinter import messagebox\n",
    "from tkinter import PhotoImage\n",
    "import time\n",
    "import numpy as np\n",
    "\n",
    "# Define an action_space helper class\n",
    "class action_space:\n",
    "    def __init__(self, n):\n",
    "        self.n = n\n",
    "    def sample(self):\n",
    "        num = np.random.choice(range(self.n))\n",
    "        # covert to 1 to 9 in string format \n",
    "        action = str(1+num)\n",
    "        return action\n",
    "    \n",
    "# Define an obervation_space helper class    \n",
    "class observation_space:\n",
    "    def __init__(self, n):\n",
    "        self.shape = (n,)\n",
    "\n",
    "class coin_game():\n",
    "    def __init__(self): \n",
    "        # use the helper action_space class\n",
    "        self.action_space=action_space(2)\n",
    "        # use the helper observation_space class\n",
    "        self.observation_space=observation_space(1)\n",
    "        self.info=\"\"  \n",
    "        self.showboard=False   \n",
    "        # set the game to the initial state\n",
    "        self.reset()\n",
    "    def reset(self):  \n",
    "        # The player 1 moves first\n",
    "        self.turn = 1\n",
    "        # Count how many coins left\n",
    "        self.state = 21\n",
    "        # Create a list of valid moves\n",
    "        self.validinputs = [1, 2] if self.state>2 else [1]\n",
    "        # Whether the game is over\n",
    "        self.done=False\n",
    "        self.reward=0\n",
    "        self.move=0\n",
    "        return self.state               \n",
    "    # step() function: make a move and update state\n",
    "    def step(self, inp):\n",
    "        # choice of the move must be 1 or 2\n",
    "        assert int(inp)==1 or int(inp)==2\n",
    "        if self.state==1:\n",
    "            self.move=1\n",
    "        else:\n",
    "            self.move=int(inp)\n",
    "        # update the state\n",
    "        self.state -= self.move\n",
    "        # check if the player has won the game\n",
    "        if self.state == 0:\n",
    "            self.done=True\n",
    "            # reward is 1 if player 1 won; -1 otherwise\n",
    "            self.reward=2*(self.turn==1)-1\n",
    "        # Give the turn to the other player\n",
    "        if self.turn == 1:\n",
    "            self.turn = 2\n",
    "        else:\n",
    "            self.turn = 1             \n",
    "        return self.state, self.reward, self.done, self.info\n",
    "    def display_board(self):\n",
    "        # Set up the screen\n",
    "        try:\n",
    "            t.setup(600,500,10,70) \n",
    "        except t.Terminator:\n",
    "            t.setup(600,500,10,70)   \n",
    "        t.tracer(False)\n",
    "        t.hideturtle()\n",
    "        t.bgcolor(\"lavender\")\n",
    "        t.title(\"Last Coin Standing\")\n",
    "        # Create a second turtle to show coins left\n",
    "        self.left = t.Turtle()\n",
    "        self.left.up()\n",
    "        self.left.hideturtle()\n",
    "        self.left.goto(-120,-200)\n",
    "        self.left.write(f\"Coins left:   {self.state}\", \n",
    "                        font = ('Arial',30,'normal'))\n",
    "        self.left.up()\n",
    "        self.left.goto(-200,150)\n",
    "        self.left.write(f\"Player {self.turn}'s turn to move\",\n",
    "                        font = ('Arial',30,'normal'))\n",
    "        # Load a picture of the coin\n",
    "        coin = PhotoImage(file = \"cash.png\").subsample(10,10)\n",
    "        t.addshape(\"coin\", t.Shape(\"image\", coin))\n",
    "        # Create 21 coin on screen \n",
    "        self.coins = [0]*21\n",
    "        for i in range(21):\n",
    "            self.coins[i] = t.Turtle('coin')\n",
    "            self.coins[i].up()\n",
    "            self.coins[i].goto(-150+50*(i//3),50-50*(i%3))\n",
    "        t.update()\n",
    "    def render(self):\n",
    "        if self.showboard==False:\n",
    "            self.display_board()\n",
    "            self.showboard=True   \n",
    "        # Update the number of coins left\n",
    "        self.left.clear()\n",
    "        self.left.goto(-120,-200)\n",
    "        self.left.write(f\"Coins left:   {self.state}\", \n",
    "                        font = ('Arial',30,'normal'))\n",
    "        self.left.goto(-200,150)\n",
    "        self.left.write(f\"Player {self.turn}'s turn to move\",\n",
    "                        font = ('Arial',30,'normal'))\n",
    "        # Remove coins       \n",
    "        if self.move==1:\n",
    "            self.coins[self.state].hideturtle()              \n",
    "        if self.move==2:\n",
    "            self.coins[self.state+1].hideturtle()\n",
    "            self.coins[self.state].hideturtle()                    \n",
    "        t.update()                    \n",
    "    def close(self):\n",
    "        time.sleep(1)\n",
    "        try:\n",
    "            t.bye()\n",
    "        except t.Terminator:\n",
    "            print('exit turtle')"
   ]
  },
  {
   "cell_type": "markdown",
   "id": "05110e83",
   "metadata": {},
   "source": [
    "If you run the above cell, nothing will happen. The class simply creates a game environment. We need to initiate the game environment and start playing using Python programs, just as you do with an OpenAI Gym game environment. We'll do that in the next subsections."
   ]
  },
  {
   "cell_type": "markdown",
   "id": "eee28a4e",
   "metadata": {},
   "source": [
    "## 2.3. Verify the Custom-Made Game Environment\n",
    "Next, we'll check the attributes and methods of the self-made game environment and make sure it has all the elements that are provided by a typical OpenAI Gym game environment. \n",
    "\n",
    "First we'll initiate the game environment and show the game board."
   ]
  },
  {
   "cell_type": "code",
   "execution_count": 4,
   "id": "a847d4fe",
   "metadata": {},
   "outputs": [],
   "source": [
    "from utils.coin_env import coin_game\n",
    "\n",
    "env = coin_game()\n",
    "env.reset()                    \n",
    "env.render()"
   ]
  },
  {
   "attachments": {
    "image.png": {
     "image/png": "[encoded data removed]"
    }
   },
   "cell_type": "markdown",
   "id": "06e6bd0a",
   "metadata": {},
   "source": [
    "You should see a separate turtle game window, with a game board as follows: \n",
    "![image.png](attachment:image.png)"
   ]
  },
  {
   "cell_type": "markdown",
   "id": "0977029b",
   "metadata": {},
   "source": [
    "If you want to close the game board window, use the *close()* method, like so:"
   ]
  },
  {
   "cell_type": "code",
   "execution_count": 5,
   "id": "439f093e",
   "metadata": {},
   "outputs": [
    {
     "name": "stdout",
     "output_type": "stream",
     "text": [
      "exit turtle\n"
     ]
    }
   ],
   "source": [
    "env.close()"
   ]
  },
  {
   "cell_type": "markdown",
   "id": "69105bfa",
   "metadata": {},
   "source": [
    "Next, we'll check the attributes of the game environment such as the observation space and action space. "
   ]
  },
  {
   "cell_type": "code",
   "execution_count": 6,
   "id": "15b9c0d7",
   "metadata": {},
   "outputs": [
    {
     "name": "stdout",
     "output_type": "stream",
     "text": [
      "the number of possible actions are 2\n",
      "the following are ten sample actions\n",
      "1\n",
      "1\n",
      "1\n",
      "2\n",
      "1\n",
      "1\n",
      "2\n",
      "2\n",
      "2\n",
      "2\n",
      "the shape of the observation space is (1,)\n"
     ]
    }
   ],
   "source": [
    "env=coin_game()\n",
    "# check the action space\n",
    "number_actions=env.action_space.n\n",
    "print(\"the number of possible actions are\",number_actions)\n",
    "# sample the action space ten times\n",
    "print(\"the following are ten sample actions\")\n",
    "for i in range(10):\n",
    "   print(env.action_space.sample())\n",
    "# check the shape of the observation space\n",
    "print(\"the shape of the observation space is\",\\\n",
    "      env.observation_space.shape)"
   ]
  },
  {
   "cell_type": "markdown",
   "id": "79fa1ae9",
   "metadata": {},
   "source": [
    "Results above show that there are two possible actions that can be taken by the agent. The meanings of the actions in this game are as follows\n",
    "• 1: Removing one coin from the pile\n",
    "• 2: Removing two coins from the pile\n",
    "The sample() method returns an action from the action space randomly. The state\n",
    "space is a scalar: a number indicating how many coins left in the pile. "
   ]
  },
  {
   "cell_type": "markdown",
   "id": "fe6f879a",
   "metadata": {},
   "source": [
    "# 3. Play Games in the Coin Game Environment\n",
    "Next, we'll play games in the custom-made environment. Let’s first play a game by randomly choosing an action from the action space each step for both players. After that, you'll play a game manually against a computer player who makes random moves."
   ]
  },
  {
   "cell_type": "markdown",
   "id": "fe83ac2f",
   "metadata": {},
   "source": [
    "## 3.1. Play A Complete Game"
   ]
  },
  {
   "cell_type": "markdown",
   "id": "6e5af973",
   "metadata": {},
   "source": [
    "Here we'll play a complete game, by randomly choosing an action from the action space each step."
   ]
  },
  {
   "cell_type": "code",
   "execution_count": 7,
   "id": "f44d0601",
   "metadata": {},
   "outputs": [
    {
     "name": "stdout",
     "output_type": "stream",
     "text": [
      "the current state is state=21\n",
      "Player 1 has chosen 2\n",
      "the current state is state=19\n",
      "Player 2 has chosen 2\n",
      "the current state is state=17\n",
      "Player 1 has chosen 2\n",
      "the current state is state=15\n",
      "Player 2 has chosen 1\n",
      "the current state is state=14\n",
      "Player 1 has chosen 1\n",
      "the current state is state=13\n",
      "Player 2 has chosen 1\n",
      "the current state is state=12\n",
      "Player 1 has chosen 1\n",
      "the current state is state=11\n",
      "Player 2 has chosen 1\n",
      "the current state is state=10\n",
      "Player 1 has chosen 1\n",
      "the current state is state=9\n",
      "Player 2 has chosen 1\n",
      "the current state is state=8\n",
      "Player 1 has chosen 1\n",
      "the current state is state=7\n",
      "Player 2 has chosen 1\n",
      "the current state is state=6\n",
      "Player 1 has chosen 1\n",
      "the current state is state=5\n",
      "Player 2 has chosen 1\n",
      "the current state is state=4\n",
      "Player 1 has chosen 1\n",
      "the current state is state=3\n",
      "Player 2 has chosen 2\n",
      "the current state is state=1\n",
      "Player 1 has chosen 2\n",
      "the current state is state=0\n",
      "Player 1 has won!\n"
     ]
    }
   ],
   "source": [
    "import time\n",
    "import random\n",
    "\n",
    "env = coin_game()\n",
    "env.reset()   \n",
    "env.render()\n",
    "print(f\"the current state is state={env.state}\") \n",
    "while True:   \n",
    "    action = random.choice(env.validinputs)\n",
    "    time.sleep(1)\n",
    "    print(f\"Player {env.turn} has chosen {action}\")    \n",
    "    state, reward, done, info = env.step(action)\n",
    "    env.render()\n",
    "    print(f\"the current state is state={env.state}\") \n",
    "    if done:\n",
    "        if reward==1:\n",
    "            print(\"Player 1 has won!\") \n",
    "        else:\n",
    "            print(\"Player 2 has won!\") \n",
    "        break\n",
    "env.close()      "
   ]
  },
  {
   "cell_type": "markdown",
   "id": "791cedf2",
   "metadata": {},
   "source": [
    "The output above shows that player 1 has won. Run the above code cell several times yourself. You'll noitice that the output is different each time you run it because the moves are random."
   ]
  },
  {
   "cell_type": "markdown",
   "id": "064889bb",
   "metadata": {},
   "source": [
    "## 3.2. Play the Coin Game Manually\n",
    "Next, you’ll learn how to manually interact with the coin game environment. You'll use the keyboard to enter either 1 or 2. We'll make the game similar to the one we create at the beginning of this chapter when we didn't use the game environment. \n",
    "\n",
    "The following lines of code show you how."
   ]
  },
  {
   "cell_type": "code",
   "execution_count": 8,
   "id": "aac17214",
   "metadata": {},
   "outputs": [
    {
     "name": "stdout",
     "output_type": "stream",
     "text": [
      "the current state is state=21\n",
      "Player 1 has chosen 2\n",
      "what's your choice?\n",
      "1\n",
      "Player 2 has chosen 1\n",
      "the current state is state=18\n",
      "Player 1 has chosen 1\n",
      "what's your choice?\n",
      "2\n",
      "Player 2 has chosen 2\n",
      "the current state is state=15\n",
      "Player 1 has chosen 2\n",
      "what's your choice?\n",
      "1\n",
      "Player 2 has chosen 1\n",
      "the current state is state=12\n",
      "Player 1 has chosen 1\n",
      "what's your choice?\n",
      "2\n",
      "Player 2 has chosen 2\n",
      "the current state is state=9\n",
      "Player 1 has chosen 2\n",
      "what's your choice?\n",
      "1\n",
      "Player 2 has chosen 1\n",
      "the current state is state=6\n",
      "Player 1 has chosen 1\n",
      "what's your choice?\n",
      "2\n",
      "Player 2 has chosen 2\n",
      "the current state is state=3\n",
      "Player 1 has chosen 2\n",
      "what's your choice?\n",
      "1\n",
      "Player 2 has chosen 1\n",
      "the current state is state=0\n",
      "Player 2 has won!\n"
     ]
    }
   ],
   "source": [
    "# Initiate the game environment\n",
    "env=coin_game()\n",
    "env.reset()   \n",
    "env.render()\n",
    "print(f\"the current state is state={env.state}\")\n",
    "# Play a full game manually\n",
    "while True:\n",
    "    action = random.choice(env.validinputs)\n",
    "    time.sleep(1)\n",
    "    print(f\"Player {env.turn} has chosen {action}\")    \n",
    "    state, reward, done, info = env.step(action)\n",
    "    env.render()\n",
    "    print(f\"the current state is state={env.state}\")\n",
    "    if done:      \n",
    "        print(\"Player 1 has won!\") \n",
    "        break\n",
    "    # Player 2 moves after that\n",
    "    while True:\n",
    "        try:\n",
    "            move2 = int(input('what\\'s your choice?\\n'))\n",
    "            if int(move2)==1 or int(move2)==2:\n",
    "                break\n",
    "        except:\n",
    "            print(\"please enter a number in the form of 1 or 2\")\n",
    "    action = move2\n",
    "    print(f\"Player {env.turn} has chosen {action}\")    \n",
    "    state, reward, done, info = env.step(action)\n",
    "    env.render()\n",
    "    print(f\"the current state is state={env.state}\")\n",
    "    if done:\n",
    "        print(\"Player 2 has won!\") \n",
    "        break   \n",
    "env.close()        "
   ]
  },
  {
   "cell_type": "markdown",
   "id": "3c19c3de",
   "metadata": {},
   "source": [
    "Here I am playing second, and I used the winning strategy: if player chooses 1, I choose 2; if player chooses 2, I choose 1. As a result, I have won the game."
   ]
  },
  {
   "cell_type": "markdown",
   "id": "9bcbdf00",
   "metadata": {},
   "source": [
    "# 4. Build A Rule-Based AI for the Coin Game\n",
    "In this section, you’ll learn to create a rule-based AI with the winning strategy. After that, you'll use the strategy to play games and test its effectiveness. \n",
    "\n",
    "Later in this book, you'll design various types of game strategies such as MiniMax, Monte Carlo Tree Search, Deep Q-Learning and so on. We'll often test the efficacy of these strategies. Therefore, in this chapter, you'll get used to writing programs to test AI game strategies. You'll also use different players to play against each other such as random players versus AI, AI versus AI, and so on."
   ]
  },
  {
   "cell_type": "markdown",
   "id": "d8e0b2e3",
   "metadata": {},
   "source": [
    "## 4.1. An AI Player in the Coin Game\n",
    "Below you'll create an AI game strategy based on the game state:"
   ]
  },
  {
   "cell_type": "code",
   "execution_count": 9,
   "id": "2036b4ef",
   "metadata": {},
   "outputs": [],
   "source": [
    "def rule_based_AI(state):\n",
    "    if state%3 != 0:\n",
    "        move = state%3\n",
    "    else:\n",
    "        move = random.choice([1,2])\n",
    "    return move"
   ]
  },
  {
   "cell_type": "markdown",
   "id": "e3978655",
   "metadata": {},
   "source": [
    "The AI player will choose a move based on the game state (that is, how many coins left in the pile). If the game state is a multiple of 3, the AI player randomly chooses 1 or 2. Otherwise, the AI player chooses the reminder of the state divided by 3: doing this ensures that the number of coins left in the pile is a multiple of three. "
   ]
  },
  {
   "cell_type": "markdown",
   "id": "0bfc1362",
   "metadata": {},
   "source": [
    "We'll also create a random player who randomly picks a number from 1 and 2."
   ]
  },
  {
   "cell_type": "code",
   "execution_count": 10,
   "id": "0e1ef70c",
   "metadata": {},
   "outputs": [],
   "source": [
    "def random_player(state):\n",
    "    move = random.choice([1,2])\n",
    "    return move"
   ]
  },
  {
   "cell_type": "markdown",
   "id": "b87f08c3",
   "metadata": {},
   "source": [
    "Even though we use the state as an input, the move made by the random player is independent of the state. It returns 1 or 2 randomly. "
   ]
  },
  {
   "cell_type": "markdown",
   "id": "cd8c5b19",
   "metadata": {},
   "source": [
    "## 4.2. Simulate One Coin Game\n",
    "We'll create a function that simulates one game. We can choose the two players as the two arguments of the function, like so:"
   ]
  },
  {
   "cell_type": "code",
   "execution_count": 11,
   "id": "fc2f8827",
   "metadata": {},
   "outputs": [],
   "source": [
    "# Define the one_game() function\n",
    "def one_game(player1, player2):\n",
    "    env = coin_game()\n",
    "    env.reset()     \n",
    "    while True:    \n",
    "        action = player1(env.state)  \n",
    "        new_state, reward, done, info = env.step(action)\n",
    "        if done:\n",
    "            break\n",
    "        action = player2(env.state)  \n",
    "        new_state, reward, done, info = env.step(action)\n",
    "        if done:\n",
    "            break            \n",
    "    return reward      "
   ]
  },
  {
   "cell_type": "markdown",
   "id": "db511f44",
   "metadata": {},
   "source": [
    "Note here we don't use the render() method in the one_game() to speed up game simulation. As a result, you won't see the game board. \n",
    "\n",
    "The one_game() function simulates one full game. That is, the simulation stops only when a player wins. The function returns the reward of the game. We can infer the outcome from the reward: if the reward is 1, player 1 has won; if the reward is -1, player 2 has won. "
   ]
  },
  {
   "cell_type": "markdown",
   "id": "c6ece520",
   "metadata": {},
   "source": [
    "# 5. Test the Efficacy of the AI Player\n",
    "Next, we’ll test how often the AI palyer wins when the it plays against a random player. We also look at the game outcomes when two AI players play against each other."
   ]
  },
  {
   "cell_type": "markdown",
   "id": "2b12d465",
   "metadata": {},
   "source": [
    "## 5.1. Rule-Based AI Against A Random Player\n",
    "First, we simulate 1000 games when the AI player moves first and plays against a random player. "
   ]
  },
  {
   "cell_type": "code",
   "execution_count": 12,
   "id": "d392cd5b",
   "metadata": {},
   "outputs": [
    {
     "name": "stdout",
     "output_type": "stream",
     "text": [
      "The AI player has won 993 games\n",
      "The AI player has lost 7 games\n"
     ]
    }
   ],
   "source": [
    "# Simulate 1000 games and record all outcomes\n",
    "results=[]        \n",
    "for x in range(1000):\n",
    "    result=one_game(rule_based_AI, random_player)\n",
    "    results.append(result)    \n",
    "# Print out the number of games that AI won\n",
    "wins=results.count(1)\n",
    "print(f\"The AI player has won {wins} games\")\n",
    "# Print out the number of games that AI lost\n",
    "losses=results.count(-1)\n",
    "print(f\"The AI player has lost {losses} games\")                 "
   ]
  },
  {
   "cell_type": "markdown",
   "id": "5a6b8f32",
   "metadata": {},
   "source": [
    "The AI palyer has won 993 games out of 1000. It lost the rest 7 games. Considering that if both players plays perfectly, the first player loses 100% of the time, the AI player has done a great job, winning more than 99% of the time when playing first. \n",
    "\n",
    "Note that when you run the above cell, you are likely to get a different outcome, but you should see the AI player wins about 99% of the time. "
   ]
  },
  {
   "cell_type": "markdown",
   "id": "a694613c",
   "metadata": {},
   "source": [
    "Next, we test how often the AI player wins if it plays second."
   ]
  },
  {
   "cell_type": "markdown",
   "id": "c79e01d2",
   "metadata": {},
   "source": [
    "We simulate 1000 games when the AI player moves second and plays against a random player. Specifically, when calling the one_game() function, we put random_player as the first argument and rule_based_AI as the second argument."
   ]
  },
  {
   "cell_type": "code",
   "execution_count": 13,
   "id": "dd4f2a9e",
   "metadata": {},
   "outputs": [
    {
     "name": "stdout",
     "output_type": "stream",
     "text": [
      "The AI player has won 0 games\n",
      "The AI player has lost 1000 games\n"
     ]
    }
   ],
   "source": [
    "# Simulate 1000 games and record all outcomes\n",
    "results=[]        \n",
    "for x in range(1000):\n",
    "    # important: put AI player second here\n",
    "    result=one_game(random_player, rule_based_AI)\n",
    "    results.append(result)    \n",
    "# Print out the number of games that AI won\n",
    "wins=results.count(-1)\n",
    "print(f\"The AI player has won {wins} games\")\n",
    "# Print out the number of games that AI lost\n",
    "losses=results.count(1)\n",
    "print(f\"The AI player has lost {losses} games\")                 "
   ]
  },
  {
   "cell_type": "markdown",
   "id": "4aecca99",
   "metadata": {},
   "source": [
    "Since the AI player now plays second, a game outcome is -1 means that the AI player wins. The above results show that the AI palyer has won all 1000 games. Run the above cell youself multiple times. You will get the same outcome each time because the AI player has a perfect winning strategy. "
   ]
  },
  {
   "cell_type": "markdown",
   "id": "02dbd9ff",
   "metadata": {},
   "source": [
    "Next, we test what is the outcome if two AI players play against each other."
   ]
  },
  {
   "cell_type": "markdown",
   "id": "4394870b",
   "metadata": {},
   "source": [
    "## 5.2. Both Players Use Rule-Based AI\n",
    "In this subsection, we simulate 1000 games when both players use the rule-based AI game strategy we developed above. \n",
    "\n",
    "Specifically, when calling the one_game() function, we put rule_based_AI as both the first and the second argument."
   ]
  },
  {
   "cell_type": "code",
   "execution_count": 14,
   "id": "cf6ad664",
   "metadata": {},
   "outputs": [
    {
     "name": "stdout",
     "output_type": "stream",
     "text": [
      "The first AI player has won 0 games\n",
      "The second AI player has won 1000 games\n"
     ]
    }
   ],
   "source": [
    "# Simulate 1000 games and record all outcomes\n",
    "results=[]        \n",
    "for x in range(1000):\n",
    "    # important: put AI player second here\n",
    "    result=one_game(rule_based_AI, rule_based_AI)\n",
    "    results.append(result)    \n",
    "# Print out the number of games that first player won\n",
    "wins1=results.count(1)\n",
    "print(f\"The first AI player has won {wins1} games\")\n",
    "# Print out the number of games that second AI won\n",
    "wins2=results.count(-1)\n",
    "print(f\"The second AI player has won {wins2} games\")                 "
   ]
  },
  {
   "cell_type": "markdown",
   "id": "a92ef0ed",
   "metadata": {},
   "source": [
    "The above results show that the second AI palyer has won all 1000 games. Run the above cell youself, you will get the same outcome, because the when both players play perfectly, the second player always wins."
   ]
  }
 ],
 "metadata": {
  "kernelspec": {
   "display_name": "Python 3 (ipykernel)",
   "language": "python",
   "name": "python3"
  },
  "language_info": {
   "codemirror_mode": {
    "name": "ipython",
    "version": 3
   },
   "file_extension": ".py",
   "mimetype": "text/x-python",
   "name": "python",
   "nbconvert_exporter": "python",
   "pygments_lexer": "ipython3",
   "version": "3.9.12"
  }
 },
 "nbformat": 4,
 "nbformat_minor": 5
}
