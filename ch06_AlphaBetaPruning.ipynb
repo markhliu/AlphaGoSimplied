{
 "cells": [
  {
   "cell_type": "markdown",
   "id": "653089c9",
   "metadata": {},
   "source": [
    "# Chapter 6: Alpha-Beta Pruning\n",
    "\n",
    "As you can see from Chapter 5, the minimax algorithm takes too long to make a move even with depth pruning. In this chapter, you'll use alpha beta pruning to save time by not searching certain branches that cannot possibly influence the final game outcome. \n",
    "\n",
    "To implement alpha-beta pruning, we keep track of two numbers: alpha and beta, the best outcome so far for players 1 and 2, respectively. Whenever we have alpha>-beta, or equivalently beta>-alpha, the minimax algorithm stop search a branch. \n",
    "\n",
    "We implement alpha-beta pruning in both Tic Tac Toe and Connect Four in this chapter. We show that the outcomes are the same with and without alpha-beta pruning. We also show that alpha-beta pruning saves significant amount of time for the player to find optimal moves. For example, in Tic Tac Toe, the amount of time for the minimax agent to come up with the first move decreases from 29 seconds without alpha-beta pruning to 1.6 seconds with alpha-beta pruning, a 94% reduction in the amount of time the minimax agent needs to come up with a move. "
   ]
  },
  {
   "cell_type": "markdown",
   "id": "e3b25bf6",
   "metadata": {},
   "source": [
    "***\n",
    "$\\mathbf{\\text{Create a subfolder for files in Chapter 6}}$<br>\n",
    "***\n",
    "We'll put all files in Chapter 6 in a subfolder /files/ch06. Run the code in the cell below to create the subfolder.\n",
    "\n",
    "***"
   ]
  },
  {
   "cell_type": "code",
   "execution_count": 1,
   "id": "117477d3",
   "metadata": {},
   "outputs": [],
   "source": [
    "import os\n",
    "\n",
    "os.makedirs(\"files/ch06\", exist_ok=True)"
   ]
  },
  {
   "cell_type": "markdown",
   "id": "282ad876",
   "metadata": {},
   "source": [
    "## 1. What is Alpha Beta Pruning?"
   ]
  },
  {
   "attachments": {
    "node0.png": {
     "image/png": "[encoded data removed]"
    }
   },
   "cell_type": "markdown",
   "id": "de2d7767",
   "metadata": {},
   "source": [
    "Let's first implement alpha-beta pruning in Tic Tac Toe and understand how it works. \n",
    "\n",
    "We use alpha to record the best outcome so far for Player X, and beta the best outcome for Player O. \n",
    "\n",
    "To demonstrate the idea behind alpha-beta pruning, let's assume the board in a Tic Tac Toe game is as follows: \n",
    "\n",
    "![node0.png](attachment:node0.png)\n",
    "\n",
    "Both Player X and Player O have made three moves. Now it's Player X's turn. First, assume that Player X uses minimax tree search to find the best next move. Next, we'll count how many branches Player X has to search. "
   ]
  },
  {
   "cell_type": "markdown",
   "id": "4db31da9",
   "metadata": {},
   "source": [
    "## 1.1. Minimax Tree Search without Pruning"
   ]
  },
  {
   "cell_type": "markdown",
   "id": "7252a608",
   "metadata": {},
   "source": [
    "Without pruning, Player X will search over six different scenarios:\n",
    "* Player X occupy 2; O occupy 3; X occupy 9; payoff to X is 0 and payoff to O is 0;\n",
    "* Player X occupy 2; O occupy 9; X occupy 3; payoff to X is 1 and payoff to O is -1;\n",
    "* Player X occupy 3; O occupy 2; payoff to X is -1 and payoff to O is 1;\n",
    "* Player X occupy 3; O occupy 9; X occupy 2; payoff to X is 1 and payoff to O is -1;\n",
    "* Player X occupy 9; O occupy 2; payoff to X is -1 and payoff to O is 1;\n",
    "* Player X occupy 9; O occupy 3; X occupy 2; payoff to X is 0 and payoff to O is 0;"
   ]
  },
  {
   "cell_type": "markdown",
   "id": "52ddc025",
   "metadata": {},
   "source": [
    "Since Player X knows that Player O chooses moves to maximize Player O's payoff, Player X anticipates the following outcomes:\n",
    "* Player X occupy 2; O occupy 3; payoff to X is 0 and payoff to O is 0;\n",
    "* Player X occupy 3; O occupy 2; payoff to X is -1 and payoff to O is 1;\n",
    "* Player X occupy 9; O occupy 2; payoff to X is -1 and payoff to O is 1;"
   ]
  },
  {
   "cell_type": "markdown",
   "id": "05110e83",
   "metadata": {},
   "source": [
    "Therefore, Player X knows that her payoffs would be 0, -1 and -1, respectively if she were to choose cells 2, 3, and 9 in the next step. As a result, Player X will choose cell 2 in the next step. \n",
    "\n",
    "To summarize, without pruning, Player X needs to search for six different scenarios to come up with the best next move, which is cell 2. \n",
    "\n",
    "Next, we'll demonstrate that Player X can actually reach the same conclusion by searching over only four different scenarios by using alpha-beta pruning.  "
   ]
  },
  {
   "cell_type": "markdown",
   "id": "eee28a4e",
   "metadata": {},
   "source": [
    "## 1.2. Minimax Tree Search with Alpha-Beta Pruning\n",
    "With alpha-beta pruning, we can exclude certain branches of the search tree to save time. This, in turn, makes the tree search algorithm more powerful because it allows the AI players to search more branches in a fixed amount of time and come up with better strategies. \n",
    "\n",
    "We use alpha and beta to denote the best outcomes so far for the first player and the second player, respectively. At any point of the search process, if alpha>-beta (or equivalently, beta>-alpha), we stop searching the branch. \n",
    "\n",
    "Now, let's go back to the example in the last subsection where Player X needs to decide to place a game piece in cell 2, 3, or 9. With alpha-beta pruning, we can reduce the number of searches. \n",
    "\n",
    "Before start searching, let's set alpha and beta to -2. Since the worst outcome for either player is -1 (i.e., losing the game), setting the initial value to -2 guarantee that we keep accurate record of the two players' best payoffs so far."
   ]
  },
  {
   "cell_type": "markdown",
   "id": "8cfdfde6",
   "metadata": {},
   "source": [
    "After searching over the first two paths\n",
    "* Player X occupy 2; O occupy 3; X occupy 9; payoff to X is 0 and payoff to O is 0;\n",
    "* Player X occupy 2; O occupy 9; X occupy 3; payoff to X is 1 and payoff to O is -1;\n",
    "\n",
    "Player X knows that the outcome from placing a piece in cell 2 is a tie. So we record alpha=0 and beta=0. \n",
    "\n",
    "Next, player X starts to search on what happens if she places a piece in cell 3 instead. If she were to do that, Player O can place a piece in cell 2 and win. Therefore, after searching over the third path\n",
    "* Player X occupy 3; O occupy 2; payoff to X is -1 and payoff to O is 1;\n",
    "\n",
    "we update the value of beta to 1. At this point, since alpha>-beta (alpha is 1 and beta is 0), we don't need to spend time on the fourth scenario. \n",
    "\n",
    "Similarly, when player X starts to search on what happens if she places a piece in cell 9 instead, after searching over the fifth path\n",
    "* Player X occupy 9; O occupy 2; payoff to X is -1 and payoff to O is 1;\n",
    "\n",
    "we update the value of beta to 1. At this point, since beta>-alpha (or equivalently, alpha>-beta), we don't need to spend time on the sixth scenario. \n",
    "\n",
    "In summary, without alpha-beta pruning, Player X only needs to search for four different scenarios to come up with the best next move, which is also cell 2. "
   ]
  },
  {
   "cell_type": "markdown",
   "id": "b57ebd81",
   "metadata": {},
   "source": [
    "## 1.3. Math behind the Alpha Beta Pruning\n",
    "If we use the payoff to the first player to denote the game outcome, then the first palyer tries to maximize the game outcome while the second palyer tries to minimize the game outcome. Hence the name minimax algorithm.\n",
    "\n",
    "In the example above, the game outcome as denoted by the payoff to the first player (player X) are as follows:\n",
    "* Player X occupy 2; O occupy 3; X occupy 9; game outcome is 0;\n",
    "* Player X occupy 2; O occupy 9; X occupy 3; game outcome is 1;\n",
    "* Player X occupy 3; O occupy 2; game outcome is -1;\n",
    "* Player X occupy 3; O occupy 9; X occupy 2; game outcome is 1;\n",
    "* Player X occupy 9; O occupy 2; game outcome is -1;\n",
    "* Player X occupy 9; O occupy 3; X occupy 2; game outcome is 0;\n",
    "\n",
    "Therefore, the minimax algorithm comes up with the following solution:\n",
    "\n",
    "`Game outcome = max{min{0,1},min{-1,1},min{-1,0}}`\n",
    "\n",
    "which leads to \n",
    "\n",
    "`Game outcome = max{0,-1,-1}=0`\n",
    "\n",
    "If we use the alpha-beta pruning, we can ignore path 4 and path 6, which leads to \n",
    "\n",
    "`Game outcome = max{min{0,1},min{-1,path4_outcome},min{-1,path6_outcome}}`\n",
    "\n",
    "Since min{-1,?} cannot be greater than -1, while min{0,1}=0. The game outcome will be 0 no matter what the outcomes from path 4 and path 6 are. That is, we know for sure that \n",
    "\n",
    "`Game outcome = max{min{0,1},min{-1,path4_outcome},min{-1,path6_outcome}}=0`\n",
    "\n",
    "without knowing the exact values of path4_outcome and path6_outcome. "
   ]
  },
  {
   "cell_type": "markdown",
   "id": "5cbe6000",
   "metadata": {},
   "source": [
    "# 2. Alpha-Beta Pruning in Tic Tac Toe"
   ]
  },
  {
   "cell_type": "markdown",
   "id": "e1417875",
   "metadata": {},
   "source": [
    "In Chapter 5, you have seen that it took the minimax agent 29 seconds to make the first move in Tic Tac Toe. In this section, you'll learn to create a minimax agent with alpha-beta pruning and achieve the same results but less time. \n",
    "\n",
    "We'll modify the functions we used in Chapter 5 for the Tic Tac Toe minimax agent to incorporate the idea of alpha-beta pruning. "
   ]
  },
  {
   "cell_type": "markdown",
   "id": "7710c0ce",
   "metadata": {},
   "source": [
    "## 2.1. The maximized_payoff_ttt() Function\n",
    "We'll define a maximized_payoff_ttt() function. The function is similar to the maximized_payoff() function we defined in the Chapter 5. However, there are two important differences. First, the function keeps track of the best outcomes so far for players X and O and call them alpha and beta, respectively. Second, whenever the condition alpha>-beta (or equivalently beta>-alpha) is met, the algorithm stops searching the current branch.  \n",
    "\n",
    "The maximized_payoff_ttt() function is defined as follows. It's saved in the file ch06util.py, which you can download from the book's GitHub repository. "
   ]
  },
  {
   "cell_type": "code",
   "execution_count": 2,
   "id": "6b94f675",
   "metadata": {},
   "outputs": [],
   "source": [
    "def maximized_payoff_ttt(env,reward,done,alpha,beta):\n",
    "    # if the game has ended after the previous player's move\n",
    "    if done:\n",
    "        # if it's not a tie\n",
    "        if reward!=0:\n",
    "            return -1\n",
    "        else:\n",
    "            return 0\n",
    "    if alpha==None:\n",
    "        alpha=-2\n",
    "    if beta==None:\n",
    "        beta=-2\n",
    "    if env.turn==\"X\":\n",
    "        best_payoff = alpha\n",
    "    if env.turn==\"O\":\n",
    "        best_payoff = beta         \n",
    "    # iterate through all possible moves\n",
    "    for m in env.validinputs:\n",
    "        env_copy=deepcopy(env)\n",
    "        state,reward,done,info=env_copy.step(m)  \n",
    "        # If I make this move, what's the opponent's response?\n",
    "        opponent_payoff=maximized_payoff_ttt(env_copy,\\\n",
    "                                     reward,done,alpha,beta)\n",
    "        # Opponent's payoff is the opposite of your payoff\n",
    "        my_payoff=-opponent_payoff \n",
    "        if my_payoff > best_payoff:        \n",
    "            best_payoff = my_payoff\n",
    "            if env.turn==\"X\":\n",
    "                alpha=best_payoff\n",
    "            if env.turn==\"O\":\n",
    "                beta=best_payoff \n",
    "        # skip the rest of the branch        \n",
    "        if alpha>=-beta:\n",
    "            break        \n",
    "    return best_payoff         "
   ]
  },
  {
   "cell_type": "markdown",
   "id": "36b208ef",
   "metadata": {},
   "source": [
    "Note this function applies to both Player X and Player O. The main difference here is that whenever the condition alpha>=-beta or beta>=-alpha is met, the player stop searching the rest of the branch when the hypothetical move m is taken. "
   ]
  },
  {
   "cell_type": "markdown",
   "id": "db6cead4",
   "metadata": {},
   "source": [
    "## 2.2. The minimax_ttt() Function\n",
    "We also define a minimax_ttt() function to produce the best move for the minimax agent. Instead of using one function for player X and one for player O, we crate the minimax_ttt() function for both players. \n",
    "\n",
    "The minimax_ttt() function is defined as follows. It's saved in the file ch06util.py that you just downloaded. "
   ]
  },
  {
   "cell_type": "code",
   "execution_count": 3,
   "id": "06ef98d9",
   "metadata": {},
   "outputs": [],
   "source": [
    "def minimax_ttt(env):\n",
    "    wins=[]\n",
    "    ties=[]\n",
    "    losses=[]  \n",
    "    # iterate through all possible next moves\n",
    "    for m in env.validinputs:\n",
    "        # make a hypothetical move and see what happens\n",
    "        env_copy=deepcopy(env)\n",
    "        state,reward,done,info=env_copy.step(m) \n",
    "        # If player X wins right away with move m, take it.\n",
    "        if done and reward!=0:\n",
    "            return m \n",
    "        # See what's the best response from the opponent\n",
    "        opponent_payoff=maximized_payoff_ttt(env_copy,\\\n",
    "                                     reward,done,-2,-2)  \n",
    "        # Opponent's payoff is the opposite of your payoff\n",
    "        my_payoff=-opponent_payoff \n",
    "        if my_payoff==1:\n",
    "            wins.append(m)\n",
    "        elif my_payoff==0:\n",
    "            ties.append(m)\n",
    "        else:\n",
    "            losses.append(m)\n",
    "    # pick winning moves if there is any        \n",
    "    if len(wins)>0:\n",
    "        return choice(wins)\n",
    "    # otherwise pick tying moves\n",
    "    elif len(ties)>0:\n",
    "        return choice(ties)\n",
    "    return choice(losses)      "
   ]
  },
  {
   "cell_type": "markdown",
   "id": "842bfefc",
   "metadata": {},
   "source": [
    "The minimax_ttt() function has just one argument: env, which is the game environment. It's similar to the minimax() function we defined in Chapter 5, with the exception that when a agent tries to figure out what's the opponent's payoff, the function maximized_payoff_ttt() is used."
   ]
  },
  {
   "cell_type": "markdown",
   "id": "0838d4e3",
   "metadata": {},
   "source": [
    "## 2.3. Time Saved by Alpha-Beta Pruning\n",
    "Next, we test how fast is the depth-pruned minimax agent. We let the agent play first again and measure how long it takes for the agent to make a move."
   ]
  },
  {
   "cell_type": "code",
   "execution_count": 4,
   "id": "20703e88",
   "metadata": {},
   "outputs": [
    {
     "name": "stdout",
     "output_type": "stream",
     "text": [
      "Player X has chosen action=7\n",
      "It took the agent 1.6124515533447266 seconds\n",
      "the current state is \n",
      "[[0 0 0]\n",
      " [0 0 0]\n",
      " [1 0 0]]\n",
      "Player O, what's your move?\n",
      "6\n",
      "Player O has chosen action=6\n",
      "the current state is \n",
      "[[ 0  0  0]\n",
      " [ 0  0 -1]\n",
      " [ 1  0  0]]\n",
      "Player X has chosen action=5\n",
      "It took the agent 0.08851099014282227 seconds\n",
      "the current state is \n",
      "[[ 0  0  0]\n",
      " [ 0  1 -1]\n",
      " [ 1  0  0]]\n",
      "Player O, what's your move?\n",
      "3\n",
      "Player O has chosen action=3\n",
      "the current state is \n",
      "[[ 0  0 -1]\n",
      " [ 0  1 -1]\n",
      " [ 1  0  0]]\n",
      "Player X has chosen action=9\n",
      "It took the agent 0.006987094879150391 seconds\n",
      "the current state is \n",
      "[[ 0  0 -1]\n",
      " [ 0  1 -1]\n",
      " [ 1  0  1]]\n",
      "Player O, what's your move?\n",
      "1\n",
      "Player O has chosen action=1\n",
      "the current state is \n",
      "[[-1  0 -1]\n",
      " [ 0  1 -1]\n",
      " [ 1  0  1]]\n",
      "Player X has chosen action=8\n",
      "It took the agent 0.0009725093841552734 seconds\n",
      "the current state is \n",
      "[[-1  0 -1]\n",
      " [ 0  1 -1]\n",
      " [ 1  1  1]]\n",
      "Player X has won!\n"
     ]
    }
   ],
   "source": [
    "from utils.ch06util import minimax_ttt\n",
    "from utils.ttt_simple_env import ttt\n",
    "import time\n",
    "\n",
    "# Initiate the game environment\n",
    "env=ttt()\n",
    "state=env.reset()   \n",
    "# Play a full game manually\n",
    "while True:\n",
    "    # Mesure how long it takes to come up with a move\n",
    "    start=time.time()\n",
    "    action = minimax_ttt(env)\n",
    "    end=time.time()\n",
    "    print(f\"Player X has chosen action={action}\") \n",
    "    print(f\"It took the agent {end-start} seconds\")     \n",
    "    state, reward, done, info = env.step(action)\n",
    "    print(f\"the current state is \\n{state.reshape(3,3)}\")\n",
    "    if done:\n",
    "        if reward==1:\n",
    "            print(f\"Player X has won!\")  \n",
    "        else:\n",
    "            print(\"Game over, it's a tie!\")\n",
    "        break   \n",
    "    action = input(\"Player O, what's your move?\\n\")\n",
    "    print(f\"Player O has chosen action={action}\")    \n",
    "    state, reward, done, info = env.step(int(action))\n",
    "    print(f\"the current state is \\n{state.reshape(3,3)}\")\n",
    "    if done:\n",
    "        print(f\"Player O has won!\") \n",
    "        break"
   ]
  },
  {
   "cell_type": "markdown",
   "id": "975a7d1a",
   "metadata": {},
   "source": [
    "It took only 1.6 seconds for the minimax agent to make the first move, instead of 29 seconds when alpha-beta pruning is not used. That's a huge improvement on the efficiency of the algorithm without affecting the effectiveness of the agent. "
   ]
  },
  {
   "cell_type": "markdown",
   "id": "58df6cd7",
   "metadata": {},
   "source": [
    "# 3. Test Minimax with Alpha-Beta Pruning\n",
    "Next, we’ll make sure that the minimax algorith with alpha-beta pruning is as powerful as the minimax algorithm without pruning.  \n",
    "\n",
    "Below, we play ten games between the two algorithms. We let the minimax agent with alpha-beta pruning play first in five games and play second in the other five, like so:"
   ]
  },
  {
   "cell_type": "code",
   "execution_count": 5,
   "id": "0c3d78a2",
   "metadata": {},
   "outputs": [],
   "source": [
    "from utils.ch05util import minimax_X,minimax_O,test_ttt_game \n",
    "from utils.ch06util import minimax_ttt \n",
    "\n",
    "results=[]\n",
    "for i in range(10):\n",
    "    # minimax with pruning moves first if i is an even number\n",
    "    if i%2==0:\n",
    "        result=test_ttt_game(env,minimax_ttt,minimax_O)\n",
    "        # record game outcome\n",
    "        results.append(result)\n",
    "    # minimax with pruning moves second if i is an odd number\n",
    "    else:\n",
    "        result=test_ttt_game(env,minimax_X,minimax_ttt)\n",
    "        # record negative of game outcome\n",
    "        results.append(-result)"
   ]
  },
  {
   "cell_type": "markdown",
   "id": "060fa1bb",
   "metadata": {},
   "source": [
    "We now count how many times the minimax agent with pruning has won and lost."
   ]
  },
  {
   "cell_type": "code",
   "execution_count": 6,
   "id": "787481ac",
   "metadata": {},
   "outputs": [
    {
     "name": "stdout",
     "output_type": "stream",
     "text": [
      "the minimax agent has won 0 games\n",
      "the minimax agent has lost 0 games\n",
      "the game has tied 10 times\n"
     ]
    }
   ],
   "source": [
    "# count how many times minimax with pruning won\n",
    "wins=results.count(1)\n",
    "print(f\"the minimax agent has won {wins} games\")\n",
    "# count how many times minimax with pruning lost\n",
    "losses=results.count(-1)\n",
    "print(f\"the minimax agent has lost {losses} games\")\n",
    "# count tie games\n",
    "ties=results.count(0)\n",
    "print(f\"the game has tied {ties} times\")          "
   ]
  },
  {
   "cell_type": "markdown",
   "id": "4907880a",
   "metadata": {},
   "source": [
    "The above results show that all ten games are tied. This indicates that the minimax agent with alpha-beta pruning is as effective as the minimax agent without pruning. "
   ]
  },
  {
   "cell_type": "markdown",
   "id": "44a3674b",
   "metadata": {},
   "source": [
    "# 4. Alpha-Beta Pruning in Connect Four\n",
    "In Connect Four, even with alpha-beta pruning, it still takes forever for the minimax agent to make a move if we don't using depth pruning. We therefore combine alpha-beta pruning with depth pruning to make the game faster. \n",
    "\n",
    "As in Chapter 3, we'll keep the depth to 3 so that we can compare the speed with and without alpha-beta pruning. "
   ]
  },
  {
   "cell_type": "markdown",
   "id": "3daff7f0",
   "metadata": {},
   "source": [
    "## 4.1. Add Alpha-Beta Pruning in Connect Four\n",
    "We first create a couple of functions in the local module ch06util."
   ]
  },
  {
   "cell_type": "code",
   "execution_count": 7,
   "id": "9eecbe91",
   "metadata": {},
   "outputs": [],
   "source": [
    "def max_payoff_conn(env,reward,done,depth,alpha,beta):\n",
    "    # if the game has ended after the previous player's move\n",
    "    if done:\n",
    "        # if it's not a tie\n",
    "        if reward!=0:\n",
    "            return -1\n",
    "        else:\n",
    "            return 0\n",
    "    # If the maximum depth is reached, assume tie game\n",
    "    if depth==0:\n",
    "        return 0    \n",
    "    if alpha==None:\n",
    "        alpha=-2\n",
    "    if beta==None:\n",
    "        beta=-2\n",
    "    if env.turn==\"red\":\n",
    "        best_payoff = alpha\n",
    "    if env.turn==\"yellow\":\n",
    "        best_payoff = beta         \n",
    "    # iterate through all possible moves\n",
    "    for m in env.validinputs:\n",
    "        env_copy=deepcopy(env)\n",
    "        state,reward,done,info=env_copy.step(m)  \n",
    "        # If I make this move, what's the opponent's response?\n",
    "        opponent_payoff=max_payoff_conn(env_copy,\\\n",
    "                                reward,done,depth-1,alpha,beta)\n",
    "        # Opponent's payoff is the opposite of your payoff\n",
    "        my_payoff=-opponent_payoff \n",
    "        if my_payoff > best_payoff:        \n",
    "            best_payoff = my_payoff\n",
    "            if env.turn==\"red\":\n",
    "                alpha=best_payoff\n",
    "            if env.turn==\"yellow\":\n",
    "                beta=best_payoff   \n",
    "        # Skip the rest of the branch\n",
    "        if alpha>=-beta:\n",
    "            break        \n",
    "    return best_payoff        "
   ]
  },
  {
   "cell_type": "markdown",
   "id": "0da7af50",
   "metadata": {},
   "source": [
    "This function uses both depth pruning and alpha-beta pruning. It's similar to the max_payoff() function we defined in Chapter 5, but added in alpha-beta pruning. You can see the above function in the file ch06util.py as well."
   ]
  },
  {
   "cell_type": "markdown",
   "id": "8a3dac14",
   "metadata": {},
   "source": [
    "Another function we define is minimax_conn(), as follows:"
   ]
  },
  {
   "cell_type": "code",
   "execution_count": 8,
   "id": "4f1d6271",
   "metadata": {},
   "outputs": [],
   "source": [
    "def minimax_conn(env,depth=3):\n",
    "    wins=[]\n",
    "    ties=[]\n",
    "    losses=[]  \n",
    "    # iterate through all possible next moves\n",
    "    for m in env.validinputs:\n",
    "        # make a hypothetical move and see what happens\n",
    "        env_copy=deepcopy(env)\n",
    "        state,reward,done,info=env_copy.step(m) \n",
    "        # If player X wins right away with move m, take it.\n",
    "        if done and reward!=0:\n",
    "            return m \n",
    "        # See what's the best response from the opponent\n",
    "        opponent_payoff=max_payoff_conn(env_copy,\\\n",
    "                            reward,done,depth,-2,-2)  \n",
    "        # Opponent's payoff is the opposite of your payoff\n",
    "        my_payoff=-opponent_payoff \n",
    "        if my_payoff==1:\n",
    "            wins.append(m)\n",
    "        elif my_payoff==0:\n",
    "            ties.append(m)\n",
    "        else:\n",
    "            losses.append(m)\n",
    "    # pick winning moves if there is any        \n",
    "    if len(wins)>0:\n",
    "        return choice(wins)\n",
    "    # otherwise pick tying moves\n",
    "    elif len(ties)>0:\n",
    "        return choice(ties)\n",
    "    return choice(losses)      "
   ]
  },
  {
   "cell_type": "markdown",
   "id": "52de1100",
   "metadata": {},
   "source": [
    "It's similar to the function minimax() we defined in Chapter 5. Here we added in alpha-beta pruning in addition to the depth pruning. The default depth is 3, but you have the option to change it. "
   ]
  },
  {
   "cell_type": "markdown",
   "id": "3cf67f75",
   "metadata": {},
   "source": [
    "## 4.2. Time Saved\n",
    "Next, we play a game with the Connect Four minimax agent with both depth pruning and alpha-beta pruning. We use the default depth of 3, and play a game with the agent. We let the agent play first again and measure how long it takes for the agent to make a move."
   ]
  },
  {
   "cell_type": "code",
   "execution_count": 9,
   "id": "d0982762",
   "metadata": {},
   "outputs": [
    {
     "name": "stdout",
     "output_type": "stream",
     "text": [
      "The red player has chosen action=2\n",
      "It took the agent 0.015507221221923828 seconds\n",
      "the current state is \n",
      "[[0 0 0 0 0 0 0]\n",
      " [0 0 0 0 0 0 0]\n",
      " [0 0 0 0 0 0 0]\n",
      " [0 0 0 0 0 0 0]\n",
      " [0 0 0 0 0 0 0]\n",
      " [0 1 0 0 0 0 0]]\n",
      "Player yellow, what's your move?\n",
      "7\n",
      "Player yellow has chosen action=7\n",
      "the current state is \n",
      "[[ 0  0  0  0  0  0  0]\n",
      " [ 0  0  0  0  0  0  0]\n",
      " [ 0  0  0  0  0  0  0]\n",
      " [ 0  0  0  0  0  0  0]\n",
      " [ 0  0  0  0  0  0  0]\n",
      " [ 0  1  0  0  0  0 -1]]\n",
      "The red player has chosen action=1\n",
      "It took the agent 0.029918909072875977 seconds\n",
      "the current state is \n",
      "[[ 0  0  0  0  0  0  0]\n",
      " [ 0  0  0  0  0  0  0]\n",
      " [ 0  0  0  0  0  0  0]\n",
      " [ 0  0  0  0  0  0  0]\n",
      " [ 0  0  0  0  0  0  0]\n",
      " [ 1  1  0  0  0  0 -1]]\n",
      "Player yellow, what's your move?\n",
      "7\n",
      "Player yellow has chosen action=7\n",
      "the current state is \n",
      "[[ 0  0  0  0  0  0  0]\n",
      " [ 0  0  0  0  0  0  0]\n",
      " [ 0  0  0  0  0  0  0]\n",
      " [ 0  0  0  0  0  0  0]\n",
      " [ 0  0  0  0  0  0 -1]\n",
      " [ 1  1  0  0  0  0 -1]]\n",
      "The red player has chosen action=3\n",
      "It took the agent 0.04391336441040039 seconds\n",
      "the current state is \n",
      "[[ 0  0  0  0  0  0  0]\n",
      " [ 0  0  0  0  0  0  0]\n",
      " [ 0  0  0  0  0  0  0]\n",
      " [ 0  0  0  0  0  0  0]\n",
      " [ 0  0  0  0  0  0 -1]\n",
      " [ 1  1  1  0  0  0 -1]]\n",
      "Player yellow, what's your move?\n",
      "7\n",
      "Player yellow has chosen action=7\n",
      "the current state is \n",
      "[[ 0  0  0  0  0  0  0]\n",
      " [ 0  0  0  0  0  0  0]\n",
      " [ 0  0  0  0  0  0  0]\n",
      " [ 0  0  0  0  0  0 -1]\n",
      " [ 0  0  0  0  0  0 -1]\n",
      " [ 1  1  1  0  0  0 -1]]\n",
      "The red player has chosen action=4\n",
      "It took the agent 0.03394508361816406 seconds\n",
      "the current state is \n",
      "[[ 0  0  0  0  0  0  0]\n",
      " [ 0  0  0  0  0  0  0]\n",
      " [ 0  0  0  0  0  0  0]\n",
      " [ 0  0  0  0  0  0 -1]\n",
      " [ 0  0  0  0  0  0 -1]\n",
      " [ 1  1  1  1  0  0 -1]]\n",
      "The red player has won!\n"
     ]
    }
   ],
   "source": [
    "from utils.ch06util import minimax_conn\n",
    "from utils.conn_env import conn\n",
    "import time\n",
    "\n",
    "# Initiate the game environment\n",
    "env=conn()\n",
    "state=env.reset()   \n",
    "# Play a full game manually\n",
    "while True:\n",
    "    # Mesure how long it takes to come up with a move\n",
    "    start=time.time()\n",
    "    action = minimax_conn(env,depth=3)\n",
    "    end=time.time()\n",
    "    print(f\"The red player has chosen action={action}\") \n",
    "    print(f\"It took the agent {end-start} seconds\")     \n",
    "    state, reward, done, info = env.step(action)\n",
    "    print(f\"the current state is \\n{state.T[::-1]}\")\n",
    "    if done:\n",
    "        if reward==1:\n",
    "            print(f\"The red player has won!\")  \n",
    "        else:\n",
    "            print(\"Game over, it's a tie!\")\n",
    "        break   \n",
    "    action = input(\"Player yellow, what's your move?\\n\")\n",
    "    print(f\"Player yellow has chosen action={action}\")    \n",
    "    state, reward, done, info = env.step(int(action))\n",
    "    print(f\"the current state is \\n{state.T[::-1]}\")\n",
    "    if done:\n",
    "        if reward==-1:\n",
    "            print(f\"The yellow player has won!\")  \n",
    "        else:\n",
    "            print(\"Game over, it's a tie!\")\n",
    "        break                   "
   ]
  },
  {
   "cell_type": "markdown",
   "id": "f218263f",
   "metadata": {},
   "source": [
    "The above results show that it took about 0.015 seconds for the agent to play a move. This is about 10% of the time the agent spent in Chapter 5 when only depth pruning is used. "
   ]
  },
  {
   "cell_type": "markdown",
   "id": "8f64596e",
   "metadata": {},
   "source": [
    "## 4.3. Test Effectivenes \n",
    "We'll test if the minimax algorithm with alpha-beta pruning is as effective as the one without alpha-beta pruning. "
   ]
  },
  {
   "cell_type": "code",
   "execution_count": 10,
   "id": "c97c5efc",
   "metadata": {},
   "outputs": [],
   "source": [
    "from utils.ch05util import minimax,test_conn_game \n",
    "from utils.ch06util import minimax_conn \n",
    "\n",
    "results=[]\n",
    "for i in range(100):\n",
    "    # minimax with pruning moves first if i is an even number\n",
    "    if i%2==0:\n",
    "        result=test_conn_game(env,minimax_conn,minimax)\n",
    "        # record game outcome\n",
    "        results.append(result)\n",
    "    # minimax with pruning moves second if i is an odd number\n",
    "    else:\n",
    "        result=test_conn_game(env,minimax,minimax_conn)\n",
    "        # record negative of game outcome\n",
    "        results.append(-result)"
   ]
  },
  {
   "cell_type": "markdown",
   "id": "d9b0f31b",
   "metadata": {},
   "source": [
    "We create a list *results* to store game outcomes. We simulate 100 games and half the time, the minimax agent with alpha-beta pruning moves first and the other half, the minimax agent without alpha-beta pruning moves first. This way, no player has a first-mover advantage and we have a fair assessment of the effectiveness of the two algorithms. Whenever the minimax algorithm with alpha-beta pruning moves second, we multiple the outcome by -1 so that a value 1 in the list *results* indicates that the minimax with alpha-beta pruning has won. "
   ]
  },
  {
   "cell_type": "code",
   "execution_count": 11,
   "id": "7d97135d",
   "metadata": {},
   "outputs": [
    {
     "name": "stdout",
     "output_type": "stream",
     "text": [
      "the minimax agent has won 35 games\n",
      "the minimax agent has lost 45 games\n",
      "the game has tied 20 times\n"
     ]
    }
   ],
   "source": [
    "# count how many times minimax with pruning won\n",
    "wins=results.count(1)\n",
    "print(f\"the minimax agent has won {wins} games\")\n",
    "# count how many times minimax with pruning lost\n",
    "losses=results.count(-1)\n",
    "print(f\"the minimax agent has lost {losses} games\")\n",
    "# count tie games\n",
    "ties=results.count(0)\n",
    "print(f\"the game has tied {ties} times\")               "
   ]
  },
  {
   "cell_type": "markdown",
   "id": "095071fb",
   "metadata": {},
   "source": [
    "the minimax agent has won 47 games\n",
    "the minimax agent has lost 40 games\n",
    "the game has tied 13 times"
   ]
  },
  {
   "cell_type": "markdown",
   "id": "35ec2255",
   "metadata": {},
   "source": [
    "The above results show that the minimax agent with alpha-beta pruning has won 47 times and lost 40 times. This shows that the mimimax agent with alpha-beta pruning is as effective as the agent without alpha-beta pruning. Note that since the outcomes are random, you may get results showing that the minimax agent with alpha-beta pruning has lost more often than it has won. It that happens, run the above two cells again and see what happens. "
   ]
  }
 ],
 "metadata": {
  "kernelspec": {
   "display_name": "Python 3 (ipykernel)",
   "language": "python",
   "name": "python3"
  },
  "language_info": {
   "codemirror_mode": {
    "name": "ipython",
    "version": 3
   },
   "file_extension": ".py",
   "mimetype": "text/x-python",
   "name": "python",
   "nbconvert_exporter": "python",
   "pygments_lexer": "ipython3",
   "version": "3.9.12"
  }
 },
 "nbformat": 4,
 "nbformat_minor": 5
}
