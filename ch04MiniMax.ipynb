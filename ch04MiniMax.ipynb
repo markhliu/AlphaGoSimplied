{
 "cells": [
  {
   "cell_type": "markdown",
   "id": "653089c9",
   "metadata": {},
   "source": [
    "# Chapter 4: Recursion and MiniMax Tree Search\n",
    "\n",
    "\n",
    "\n",
    "***\n",
    "*“In another thirty years people will laugh at anyone who tries to invent a language without closures, just as they'll laugh now at anyone who tries to invent a language without recursion.”*\n",
    "\n",
    "-- Mark Jason Dominus, in 2005\n",
    "***\n",
    "\n",
    "\n",
    "\n",
    "What you'll learn in this chapter:\n",
    "\n",
    "* The logic behind MiniMax tree search\n",
    "* Understanding recursion and applying it in MiniMax tree search\n",
    "* Implementing MiniMax tree search in the coin game\n",
    "* Testing the effectiveness of the MiniMax agent\n",
    "\n",
    "In Chapters 2 and 3, you learned how to use look-ahead search to design\n",
    "intelligent game strategies in Tic Tac Toe and Connect Four. However,\n",
    "the search process was hard coded. If we look ahead beyond three steps,\n",
    "the coding becomes tedious and error-prone. You may wonder if there is a\n",
    "systematic and more efficient way of conducting look-ahead search. The\n",
    "answer is yes: MiniMax tree search does exactly that. The MiniMax\n",
    "algorithm is a decision rule in artificial intelligence and game theory.\n",
    "The algorithm assumes that each player in the game makes the best\n",
    "possible decisions at each step. Further, each player knows that other\n",
    "players make fully rational decisions as well, and so on.\n",
    "\n",
    "In this chapter, you'll learn to implement MiniMax tree search in the\n",
    "coin game. Specifically, you'll use recursion to call a function inside\n",
    "the function itself. This creates an infinite loop: all command lines in\n",
    "the function are executed iteration after iteration until a certain\n",
    "condition is met. The recursive algorithm allows the MiniMax agent to search ahead\n",
    "until the end of the game.\n",
    "\n",
    "You'll create a MiniMax agent in the coin game by using the game environment that we developed in\n",
    "Chapter 1. The algorithm makes hypothetical future moves and exhausts all\n",
    "possible future game paths. The algorithm then uses backward induction\n",
    "to calculate the best move in each step of the game. The MiniMax agent\n",
    "solves the coin game and plays perfectly: it always wins when it pays\n",
    "second. The MiniMax agent makes moves very quickly as well: each move\n",
    "takes a fraction of a second.\n",
    "\n",
    "After this chapter, you'll understand the logic behind MiniMax tree\n",
    "search and be able to design game strategies for any game based on the\n",
    "algorithm. You'll apply the algorithm to Tic Tac Toe and Connect Four as\n",
    "well in the next few chapters and find ways to overcome or mitigate\n",
    "drawbacks associated with MiniMax tree search."
   ]
  },
  {
   "cell_type": "markdown",
   "id": "282ad876",
   "metadata": {},
   "source": [
    "# 1. Introducing MiniMax and Recursion\n",
    "This section introduces MiniMax tree search and explains the concept of recursion in programming languages. "
   ]
  },
  {
   "cell_type": "markdown",
   "id": "79c437e8",
   "metadata": {},
   "source": [
    "## 1.1. What is MiniMax Tree Search?"
   ]
  },
  {
   "cell_type": "markdown",
   "id": "de2d7767",
   "metadata": {},
   "source": [
    "## 1.2. Backward Induction and the Solution to MiniMax"
   ]
  },
  {
   "cell_type": "markdown",
   "id": "cbfacacd",
   "metadata": {},
   "source": [
    "## 1.3. What is Recursion? \n",
    "Recursion is the calling of a function inside the function itself. We'll use recursion to implement MiniMax tree search in this book. Below, I'll show you one example of recursion. \n",
    "\n",
    "Suppose you want to create a clock to tell time. The normal approach is as follows:"
   ]
  },
  {
   "cell_type": "code",
   "execution_count": 1,
   "id": "efd621db",
   "metadata": {},
   "outputs": [
    {
     "name": "stdout",
     "output_type": "stream",
     "text": [
      "The current time is 19:41:45\n"
     ]
    }
   ],
   "source": [
    "import time\n",
    "\n",
    "def clock():\n",
    "    time_now=time.strftime(\"%H:%M:%S\")\n",
    "    print(f\"The current time is {time_now}\") \n",
    "clock()"
   ]
  },
  {
   "cell_type": "code",
   "execution_count": 2,
   "id": "66d5e175",
   "metadata": {},
   "outputs": [
    {
     "name": "stdout",
     "output_type": "stream",
     "text": [
      "The current time is 19:45:46\n",
      "The current time is 19:45:47\n",
      "The current time is 19:45:48\n",
      "The current time is 19:45:49\n",
      "The current time is 19:45:50\n",
      "The current time is 19:45:51\n",
      "The current time is 19:45:52\n",
      "The current time is 19:45:53\n",
      "The current time is 19:45:54\n",
      "The current time is 19:45:55\n"
     ]
    }
   ],
   "source": [
    "start=time.time()\n",
    "def clock():\n",
    "    time_now=time.strftime(\"%H:%M:%S\")\n",
    "    print(f\"The current time is {time_now}\") \n",
    "    time.sleep(1)\n",
    "    if time.time()-start<=10:\n",
    "        clock()\n",
    "clock()    "
   ]
  },
  {
   "cell_type": "markdown",
   "id": "ff3fe384",
   "metadata": {},
   "source": [
    "In the above cell, we call the *clock()* function in the function itself, unless more than ten seconds have passed. As a result, the function tells time for ten consecutive seconds. "
   ]
  },
  {
   "cell_type": "markdown",
   "id": "4db31da9",
   "metadata": {},
   "source": [
    "# 2. MiniMax Tree Search in the Coin Game"
   ]
  },
  {
   "cell_type": "markdown",
   "id": "7252a608",
   "metadata": {},
   "source": [
    "We'll use a simplified version of the self-made coin game environment from Chapter 1 to speed up MiniMax tree search. Specifically, the module is saved as *coin_simple_env.py* in the folder *utils* in the book's GitHub repository https://github.com/markhliu/AlphaGoSimplified. Download the file and save it in the folder /Desktop/ags/utils/ on your computer. The file *coin_simple_env.py* is the same as *coin_env.py* that we used in Chapter 1, except that we have deleted the graphical game window functionality. As a result, you cannot use the render() method in the simplified coin game environment. We use the simplified coin game environment to make the MiniMax agent make moves faster. \n",
    "\n",
    "First, let's define a couple of functions that the MiniMax algorithm will use. "
   ]
  },
  {
   "cell_type": "markdown",
   "id": "52ddc025",
   "metadata": {},
   "source": [
    "## 2.1. The *minimax()* Function "
   ]
  },
  {
   "cell_type": "code",
   "execution_count": 3,
   "id": "fb8839e8",
   "metadata": {},
   "outputs": [],
   "source": [
    "from copy import deepcopy\n",
    "from random import choice\n",
    "\n",
    "def minimax(env):\n",
    "    # create a list to store winning moves\n",
    "    wins=[]\n",
    "    # iterate through all possible next moves\n",
    "    for m in env.validinputs:\n",
    "        # make a hypothetical move and see what happens\n",
    "        env_copy=deepcopy(env)\n",
    "        new_state, reward, done, info = env_copy.step(m) \n",
    "        # if move m lead to a win now, take it\n",
    "        if done and reward==1:\n",
    "            return m \n",
    "        # see what's the best response from the opponent\n",
    "        opponent_payoff=maximized_payoff(env_copy,reward,done)  \n",
    "        # Opponent's payoff is the opposite of your payoff\n",
    "        my_payoff=-opponent_payoff \n",
    "        if my_payoff==1:\n",
    "            wins.append(m)\n",
    "    # pick winning moves if there is any        \n",
    "    if len(wins)>0:\n",
    "        return choice(wins)\n",
    "    # otherwise randomly pick\n",
    "    return env.sample()"
   ]
  },
  {
   "cell_type": "markdown",
   "id": "eee28a4e",
   "metadata": {},
   "source": [
    "## 2.2. The *maximized_payoff()* Function \n",
    "Next, we'll define *maximized_payoff()* function in the local module *ch04util*. The function produces the best possible outcome for the next player in the next step of the game. Note this function applies to any player in any stage of the game so we don't need to define one function for Player 1 and another function for Player 2."
   ]
  },
  {
   "cell_type": "code",
   "execution_count": 4,
   "id": "a847d4fe",
   "metadata": {},
   "outputs": [],
   "source": [
    "def maximized_payoff(env, reward, done):\n",
    "    # if the game has ended after the previous player's move\n",
    "    if done:\n",
    "        return -1\n",
    "    # otherwise, search for action to maximize payoff\n",
    "    best_payoff=-2\n",
    "    # iterate through all possible next moves\n",
    "    for m in env.validinputs:\n",
    "        env_copy=deepcopy(env)\n",
    "        new_state,reward,done,info=env_copy.step(m)  \n",
    "        # what's the opponent's response\n",
    "        opponent_payoff=maximized_payoff(env_copy, reward, done)\n",
    "        # opponent's payoff is the opposite of your payoff\n",
    "        my_payoff=-opponent_payoff \n",
    "        # update your best payoff \n",
    "        if my_payoff>best_payoff:        \n",
    "            best_payoff=my_payoff\n",
    "    return best_payoff"
   ]
  },
  {
   "cell_type": "markdown",
   "id": "d963a4e3",
   "metadata": {},
   "source": [
    "## 2.3. Human versus MiniMax in the Coin Game\n",
    "Next, you'll play a game against the MiniMax algorithm. We'll let the MiniMax agent move second and see if it can win the game. "
   ]
  },
  {
   "cell_type": "code",
   "execution_count": 5,
   "id": "15b9c0d7",
   "metadata": {},
   "outputs": [
    {
     "name": "stdout",
     "output_type": "stream",
     "text": [
      "there are 21 coins in the pile\n",
      "Player 1, what's your move (1 or 2)?2\n",
      "Player 1 has chosen action=2\n",
      "there are 19 coins in the pile\n",
      "time lapse = 0.31630 seconds\n",
      "Player 2 has chosen action=1\n",
      "there are 18 coins in the pile\n",
      "Player 1, what's your move (1 or 2)?1\n",
      "Player 1 has chosen action=1\n",
      "there are 17 coins in the pile\n",
      "time lapse = 0.12109 seconds\n",
      "Player 2 has chosen action=2\n",
      "there are 15 coins in the pile\n",
      "Player 1, what's your move (1 or 2)?2\n",
      "Player 1 has chosen action=2\n",
      "there are 13 coins in the pile\n",
      "time lapse = 0.02154 seconds\n",
      "Player 2 has chosen action=1\n",
      "there are 12 coins in the pile\n",
      "Player 1, what's your move (1 or 2)?1\n",
      "Player 1 has chosen action=1\n",
      "there are 11 coins in the pile\n",
      "time lapse = 0.00852 seconds\n",
      "Player 2 has chosen action=2\n",
      "there are 9 coins in the pile\n",
      "Player 1, what's your move (1 or 2)?2\n",
      "Player 1 has chosen action=2\n",
      "there are 7 coins in the pile\n",
      "time lapse = 0.00100 seconds\n",
      "Player 2 has chosen action=1\n",
      "there are 6 coins in the pile\n",
      "Player 1, what's your move (1 or 2)?1\n",
      "Player 1 has chosen action=1\n",
      "there are 5 coins in the pile\n",
      "time lapse = 0.00000 seconds\n",
      "Player 2 has chosen action=2\n",
      "there are 3 coins in the pile\n",
      "Player 1, what's your move (1 or 2)?2\n",
      "Player 1 has chosen action=2\n",
      "there are 1 coins in the pile\n",
      "time lapse = 0.00000 seconds\n",
      "Player 2 has chosen action=1\n",
      "there are 0 coins in the pile\n",
      "Player 2 has won!\n"
     ]
    }
   ],
   "source": [
    "from utils.coin_simple_env import coin_game\n",
    "from utils.ch04util import minimax\n",
    "\n",
    "# Initiate the game environment\n",
    "env=coin_game()\n",
    "state=env.reset()   \n",
    "# Play a full game\n",
    "while True:\n",
    "    print(f\"there are {state} coins in the pile\")   \n",
    "    action=input(\"Player 1, what's your move (1 or 2)?\")\n",
    "    print(f\"Player 1 has chosen action={action}\")    \n",
    "    state, reward, done, info=env.step(action)\n",
    "    if done:\n",
    "        print(f\"there are {state} coins in the pile\")\n",
    "        print(f\"Player 1 has won!\") \n",
    "        break\n",
    "    print(f\"there are {state} coins in the pile\") \n",
    "    start=time.time()\n",
    "    action=minimax(env)\n",
    "    print(f\"time lapse = {time.time()-start:.5f} seconds\") \n",
    "    print(f\"Player 2 has chosen action={action}\")  \n",
    "    state, reward, done, info=env.step(action)\n",
    "    if done:\n",
    "        print(f\"there are {state} coins in the pile\")\n",
    "        print(f\"Player 2 has won!\") \n",
    "        break"
   ]
  },
  {
   "cell_type": "markdown",
   "id": "c6ece520",
   "metadata": {},
   "source": [
    "# 3. Effectiveness of MiniMax in the Coin Game\n",
    "Next, we’ll test how often the MiniMax Algorithm wins against the rule-based AI game strategy that we developed in Chapter 1. We'll first let the MiniMax agent play againt random moves. We'll then test the MiniMax agent against the rule-based AI. "
   ]
  },
  {
   "cell_type": "markdown",
   "id": "5cbe6000",
   "metadata": {},
   "source": [
    "## 3.1. Minimax versus Random Moves in the Coin Game"
   ]
  },
  {
   "cell_type": "code",
   "execution_count": 6,
   "id": "6ebc9a63",
   "metadata": {},
   "outputs": [
    {
     "name": "stdout",
     "output_type": "stream",
     "text": [
      "the MiniMax algorithm won 96 games\n",
      "the MiniMax algorithm lost 4 games\n"
     ]
    }
   ],
   "source": [
    "from utils.ch01util import random_player, one_coin_game\n",
    "\n",
    "env=coin_game()\n",
    "results=[]\n",
    "for i in range(100):\n",
    "    # MiniMax moves first \n",
    "    result=one_coin_game(minimax,random_player)\n",
    "    # record game outcome\n",
    "    results.append(result)\n",
    "# count how many times MiniMax has won\n",
    "wins=results.count(1)\n",
    "print(f\"the MiniMax algorithm won {wins} games\")\n",
    "# count how many times MiniMax has lost\n",
    "losses=results.count(-1)\n",
    "print(f\"the MiniMax algorithm lost {losses} games\") "
   ]
  },
  {
   "cell_type": "code",
   "execution_count": 7,
   "id": "9da020e9",
   "metadata": {},
   "outputs": [
    {
     "name": "stdout",
     "output_type": "stream",
     "text": [
      "the MiniMax algorithm won 100 games\n",
      "the MiniMax algorithm lost 0 games\n"
     ]
    }
   ],
   "source": [
    "results=[]\n",
    "for i in range(100):\n",
    "    # MiniMax moves second\n",
    "    result=one_coin_game(random_player,minimax)\n",
    "    # record negative game outcome\n",
    "    results.append(-result)\n",
    "# count how many times MiniMax has won\n",
    "wins=results.count(1)\n",
    "print(f\"the MiniMax algorithm won {wins} games\")\n",
    "# count how many times MiniMax has lost\n",
    "losses=results.count(-1)\n",
    "print(f\"the MiniMax algorithm lost {losses} games\") "
   ]
  },
  {
   "cell_type": "markdown",
   "id": "61143017",
   "metadata": {},
   "source": [
    "## 3.2. MiniMax versus Rule-Based AI in the Coin Game"
   ]
  },
  {
   "cell_type": "code",
   "execution_count": 8,
   "id": "a2328736",
   "metadata": {},
   "outputs": [
    {
     "name": "stdout",
     "output_type": "stream",
     "text": [
      "the MiniMax algorithm won 0 games\n",
      "the MiniMax algorithm lost 100 games\n"
     ]
    }
   ],
   "source": [
    "from utils.ch01util import rule_based_AI\n",
    "\n",
    "env=coin_game()\n",
    "results=[]\n",
    "for i in range(100):\n",
    "    # MiniMax moves first \n",
    "    result=one_coin_game(minimax,rule_based_AI)\n",
    "    # record game outcome\n",
    "    results.append(result)\n",
    "# count how many times MiniMax has won\n",
    "wins=results.count(1)\n",
    "print(f\"the MiniMax algorithm won {wins} games\")\n",
    "# count how many times MiniMax has lost\n",
    "losses=results.count(-1)\n",
    "print(f\"the MiniMax algorithm lost {losses} games\")   "
   ]
  },
  {
   "cell_type": "code",
   "execution_count": 9,
   "id": "811ad71e",
   "metadata": {},
   "outputs": [
    {
     "name": "stdout",
     "output_type": "stream",
     "text": [
      "the MiniMax algorithm won 100 games\n",
      "the MiniMax algorithm lost 0 games\n"
     ]
    }
   ],
   "source": [
    "results=[]\n",
    "for i in range(100):\n",
    "    # MiniMax moves second\n",
    "    result=one_coin_game(rule_based_AI,minimax)\n",
    "    # record negative game outcome\n",
    "    results.append(-result)\n",
    "# count how many times MiniMax has won\n",
    "wins=results.count(1)\n",
    "print(f\"the MiniMax algorithm won {wins} games\")\n",
    "# count how many times MiniMax has lost\n",
    "losses=results.count(-1)\n",
    "print(f\"the MiniMax algorithm lost {losses} games\") "
   ]
  }
 ],
 "metadata": {
  "kernelspec": {
   "display_name": "Python 3 (ipykernel)",
   "language": "python",
   "name": "python3"
  },
  "language_info": {
   "codemirror_mode": {
    "name": "ipython",
    "version": 3
   },
   "file_extension": ".py",
   "mimetype": "text/x-python",
   "name": "python",
   "nbconvert_exporter": "python",
   "pygments_lexer": "ipython3",
   "version": "3.9.12"
  }
 },
 "nbformat": 4,
 "nbformat_minor": 5
}
