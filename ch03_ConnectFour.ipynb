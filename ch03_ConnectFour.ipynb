{
 "cells": [
  {
   "cell_type": "markdown",
   "id": "653089c9",
   "metadata": {},
   "source": [
    "# Chapter 3: Rule-Based AI in Connect Four\n",
    "\n",
    "We'll first create a game environment for the popular everyday game Connect Four in this chapter. Similar to what we have done in Chapter 2, we'll create AI players in this game. Specifically, we'll hard code in some rules to make the AI player think up to three steps ahead. You'll then deploy the strategies against a random player or against each other to see how effective they are. As we discussed in Chapter 2, coding in rule-based AI serves several purposes. Other than learning to build rule-based AI and generalize it to real-world situations, you'll learn to create a game environment for Connect Four that has all the attributes and methods of a typical OpenAI Gym game environment. You'll also use Connect Four to study other AI algorithms later in this book, such as MiniMax, Monte Carlo Tree Search, Actor-Critic. You'll also use rule-based AI to train AlphaGo agents later in this book and use rule-based AI as benchmarks to test teh effectiveness of other AI algorithms.\n",
    "\n",
    "When the AI player thinks one step ahead, it iterates through all possible next moves and check if any one of them leads to winning the game right away. If yes, the AI player will take the move. This is very similar to what we have done in the game of Tic Tac Toe. However, thinking two steps ahead in Connect Four is a bit more complicated. The AI player’s next move can either block the opponent or help the opponent’s chance of winning the game on the next turn. We’ll separate these two cases: if the AI player’s move blocks the opponent’s chance of winning, the AI player will take it. On the other hand, if the AI palyer’s move helps the opponent’s chance of winning, the game strategy will avoid the move so the the opponent won't win two steps ahead. By thinking three steps ahead, the AI player follows the path that most likely leads to a victory after three moves. In some cases, thinking three steps ahead can guarantee a win for the AI player in three steps. "
   ]
  },
  {
   "cell_type": "markdown",
   "id": "e3b25bf6",
   "metadata": {},
   "source": [
    "***\n",
    "$\\mathbf{\\text{Create a subfolder for files in Chapter 3}}$<br>\n",
    "***\n",
    "We'll put all files in Chapter 3 in a subfolder /files/ch03. Run the code in the cell below to create the subfolder.\n",
    "\n",
    "***"
   ]
  },
  {
   "cell_type": "code",
   "execution_count": 1,
   "id": "117477d3",
   "metadata": {},
   "outputs": [],
   "source": [
    "import os\n",
    "\n",
    "os.makedirs(\"files/ch03\", exist_ok=True)"
   ]
  },
  {
   "cell_type": "markdown",
   "id": "282ad876",
   "metadata": {},
   "source": [
    "# 1. Create the Connect Four Game Environment\n",
    "We'll create a Connect Four game environment, using the ***turtle*** library to draw game boards. We’ll create all the features and methods that a typical OpenAI Gym environment has. "
   ]
  },
  {
   "cell_type": "markdown",
   "id": "79c437e8",
   "metadata": {},
   "source": [
    "## 1.1. Use A Python Class to Represent the Environment\n",
    "We’ll create a Python class to represent the Connect Four game environment. The class will have various attributes, variables, and methods to replicate those in a typical OpenAI Gym game environment. \n",
    "\n",
    "### Attributes\n",
    "Specifically, our self-made Connect Four game environment will have the following attributes:\n",
    " \n",
    "*\taction_space: an attribute that provides the space of all actions that can be taken by the agent. The action space will have seven values, 1 to 7. This represents the 7 columns a player can drop discs in.\n",
    "*\tobservation_space: an attribute that provides the list of all possible states in the environment. We'll use a numpy array with 7 rows and 6 columns to represent the 42 cells on a game board.\n",
    "*\tstate: an attribute indicating which state the agent is currently in. Each of the 42 cells can take values -1 (occupied by player Yellow), 0 (empty), or 1 (occupied by player Red).\n",
    "*\taction: an attribute indicating the action taken by the agent. The action is a number between 1 and 7.\n",
    "*\treward: an attribute indicating the reward to the agent because of the action taken by the agent. The reward is 0 in each step, unless a player has won the game, in which case the winner has a reward of 1 and the loser a reward of -1. \n",
    "*\tdone: an attribute indicating whether the game has ended. This happens when one player wins or if the game is tied.\n",
    "*\tinfo: an attribute that provides information about the game. We'll set it as an empty string \"\". "
   ]
  },
  {
   "cell_type": "markdown",
   "id": "63f9996e",
   "metadata": {},
   "source": [
    "### Methods\n",
    "Our self-made Connect Four game environment will have a few methods as well:\n",
    " \n",
    "*\treset() is a method to set the game environment to the initial (that is, the starting) state. All cells on the board will be empty.\n",
    "*\trender() is a method showing the current state of the environment graphically.\n",
    "*\tstep() is a method that returns the new state, the reward, the value of *done* variable, and the variable *info* based on the action taken by the agent.\n",
    "*\tsample() is a method to randomly choose an action from the action space.\n",
    "*\tclose() is a method to end the game environment."
   ]
  },
  {
   "cell_type": "markdown",
   "id": "de2d7767",
   "metadata": {},
   "source": [
    "## 1.2. Create A Local Module for the Connect Four Game\n",
    "We'll create a local module for the Connect Four game and place it inside the local package for this book: the package ***utils*** that we have created in Chapter 1."
   ]
  },
  {
   "cell_type": "markdown",
   "id": "7252a608",
   "metadata": {},
   "source": [
    "Now let's code in a self-made Connect Four game environment using a Python class. Save the code in the cell below as *conn_env.py* in the folder *utils* you created in Chapter 1. Alternatively, you can download it from my GitHub repository. "
   ]
  },
  {
   "cell_type": "code",
   "execution_count": 2,
   "id": "0c9c644b",
   "metadata": {},
   "outputs": [],
   "source": [
    "import turtle as t\n",
    "from random import choice\n",
    "import numpy as np\n",
    "import time\n",
    "\n",
    "# Define an action_space helper class\n",
    "class action_space:\n",
    "    ... \n",
    "# Define an obervation_space helper class    \n",
    "class observation_space:\n",
    "    ...\n",
    "class conn():\n",
    "    ...    "
   ]
  },
  {
   "cell_type": "markdown",
   "id": "05110e83",
   "metadata": {},
   "source": [
    "If you run the above cell, nothing will happen. The class simply creates a game environment. We need to initiate the game environment and start playing using Python programs, just as you do with an OpenAI Gym game environment. We'll do that in the next subsection."
   ]
  },
  {
   "cell_type": "markdown",
   "id": "eee28a4e",
   "metadata": {},
   "source": [
    "## 1.3. Verify the Custom-Made Game Environment\n",
    "Next, we'll check the attributes and methods of the self-made game environment and make sure it has all the elements that are provided by a typical OpenAI Gym game environment. \n",
    "\n",
    "First we'll initiate the game environment and show the game board."
   ]
  },
  {
   "cell_type": "code",
   "execution_count": 3,
   "id": "a847d4fe",
   "metadata": {},
   "outputs": [],
   "source": [
    "from utils.conn_env import conn\n",
    "\n",
    "env = conn()\n",
    "env.reset()                    \n",
    "env.render()"
   ]
  },
  {
   "cell_type": "markdown",
   "id": "06e6bd0a",
   "metadata": {},
   "source": [
    "You should see a separate turtle window, with a game board as follows: \n",
    "<img src=\"https://gattonweb.uky.edu/faculty/lium/ml/conn_start.png\" />"
   ]
  },
  {
   "cell_type": "markdown",
   "id": "0977029b",
   "metadata": {},
   "source": [
    "If you want to close the game board window, use the *close()* method, like so:"
   ]
  },
  {
   "cell_type": "code",
   "execution_count": 4,
   "id": "439f093e",
   "metadata": {},
   "outputs": [],
   "source": [
    "env.close()"
   ]
  },
  {
   "cell_type": "markdown",
   "id": "d963a4e3",
   "metadata": {},
   "source": [
    "Next, we'll check the attributes of the environment such as the observation space and action space. "
   ]
  },
  {
   "cell_type": "code",
   "execution_count": 5,
   "id": "15b9c0d7",
   "metadata": {},
   "outputs": [
    {
     "name": "stdout",
     "output_type": "stream",
     "text": [
      "the number of possible actions are 7\n",
      "the following are ten sample actions\n",
      "7\n",
      "6\n",
      "6\n",
      "1\n",
      "6\n",
      "5\n",
      "7\n",
      "3\n",
      "4\n",
      "5\n",
      "the shape of the observation space is (7, 6)\n"
     ]
    }
   ],
   "source": [
    "env=conn()\n",
    "# check the action space\n",
    "number_actions=env.action_space.n\n",
    "print(\"the number of possible actions are\",number_actions)\n",
    "# sample the action space ten times\n",
    "print(\"the following are ten sample actions\")\n",
    "for i in range(10):\n",
    "   print(env.action_space.sample())\n",
    "# check the shape of the observation space\n",
    "print(\"the shape of the observation space is\",\\\n",
    "      env.observation_space.shape)"
   ]
  },
  {
   "cell_type": "markdown",
   "id": "2033eed1",
   "metadata": {},
   "source": [
    "The meanings of the actions in this game are as follows\n",
    "* 1: Placing a game piece in column 1\n",
    "* 2: Placing a game piece in column 2\n",
    "* ...\n",
    "* 7: Placing a game piece in column 7\n",
    "\n",
    "\n",
    "The state space is a matrix with 7 columns and 6 rows: \n",
    "* 0 means the cell is empty; \n",
    "* -1 means the cell is occupied by the yellow player; \n",
    "* 1 means the cell is occupied by the red player."
   ]
  },
  {
   "cell_type": "markdown",
   "id": "fe6f879a",
   "metadata": {},
   "source": [
    "# 2. Play Games in the Connect Four Environment\n",
    "Next, we'll play games in the custom-made environment. "
   ]
  },
  {
   "cell_type": "markdown",
   "id": "fe83ac2f",
   "metadata": {},
   "source": [
    "## 2.1. Play a full game"
   ]
  },
  {
   "cell_type": "markdown",
   "id": "6e5af973",
   "metadata": {},
   "source": [
    "Here we'll play a full game, by randomly choosing an action from the action space each step."
   ]
  },
  {
   "cell_type": "code",
   "execution_count": 6,
   "id": "f44d0601",
   "metadata": {},
   "outputs": [],
   "source": [
    "import time\n",
    "import numpy as np\n",
    "import random\n",
    "from utils.conn_env import conn\n",
    "\n",
    "# Initiate the game environment\n",
    "env = conn()\n",
    "state=env.reset()   \n",
    "env.render()   \n",
    "while True:\n",
    "    action = random.choice(env.validinputs)\n",
    "    time.sleep(1)\n",
    "    print(f\"Player red has chosen action={action}\")    \n",
    "    state, reward, done, info = env.step(action)\n",
    "    env.render()\n",
    "    print(f\"the current state is \\n{state.T[::-1]}\") \n",
    "    if done:\n",
    "        if reward==1:\n",
    "            print(f\"Player red has won!\") \n",
    "        else:\n",
    "            print(f\"It's a tie!\") \n",
    "        break   \n",
    "    action = random.choice(env.validinputs)\n",
    "    time.sleep(1)\n",
    "    print(f\"Player yellow has chosen action={action}\")    \n",
    "    state, reward, done, info = env.step(action)\n",
    "    env.render()\n",
    "    print(f\"the current state is \\n{state.T[::-1]}\") \n",
    "    if done:\n",
    "        if reward==-1:\n",
    "            print(f\"Player yellow has won!\") \n",
    "        else:\n",
    "            print(f\"It's a tie!\") \n",
    "        break\n",
    "env.close()            "
   ]
  },
  {
   "cell_type": "markdown",
   "id": "791cedf2",
   "metadata": {},
   "source": [
    "Note that the outcome is different each time you run it because the actions are randomly chosen."
   ]
  },
  {
   "cell_type": "markdown",
   "id": "064889bb",
   "metadata": {},
   "source": [
    "## 2.2. Play the Connect Four Game Manually\n",
    "Next, you’ll learn how to manually interact with the Connect Four game. You'll use the key board to enter a number between 1 and 7. The following lines of code show you how."
   ]
  },
  {
   "cell_type": "code",
   "execution_count": 7,
   "id": "aac17214",
   "metadata": {},
   "outputs": [
    {
     "name": "stdout",
     "output_type": "stream",
     "text": [
      "enter a number between 1 and 7\n",
      "the current state is \n",
      "[[0 0 0 0 0 0 0]\n",
      " [0 0 0 0 0 0 0]\n",
      " [0 0 0 0 0 0 0]\n",
      " [0 0 0 0 0 0 0]\n",
      " [0 0 0 0 0 0 0]\n",
      " [0 0 0 0 0 0 0]]\n",
      "Player red, what's your move?4\n",
      "Player red has chosen action=4\n",
      "the current state is \n",
      "[[0 0 0 0 0 0 0]\n",
      " [0 0 0 0 0 0 0]\n",
      " [0 0 0 0 0 0 0]\n",
      " [0 0 0 0 0 0 0]\n",
      " [0 0 0 0 0 0 0]\n",
      " [0 0 0 1 0 0 0]]\n",
      "Player yellow has chosen action=5\n",
      "the current state is \n",
      "[[ 0  0  0  0  0  0  0]\n",
      " [ 0  0  0  0  0  0  0]\n",
      " [ 0  0  0  0  0  0  0]\n",
      " [ 0  0  0  0  0  0  0]\n",
      " [ 0  0  0  0  0  0  0]\n",
      " [ 0  0  0  1 -1  0  0]]\n",
      "Player red, what's your move?4\n",
      "Player red has chosen action=4\n",
      "the current state is \n",
      "[[ 0  0  0  0  0  0  0]\n",
      " [ 0  0  0  0  0  0  0]\n",
      " [ 0  0  0  0  0  0  0]\n",
      " [ 0  0  0  0  0  0  0]\n",
      " [ 0  0  0  1  0  0  0]\n",
      " [ 0  0  0  1 -1  0  0]]\n",
      "Player yellow has chosen action=7\n",
      "the current state is \n",
      "[[ 0  0  0  0  0  0  0]\n",
      " [ 0  0  0  0  0  0  0]\n",
      " [ 0  0  0  0  0  0  0]\n",
      " [ 0  0  0  0  0  0  0]\n",
      " [ 0  0  0  1  0  0  0]\n",
      " [ 0  0  0  1 -1  0 -1]]\n",
      "Player red, what's your move?4\n",
      "Player red has chosen action=4\n",
      "the current state is \n",
      "[[ 0  0  0  0  0  0  0]\n",
      " [ 0  0  0  0  0  0  0]\n",
      " [ 0  0  0  0  0  0  0]\n",
      " [ 0  0  0  1  0  0  0]\n",
      " [ 0  0  0  1  0  0  0]\n",
      " [ 0  0  0  1 -1  0 -1]]\n",
      "Player yellow has chosen action=3\n",
      "the current state is \n",
      "[[ 0  0  0  0  0  0  0]\n",
      " [ 0  0  0  0  0  0  0]\n",
      " [ 0  0  0  0  0  0  0]\n",
      " [ 0  0  0  1  0  0  0]\n",
      " [ 0  0  0  1  0  0  0]\n",
      " [ 0  0 -1  1 -1  0 -1]]\n",
      "Player red, what's your move?4\n",
      "Player red has chosen action=4\n",
      "the current state is \n",
      "[[ 0  0  0  0  0  0  0]\n",
      " [ 0  0  0  0  0  0  0]\n",
      " [ 0  0  0  1  0  0  0]\n",
      " [ 0  0  0  1  0  0  0]\n",
      " [ 0  0  0  1  0  0  0]\n",
      " [ 0  0 -1  1 -1  0 -1]]\n",
      "Player red has won!\n"
     ]
    }
   ],
   "source": [
    "env=conn()\n",
    "state=env.reset()   \n",
    "env.render()\n",
    "print('enter a number between 1 and 7')\n",
    "print(f\"the current state is \\n{state.T[::-1]}\")\n",
    "# Play a full game manually\n",
    "while True:   \n",
    "    action = int(input(\"enter your move:\"))\n",
    "    time.sleep(1)\n",
    "    print(f\"Player red has chosen action={action}\")    \n",
    "    state, reward, done, info = env.step(action)\n",
    "    env.render()\n",
    "    print(f\"the current state is \\n{state.T[::-1]}\")\n",
    "    if done:\n",
    "        if reward==1:\n",
    "            print(f\"Player red has won!\") \n",
    "        else:\n",
    "            print(f\"It's a tie!\") \n",
    "        break  \n",
    "    action = random.choice(env.validinputs)\n",
    "    time.sleep(1)\n",
    "    print(f\"Player yellow has chosen action={action}\")    \n",
    "    state, reward, done, info = env.step(action)\n",
    "    env.render()\n",
    "    print(f\"the current state is \\n{state.T[::-1]}\")\n",
    "    if done:\n",
    "        if reward==-1:\n",
    "            print(f\"Player yellow has won!\") \n",
    "        else:\n",
    "            print(f\"It's a tie!\") \n",
    "        break  \n",
    "env.close()      "
   ]
  },
  {
   "cell_type": "markdown",
   "id": "78fbca83",
   "metadata": {},
   "source": [
    "I am the red player, and I have won by connecting four pieces vertically in column 4."
   ]
  },
  {
   "cell_type": "markdown",
   "id": "9bcbdf00",
   "metadata": {},
   "source": [
    "# 3. Think One Step Ahead in Connect Four\n",
    "To think one step ahead in Connect Four, the AI player will iterate through all possible next moves and check if any one of them leads to a win right away. If yes, the AI player will take the move. Otherwise, the AI player randomly selects a move. \n",
    "\n",
    "We'll first code in such an AI player. We'll then test the efficacy of the game strategy by letting it play against random moves and see how often the AI player wins. "
   ]
  },
  {
   "cell_type": "markdown",
   "id": "e18df585",
   "metadata": {},
   "source": [
    "## 3.1. A Think-One-Step-Ahead AI \n",
    "To save space, we'll modulize most functions in this chapter and put them in the utils package of this book. Specifically, we define a function AI_think1() in the file ch03util.py in the folder /utils/. The function checks if there is a move that wins the game for the AI player right away. If yes, it returns the move. Otherwise, the function returns a value of None. The function is defined as follows. You can also download the file ch03util.py from the book's GitHub repository and put it in the folder /Desktop/utils/ on your computer. "
   ]
  },
  {
   "cell_type": "code",
   "execution_count": 8,
   "id": "3557ff1d",
   "metadata": {},
   "outputs": [],
   "source": [
    "def AI_think1(env):\n",
    "    for m in env.validinputs:\n",
    "        env_copy=deepcopy(env)\n",
    "        new_state, reward, done, info = env_copy.step(m) \n",
    "        if done and abs(reward)==1:\n",
    "            return m                  \n",
    "    return None"
   ]
  },
  {
   "cell_type": "markdown",
   "id": "5d70b06c",
   "metadata": {},
   "source": [
    "The function is the same as the one we defined in Chapter 2 for the Tic Tac Toe game. Both the red player and the yellow player can use this strategy to think one step ahead. Next, we'll play against the AI player and make sure it's working the way we intended it to do. "
   ]
  },
  {
   "cell_type": "markdown",
   "id": "2ebaaecd",
   "metadata": {},
   "source": [
    "## 3.2. Manually Play against the AI Player\n",
    "To play against the AI players in this chapter, we define the AI_vs_manual(player_function) function in the local ch03util module in the local utils package. Specifically, we save the following function in the file ch03util.py in the /utils/ folder. If you have downloaded the file ch03util.py from the book's GitHub repository, the function is already defined in the file.  "
   ]
  },
  {
   "cell_type": "code",
   "execution_count": 9,
   "id": "e9d23acb",
   "metadata": {},
   "outputs": [],
   "source": [
    "def AI_vs_manual(env,player_function):\n",
    "    manual=input(\"Do you want to be red or yellow?\")\n",
    "    if manual.lower()==\"red\":\n",
    "        player=\"red\"\n",
    "    elif manual.lower()==\"yellow\":\n",
    "        player=\"yellow\"    \n",
    "    state=env.reset()\n",
    "    print(f\"the current state is state=\\n{state.T[::-1]}\")\n",
    "    # if you chose red, you move first\n",
    "    if player==\"red\":\n",
    "        move=input(\"enter your move:\")\n",
    "        state,reward,done,_=env.step(int(move))\n",
    "        print(f\"you have chosen move {move}\")    \n",
    "    while True:       \n",
    "        # AI moves\n",
    "        AI_move=player_function(env)\n",
    "        if AI_move==None:\n",
    "            AI_move=random.choice(env.validinputs)\n",
    "        state,reward,done,_=env.step(AI_move)\n",
    "        print(f\"AI has chosen move {AI_move}\")\n",
    "        print(f\"the current state is state=\\n{state.T[::-1]}\")\n",
    "        if done and reward!=0:\n",
    "            print(\"the AI player won\")\n",
    "            break\n",
    "        if done and reward==0:\n",
    "            print(\"game over; it's a tie\") \n",
    "            break               \n",
    "        move=input(\"enter your move:\")\n",
    "        state,reward,done,_=env.step(int(move))\n",
    "        print(f\"you have chosen move {move}\")\n",
    "        print(f\"the current state is state=\\n{state.T[::-1]}\")         \n",
    "        if done and reward!=0:\n",
    "            print(\"the human player won\")\n",
    "            break\n",
    "        if done and reward==0:\n",
    "            print(\"game over; it's a tie\")\n",
    "            break     "
   ]
  },
  {
   "cell_type": "markdown",
   "id": "d35e6969",
   "metadata": {},
   "source": [
    "The argument in the function, *player_function*, is a function name object in Python. Make sure that you don't put parentheses after AI_think1 when you put it inside the AI_vs_manual() as an argument and play against those AI players manually. \n",
    "\n",
    "The function first ask whether you want to be the red player or the yellow player. If you enter red, you'll play first. Otherwise, you'll play second. \n",
    "\n",
    "Below, we call the AI_vs_manual() function from the local package and put AI_think1 as the argment, like so:"
   ]
  },
  {
   "cell_type": "code",
   "execution_count": 10,
   "id": "b4c0d713",
   "metadata": {
    "scrolled": false
   },
   "outputs": [
    {
     "name": "stdout",
     "output_type": "stream",
     "text": [
      "Do you want to be the red or the yellow player?red\n",
      "the current state is state=\n",
      "[[0 0 0 0 0 0 0]\n",
      " [0 0 0 0 0 0 0]\n",
      " [0 0 0 0 0 0 0]\n",
      " [0 0 0 0 0 0 0]\n",
      " [0 0 0 0 0 0 0]\n",
      " [0 0 0 0 0 0 0]]\n",
      "enter your move:1\n",
      "you have chosen move 1\n",
      "AI has chosen move 2\n",
      "the current state is state=\n",
      "[[ 0  0  0  0  0  0  0]\n",
      " [ 0  0  0  0  0  0  0]\n",
      " [ 0  0  0  0  0  0  0]\n",
      " [ 0  0  0  0  0  0  0]\n",
      " [ 0  0  0  0  0  0  0]\n",
      " [ 1 -1  0  0  0  0  0]]\n",
      "enter your move:1\n",
      "you have chosen move 1\n",
      "the current state is state=\n",
      "[[ 0  0  0  0  0  0  0]\n",
      " [ 0  0  0  0  0  0  0]\n",
      " [ 0  0  0  0  0  0  0]\n",
      " [ 0  0  0  0  0  0  0]\n",
      " [ 1  0  0  0  0  0  0]\n",
      " [ 1 -1  0  0  0  0  0]]\n",
      "AI has chosen move 6\n",
      "the current state is state=\n",
      "[[ 0  0  0  0  0  0  0]\n",
      " [ 0  0  0  0  0  0  0]\n",
      " [ 0  0  0  0  0  0  0]\n",
      " [ 0  0  0  0  0  0  0]\n",
      " [ 1  0  0  0  0  0  0]\n",
      " [ 1 -1  0  0  0 -1  0]]\n",
      "enter your move:7\n",
      "you have chosen move 7\n",
      "the current state is state=\n",
      "[[ 0  0  0  0  0  0  0]\n",
      " [ 0  0  0  0  0  0  0]\n",
      " [ 0  0  0  0  0  0  0]\n",
      " [ 0  0  0  0  0  0  0]\n",
      " [ 1  0  0  0  0  0  0]\n",
      " [ 1 -1  0  0  0 -1  1]]\n",
      "AI has chosen move 7\n",
      "the current state is state=\n",
      "[[ 0  0  0  0  0  0  0]\n",
      " [ 0  0  0  0  0  0  0]\n",
      " [ 0  0  0  0  0  0  0]\n",
      " [ 0  0  0  0  0  0  0]\n",
      " [ 1  0  0  0  0  0 -1]\n",
      " [ 1 -1  0  0  0 -1  1]]\n",
      "enter your move:7\n",
      "you have chosen move 7\n",
      "the current state is state=\n",
      "[[ 0  0  0  0  0  0  0]\n",
      " [ 0  0  0  0  0  0  0]\n",
      " [ 0  0  0  0  0  0  0]\n",
      " [ 0  0  0  0  0  0  1]\n",
      " [ 1  0  0  0  0  0 -1]\n",
      " [ 1 -1  0  0  0 -1  1]]\n",
      "AI has chosen move 7\n",
      "the current state is state=\n",
      "[[ 0  0  0  0  0  0  0]\n",
      " [ 0  0  0  0  0  0  0]\n",
      " [ 0  0  0  0  0  0 -1]\n",
      " [ 0  0  0  0  0  0  1]\n",
      " [ 1  0  0  0  0  0 -1]\n",
      " [ 1 -1  0  0  0 -1  1]]\n",
      "enter your move:7\n",
      "you have chosen move 7\n",
      "the current state is state=\n",
      "[[ 0  0  0  0  0  0  0]\n",
      " [ 0  0  0  0  0  0  1]\n",
      " [ 0  0  0  0  0  0 -1]\n",
      " [ 0  0  0  0  0  0  1]\n",
      " [ 1  0  0  0  0  0 -1]\n",
      " [ 1 -1  0  0  0 -1  1]]\n",
      "AI has chosen move 6\n",
      "the current state is state=\n",
      "[[ 0  0  0  0  0  0  0]\n",
      " [ 0  0  0  0  0  0  1]\n",
      " [ 0  0  0  0  0  0 -1]\n",
      " [ 0  0  0  0  0  0  1]\n",
      " [ 1  0  0  0  0 -1 -1]\n",
      " [ 1 -1  0  0  0 -1  1]]\n",
      "enter your move:7\n",
      "you have chosen move 7\n",
      "the current state is state=\n",
      "[[ 0  0  0  0  0  0  1]\n",
      " [ 0  0  0  0  0  0  1]\n",
      " [ 0  0  0  0  0  0 -1]\n",
      " [ 0  0  0  0  0  0  1]\n",
      " [ 1  0  0  0  0 -1 -1]\n",
      " [ 1 -1  0  0  0 -1  1]]\n",
      "AI has chosen move 2\n",
      "the current state is state=\n",
      "[[ 0  0  0  0  0  0  1]\n",
      " [ 0  0  0  0  0  0  1]\n",
      " [ 0  0  0  0  0  0 -1]\n",
      " [ 0  0  0  0  0  0  1]\n",
      " [ 1 -1  0  0  0 -1 -1]\n",
      " [ 1 -1  0  0  0 -1  1]]\n",
      "enter your move:1\n",
      "you have chosen move 1\n",
      "the current state is state=\n",
      "[[ 0  0  0  0  0  0  1]\n",
      " [ 0  0  0  0  0  0  1]\n",
      " [ 0  0  0  0  0  0 -1]\n",
      " [ 1  0  0  0  0  0  1]\n",
      " [ 1 -1  0  0  0 -1 -1]\n",
      " [ 1 -1  0  0  0 -1  1]]\n",
      "AI has chosen move 3\n",
      "the current state is state=\n",
      "[[ 0  0  0  0  0  0  1]\n",
      " [ 0  0  0  0  0  0  1]\n",
      " [ 0  0  0  0  0  0 -1]\n",
      " [ 1  0  0  0  0  0  1]\n",
      " [ 1 -1  0  0  0 -1 -1]\n",
      " [ 1 -1 -1  0  0 -1  1]]\n",
      "enter your move:2\n",
      "you have chosen move 2\n",
      "the current state is state=\n",
      "[[ 0  0  0  0  0  0  1]\n",
      " [ 0  0  0  0  0  0  1]\n",
      " [ 0  0  0  0  0  0 -1]\n",
      " [ 1  1  0  0  0  0  1]\n",
      " [ 1 -1  0  0  0 -1 -1]\n",
      " [ 1 -1 -1  0  0 -1  1]]\n",
      "AI has chosen move 1\n",
      "the current state is state=\n",
      "[[ 0  0  0  0  0  0  1]\n",
      " [ 0  0  0  0  0  0  1]\n",
      " [-1  0  0  0  0  0 -1]\n",
      " [ 1  1  0  0  0  0  1]\n",
      " [ 1 -1  0  0  0 -1 -1]\n",
      " [ 1 -1 -1  0  0 -1  1]]\n",
      "enter your move:1\n",
      "you have chosen move 1\n",
      "the current state is state=\n",
      "[[ 0  0  0  0  0  0  1]\n",
      " [ 1  0  0  0  0  0  1]\n",
      " [-1  0  0  0  0  0 -1]\n",
      " [ 1  1  0  0  0  0  1]\n",
      " [ 1 -1  0  0  0 -1 -1]\n",
      " [ 1 -1 -1  0  0 -1  1]]\n",
      "AI has chosen move 5\n",
      "the current state is state=\n",
      "[[ 0  0  0  0  0  0  1]\n",
      " [ 1  0  0  0  0  0  1]\n",
      " [-1  0  0  0  0  0 -1]\n",
      " [ 1  1  0  0  0  0  1]\n",
      " [ 1 -1  0  0  0 -1 -1]\n",
      " [ 1 -1 -1  0 -1 -1  1]]\n",
      "enter your move:1\n",
      "you have chosen move 1\n",
      "the current state is state=\n",
      "[[ 1  0  0  0  0  0  1]\n",
      " [ 1  0  0  0  0  0  1]\n",
      " [-1  0  0  0  0  0 -1]\n",
      " [ 1  1  0  0  0  0  1]\n",
      " [ 1 -1  0  0  0 -1 -1]\n",
      " [ 1 -1 -1  0 -1 -1  1]]\n",
      "AI has chosen move 4\n",
      "the current state is state=\n",
      "[[ 1  0  0  0  0  0  1]\n",
      " [ 1  0  0  0  0  0  1]\n",
      " [-1  0  0  0  0  0 -1]\n",
      " [ 1  1  0  0  0  0  1]\n",
      " [ 1 -1  0  0  0 -1 -1]\n",
      " [ 1 -1 -1 -1 -1 -1  1]]\n",
      "the AI player won\n"
     ]
    }
   ],
   "source": [
    "from utils.ch03util import AI_vs_manual, AI_think1\n",
    "\n",
    "env=conn()\n",
    "AI_vs_manual(env,AI_think1)"
   ]
  },
  {
   "cell_type": "markdown",
   "id": "7c79eb29",
   "metadata": {},
   "source": [
    "As you can see above, the AI player takes the winning move 5 and wins the game. This shows that the AI player will take a move if the move leads to a win right away.\n",
    "\n",
    "As an exercise, you can call the AI_vs_manual() and use AI_think1 as its argument and play game with the AI player. Choose yellow at the beginning so that the AI player goes first. Create a chance for the AI to win and see if the AI player takes the winning move right away. "
   ]
  },
  {
   "cell_type": "markdown",
   "id": "df19f616",
   "metadata": {},
   "source": [
    "## 3.3. How Good Is the Think-One-Step-Ahead AI?\n",
    "Below, we'll define a function to simulate a game between two players, player 1 and player 2. The function returns the result of the game: 1 if player 1 wins, -1 if player 2 wins, and 0 if it's a tie. We save the game in the file ch03util.py in the /utils/ folder. If you have downloaded the file ch03util.py from the book's GitHub repository, the function is already defined in the file. "
   ]
  },
  {
   "cell_type": "code",
   "execution_count": 11,
   "id": "7d70be56",
   "metadata": {},
   "outputs": [],
   "source": [
    "def test_game(player1,player2):   \n",
    "    env.reset()   \n",
    "    while True:       \n",
    "        move=player1(env)\n",
    "        if move==None:\n",
    "            move=random.choice(env.validinputs)\n",
    "        state,reward,done,_=env.step(move)\n",
    "        if done:\n",
    "            return reward            \n",
    "        move=player2(env)\n",
    "        if move==None:\n",
    "            move=random.choice(env.validinputs)\n",
    "        state,reward,done,_=env.step(move)\n",
    "        if done:\n",
    "            return reward "
   ]
  },
  {
   "cell_type": "markdown",
   "id": "1da6db75",
   "metadata": {},
   "source": [
    "Since we'll let the AI player play against a player who makes random moves, we'll also define a random_player() function in the file ch03util.py in the /utils/ folder."
   ]
  },
  {
   "cell_type": "code",
   "execution_count": 12,
   "id": "643bd004",
   "metadata": {},
   "outputs": [],
   "source": [
    "def random_player(env):               \n",
    "    return random.choice(env.validinputs)"
   ]
  },
  {
   "cell_type": "raw",
   "id": "2a86877f",
   "metadata": {},
   "source": [
    "We create a list *results* to store game outcomes. We simulate 1000 games and half the time, the AI player moves first and the other half, the random player moves first. This way, no player has a first-mover advantage and we have a fair assessment of the power of the AI player against the random player. Whenever the AI player moves second, we multiple the outcome by -1 so that a value 1 in the list *results* indicates that the AI player has won and the random player has lost. "
   ]
  },
  {
   "cell_type": "code",
   "execution_count": 13,
   "id": "176c2b71",
   "metadata": {},
   "outputs": [],
   "source": [
    "from utils.ch03util import test_game, AI_think1, random_player\n",
    "\n",
    "env=conn()\n",
    "results=[]\n",
    "for i in range(1000):\n",
    "    # AI moves first if i is an even number\n",
    "    if i%2==0:\n",
    "        result=test_game(env,AI_think1,random_player)\n",
    "        # record game outcome\n",
    "        results.append(result)\n",
    "    # AI moves second if i is an odd number\n",
    "    else:\n",
    "        result=test_game(env,random_player,AI_think1)\n",
    "        # record negative of game outcome\n",
    "        results.append(-result)"
   ]
  },
  {
   "cell_type": "markdown",
   "id": "620495b9",
   "metadata": {},
   "source": [
    "We iterate i from 0 to 999. Whenever i is an even number, we simulate a game and let the AI player move first. The outcome is added to the list *results*: 1 means the first player (the AI player in this case) wins and -1 means the second player wins. Whenever i is an odd number, we simulate a game and let the random player move first. We then multiply the outcome by -1 so that 1 means the AI player has won. \n",
    "\n",
    "Run the above code cells so that we simulate 1000 games and get the outcome.\n",
    "\n",
    "Next, we count how many times the AI player has won by counting the number of 1s in the list *results*. Similarly, the number of -1s is the number of times the AI player has lost. Like so:"
   ]
  },
  {
   "cell_type": "code",
   "execution_count": 14,
   "id": "d1e19a63",
   "metadata": {},
   "outputs": [
    {
     "name": "stdout",
     "output_type": "stream",
     "text": [
      "the AI player has won 768 games\n",
      "the AI player has lost 232 games\n",
      "the game has tied 0 games\n"
     ]
    }
   ],
   "source": [
    "# count how many times AI player has won\n",
    "wins=results.count(1)\n",
    "print(f\"the AI player has won {wins} games\")\n",
    "# count how many times AI player has lost\n",
    "losses=results.count(-1)\n",
    "print(f\"the AI player has lost {losses} games\")\n",
    "# count tie games\n",
    "ties=results.count(0)\n",
    "print(f\"the game has tied {ties} games\")"
   ]
  },
  {
   "cell_type": "markdown",
   "id": "7a18db0a",
   "metadata": {},
   "source": [
    "Results show that the AI player has won 768 out of the 1000 games; it has lost to the random player 232 times. There is no tie game. This indicates that the think-one-step-ahead AI player is clearly better than a random player. "
   ]
  },
  {
   "cell_type": "markdown",
   "id": "f7373bfa",
   "metadata": {},
   "source": [
    "# 4. Think Two Steps Ahead\n",
    "\n",
    "Thinking two steps ahead in Connect Four is more complicated than that in Tic Tac Toe. While in some cases, the AI player needs to block a move to prevent the opponent from winning in two steps, in other cases, the AI player needs to avoid certain moves to achieve that goal. We’ll separate these two cases. Let’s first use two examples to demonstrate the two cases."
   ]
  },
  {
   "attachments": {
    "toavoid.png": {
     "image/png": "[encoded data removed]"
    }
   },
   "cell_type": "markdown",
   "id": "6b3517d9",
   "metadata": {},
   "source": [
    "## 4.1. Moves to Avoid\n",
    "In this example, the computer should avoid a certain move so that the opponent won’t win on the next turn. In the game as shown in the figure below, it’s the red player’s turn. If the red player chooses column 1 as the next move by placing a red disc in column 1, the opponent can win on the following turn by placing a red disc in column 1. Therefore, the red player should\n",
    "avoid this move.\n",
    "\n",
    "![toavoid.png](attachment:toavoid.png)"
   ]
  },
  {
   "cell_type": "markdown",
   "id": "8ee57706",
   "metadata": {},
   "source": [
    "We therefore define a function to_avoid() to collect all moves that the AI player should avoid to prevent the opponent from winning in two steps. The function is included in the file ch03util.py, and is defined as follows:"
   ]
  },
  {
   "cell_type": "code",
   "execution_count": 15,
   "id": "9d4dc055",
   "metadata": {},
   "outputs": [],
   "source": [
    "def to_avoid(env):\n",
    "    toavoid=[]\n",
    "    # look for ones you should avoid\n",
    "    for m in env.validinputs:\n",
    "        if len(env.occupied[m-1])<=4:\n",
    "            env_copy=deepcopy(env)\n",
    "            s,r,done,_=env_copy.step(m) \n",
    "            s,r,done,_=env_copy.step(m)                     \n",
    "            if done and r==-1:\n",
    "                toavoid.append(m) \n",
    "    return toavoid"
   ]
  },
  {
   "cell_type": "markdown",
   "id": "158039d0",
   "metadata": {},
   "source": [
    "Later when we define the AI_think2() function, we'll program in such a way os that the AI player avoids moves generated by the function to_avoid(). "
   ]
  },
  {
   "attachments": {
    "toblock.png": {
     "image/png": "[encoded data removed]"
    }
   },
   "cell_type": "markdown",
   "id": "5e1f64e7",
   "metadata": {},
   "source": [
    "## 4.2. Moves to Block\n",
    "In the next case, the AI player should block a certain move so the opponent won’t win in two steps. In the game as shown below, it’s the yellow player’s turn. If the yellow player doesn’t choose column 1 in the next move, the opponent can choose column\n",
    "1 and win on the following turn. Therefore, the yellow player should block this move.\n",
    "\n",
    "![toblock.png](attachment:toblock.png)"
   ]
  },
  {
   "cell_type": "markdown",
   "id": "b832a20e",
   "metadata": {},
   "source": [
    "Later when we define the AI_think2() function, we iterature through all combinations of move m1 for the AI player and move m2 for the opponent, where m1 is different from m2. If the next two moves m1 and m2 leads to a win for the opponent in two steps, the AI player should block by placing a piece in m2 as the next move.  "
   ]
  },
  {
   "cell_type": "markdown",
   "id": "0bd5e7d9",
   "metadata": {},
   "source": [
    "## 4.3. A Think-Two-Steps-Ahead AI\n",
    "We define a function AI_think2(). The function first checks if there is a move that wins the game for the AI player right away. If yes, it returns the move. Otherwise, the function checks if there is a move that should be blocked to prevent the opponent from winning two steps ahead. If yes, it blocks the opponents' move. If not, the function checks if there is a move that should be avoided to prevent the opponent from winning two steps ahead. If yes, the AI player randomly picks a valid move that's not one of the moves that should be avoided. \n",
    "\n",
    "The following function AI_think2() is defined in the file in the file ch03util.py in the /utils/ folder. If you have downloaded the file ch03util.py from the book's GitHub repository, the function is already defined in the file. "
   ]
  },
  {
   "cell_type": "code",
   "execution_count": 16,
   "id": "d0f0dc85",
   "metadata": {},
   "outputs": [],
   "source": [
    "def AI_think2(env):\n",
    "    # See if there is a winning move \n",
    "    winner=AI_think1(env)\n",
    "    # if yes, take it\n",
    "    if winner is not None:\n",
    "        return winner\n",
    "    # look for ones you should block\n",
    "    for m1 in env.validinputs:\n",
    "        for m2 in env.validinputs:\n",
    "            if m1!=m2:\n",
    "                env_copy=deepcopy(env)\n",
    "                s,r,done,_=env_copy.step(m1) \n",
    "                s,r,done,_=env_copy.step(m2)                     \n",
    "                # block your opponent's winning move\n",
    "                if done and r!=0:\n",
    "                    return m2 \n",
    "    # look for ones you should avoid\n",
    "    toavoid=to_avoid()\n",
    "    if len(toavoid)>0:\n",
    "        leftovers=[i for i in env.validinputs if i not in toavoid]\n",
    "        if len(leftovers)>0:\n",
    "            return random.choice(leftovers)\n",
    "    # return None otherwise\n",
    "    return None "
   ]
  },
  {
   "cell_type": "markdown",
   "id": "f7a02e01",
   "metadata": {},
   "source": [
    "The function is applies to both players. \n",
    "\n",
    "Next, we'll play against the think-two-steps-ahead AI player and make sure it's working the way we intended it to do. "
   ]
  },
  {
   "cell_type": "markdown",
   "id": "6997e023",
   "metadata": {},
   "source": [
    "## 3.2. Play against the Think-Two-Steps-Ahead AI\n",
    "To play against the think-two-steps-ahead AI we just created, we use define the AI_vs_manual() function we have created before to play a game manually. "
   ]
  },
  {
   "cell_type": "markdown",
   "id": "84f085f8",
   "metadata": {},
   "source": [
    "We'll use AI_think2 as the argument in the AI_vs_manual() function. I'll choose to be player O this time."
   ]
  },
  {
   "cell_type": "code",
   "execution_count": 17,
   "id": "f34930dd",
   "metadata": {
    "scrolled": false
   },
   "outputs": [
    {
     "name": "stdout",
     "output_type": "stream",
     "text": [
      "Do you want to be the red or the yellow player?yellow\n",
      "the current state is state=\n",
      "[[0 0 0 0 0 0 0]\n",
      " [0 0 0 0 0 0 0]\n",
      " [0 0 0 0 0 0 0]\n",
      " [0 0 0 0 0 0 0]\n",
      " [0 0 0 0 0 0 0]\n",
      " [0 0 0 0 0 0 0]]\n",
      "AI has chosen move 3\n",
      "the current state is state=\n",
      "[[0 0 0 0 0 0 0]\n",
      " [0 0 0 0 0 0 0]\n",
      " [0 0 0 0 0 0 0]\n",
      " [0 0 0 0 0 0 0]\n",
      " [0 0 0 0 0 0 0]\n",
      " [0 0 1 0 0 0 0]]\n",
      "enter your move:4\n",
      "you have chosen move 4\n",
      "the current state is state=\n",
      "[[ 0  0  0  0  0  0  0]\n",
      " [ 0  0  0  0  0  0  0]\n",
      " [ 0  0  0  0  0  0  0]\n",
      " [ 0  0  0  0  0  0  0]\n",
      " [ 0  0  0  0  0  0  0]\n",
      " [ 0  0  1 -1  0  0  0]]\n",
      "AI has chosen move 2\n",
      "the current state is state=\n",
      "[[ 0  0  0  0  0  0  0]\n",
      " [ 0  0  0  0  0  0  0]\n",
      " [ 0  0  0  0  0  0  0]\n",
      " [ 0  0  0  0  0  0  0]\n",
      " [ 0  0  0  0  0  0  0]\n",
      " [ 0  1  1 -1  0  0  0]]\n",
      "enter your move:4\n",
      "you have chosen move 4\n",
      "the current state is state=\n",
      "[[ 0  0  0  0  0  0  0]\n",
      " [ 0  0  0  0  0  0  0]\n",
      " [ 0  0  0  0  0  0  0]\n",
      " [ 0  0  0  0  0  0  0]\n",
      " [ 0  0  0 -1  0  0  0]\n",
      " [ 0  1  1 -1  0  0  0]]\n",
      "AI has chosen move 4\n",
      "the current state is state=\n",
      "[[ 0  0  0  0  0  0  0]\n",
      " [ 0  0  0  0  0  0  0]\n",
      " [ 0  0  0  0  0  0  0]\n",
      " [ 0  0  0  1  0  0  0]\n",
      " [ 0  0  0 -1  0  0  0]\n",
      " [ 0  1  1 -1  0  0  0]]\n",
      "enter your move:5\n",
      "you have chosen move 5\n",
      "the current state is state=\n",
      "[[ 0  0  0  0  0  0  0]\n",
      " [ 0  0  0  0  0  0  0]\n",
      " [ 0  0  0  0  0  0  0]\n",
      " [ 0  0  0  1  0  0  0]\n",
      " [ 0  0  0 -1  0  0  0]\n",
      " [ 0  1  1 -1 -1  0  0]]\n",
      "AI has chosen move 1\n",
      "the current state is state=\n",
      "[[ 0  0  0  0  0  0  0]\n",
      " [ 0  0  0  0  0  0  0]\n",
      " [ 0  0  0  0  0  0  0]\n",
      " [ 0  0  0  1  0  0  0]\n",
      " [ 0  0  0 -1  0  0  0]\n",
      " [ 1  1  1 -1 -1  0  0]]\n",
      "enter your move:6\n",
      "you have chosen move 6\n",
      "the current state is state=\n",
      "[[ 0  0  0  0  0  0  0]\n",
      " [ 0  0  0  0  0  0  0]\n",
      " [ 0  0  0  0  0  0  0]\n",
      " [ 0  0  0  1  0  0  0]\n",
      " [ 0  0  0 -1  0  0  0]\n",
      " [ 1  1  1 -1 -1 -1  0]]\n",
      "AI has chosen move 7\n",
      "the current state is state=\n",
      "[[ 0  0  0  0  0  0  0]\n",
      " [ 0  0  0  0  0  0  0]\n",
      " [ 0  0  0  0  0  0  0]\n",
      " [ 0  0  0  1  0  0  0]\n",
      " [ 0  0  0 -1  0  0  0]\n",
      " [ 1  1  1 -1 -1 -1  1]]\n",
      "enter your move:5\n",
      "you have chosen move 5\n",
      "the current state is state=\n",
      "[[ 0  0  0  0  0  0  0]\n",
      " [ 0  0  0  0  0  0  0]\n",
      " [ 0  0  0  0  0  0  0]\n",
      " [ 0  0  0  1  0  0  0]\n",
      " [ 0  0  0 -1 -1  0  0]\n",
      " [ 1  1  1 -1 -1 -1  1]]\n",
      "AI has chosen move 3\n",
      "the current state is state=\n",
      "[[ 0  0  0  0  0  0  0]\n",
      " [ 0  0  0  0  0  0  0]\n",
      " [ 0  0  0  0  0  0  0]\n",
      " [ 0  0  0  1  0  0  0]\n",
      " [ 0  0  1 -1 -1  0  0]\n",
      " [ 1  1  1 -1 -1 -1  1]]\n",
      "enter your move:6\n",
      "you have chosen move 6\n",
      "the current state is state=\n",
      "[[ 0  0  0  0  0  0  0]\n",
      " [ 0  0  0  0  0  0  0]\n",
      " [ 0  0  0  0  0  0  0]\n",
      " [ 0  0  0  1  0  0  0]\n",
      " [ 0  0  1 -1 -1 -1  0]\n",
      " [ 1  1  1 -1 -1 -1  1]]\n",
      "AI has chosen move 7\n",
      "the current state is state=\n",
      "[[ 0  0  0  0  0  0  0]\n",
      " [ 0  0  0  0  0  0  0]\n",
      " [ 0  0  0  0  0  0  0]\n",
      " [ 0  0  0  1  0  0  0]\n",
      " [ 0  0  1 -1 -1 -1  1]\n",
      " [ 1  1  1 -1 -1 -1  1]]\n",
      "enter your move:6\n",
      "you have chosen move 6\n",
      "the current state is state=\n",
      "[[ 0  0  0  0  0  0  0]\n",
      " [ 0  0  0  0  0  0  0]\n",
      " [ 0  0  0  0  0  0  0]\n",
      " [ 0  0  0  1  0 -1  0]\n",
      " [ 0  0  1 -1 -1 -1  1]\n",
      " [ 1  1  1 -1 -1 -1  1]]\n",
      "AI has chosen move 6\n",
      "the current state is state=\n",
      "[[ 0  0  0  0  0  0  0]\n",
      " [ 0  0  0  0  0  0  0]\n",
      " [ 0  0  0  0  0  1  0]\n",
      " [ 0  0  0  1  0 -1  0]\n",
      " [ 0  0  1 -1 -1 -1  1]\n",
      " [ 1  1  1 -1 -1 -1  1]]\n",
      "enter your move:5\n",
      "you have chosen move 5\n",
      "the current state is state=\n",
      "[[ 0  0  0  0  0  0  0]\n",
      " [ 0  0  0  0  0  0  0]\n",
      " [ 0  0  0  0  0  1  0]\n",
      " [ 0  0  0  1 -1 -1  0]\n",
      " [ 0  0  1 -1 -1 -1  1]\n",
      " [ 1  1  1 -1 -1 -1  1]]\n",
      "AI has chosen move 5\n",
      "the current state is state=\n",
      "[[ 0  0  0  0  0  0  0]\n",
      " [ 0  0  0  0  0  0  0]\n",
      " [ 0  0  0  0  1  1  0]\n",
      " [ 0  0  0  1 -1 -1  0]\n",
      " [ 0  0  1 -1 -1 -1  1]\n",
      " [ 1  1  1 -1 -1 -1  1]]\n",
      "the AI player won\n"
     ]
    }
   ],
   "source": [
    "from utils.ch03util import AI_think2\n",
    "\n",
    "AI_vs_manual(env,AI_think2)"
   ]
  },
  {
   "cell_type": "markdown",
   "id": "a0e5889e",
   "metadata": {},
   "source": [
    "As you can see above, the AI player has blocked me from winning twice by placing a piece in column 7. Looks like the AI_player2() function can indeed think two steps ahead and block the opponent's winning move.  \n",
    "\n",
    "As an exercise, you can call the AI_vs_manual() and use AI_think2 as its argument and play a game with the AI player. Choose red at the beginning so that the AI player goes second. Create a winning opportunity for yourself and see if the AI blocks your winning move. "
   ]
  },
  {
   "cell_type": "markdown",
   "id": "dc9aa1f0",
   "metadata": {},
   "source": [
    "## 4.3. Test the Efficacy of the Think-Two-Steps-Ahead AI"
   ]
  },
  {
   "cell_type": "markdown",
   "id": "2864dd05",
   "metadata": {},
   "source": [
    "We again create an empty list *results* to store game outcomes. We simulate 1000 games. Half the time, the think-one-step-ahead AI player moves first and the other half of the time, the think-two-steps-ahead AI player moves first. This way, one player has a first-mover advantage. second. Whenever the think-two-steps-aheadAI player moves second, we multiple the outcome by -1 so that when a value 1 in the list *results* indicates that the think-two-steps-ahead AI player has won and the think-one-step-ahead AI player has lost. "
   ]
  },
  {
   "cell_type": "code",
   "execution_count": 18,
   "id": "63d36b68",
   "metadata": {},
   "outputs": [],
   "source": [
    "results=[]\n",
    "for i in range(1000):\n",
    "    # AI moves first if i is an even number\n",
    "    if i%2==0:\n",
    "        result=test_game(AI_think2,AI_think1)\n",
    "        # record game outcome\n",
    "        results.append(result)\n",
    "    # AI moves second if i is an odd number\n",
    "    else:\n",
    "        result=test_game(AI_think1,AI_think2)\n",
    "        # record negative of game outcome\n",
    "        results.append(-result)"
   ]
  },
  {
   "cell_type": "markdown",
   "id": "db1c3c19",
   "metadata": {},
   "source": [
    "We iterate i from 0 to 999. Whenever i is an even number, we simulate a game and let the think-two-steps-ahead AI player move first. The outcome is added to the list *results*: 1 means the think-two-steps-ahead player wins and -1 means the think-one-step-ahead AI player wins. Whenever i is an odd number, we simulate a game and let the think-one-step-ahead AI player move first. We then multiply the outcome by -1 so that 1 means the think-two-steps-ahead AI player has won. \n",
    "\n",
    "Run the above code cells so that we simulate 1000 games and get the outcome.\n",
    "\n",
    "Next, we count how many times the think-two-steps-ahead AI player has won by counting the number of 1s in the list *results*. Similarly, the number of -1s is the number of times the think-two-steps-ahead AI player has lost. Like so:"
   ]
  },
  {
   "cell_type": "code",
   "execution_count": 19,
   "id": "d07476eb",
   "metadata": {},
   "outputs": [
    {
     "name": "stdout",
     "output_type": "stream",
     "text": [
      "the think-two-steps-ahead AI won 859 games\n",
      "the think-two-steps-ahead AI lost 141 games\n",
      "the game has tied 0 games\n"
     ]
    }
   ],
   "source": [
    "# count how many times AI player has won\n",
    "wins=results.count(1)\n",
    "print(f\"the think-two-steps-ahead AI won {wins} games\")\n",
    "# count how many times AI player has lost\n",
    "losses=results.count(-1)\n",
    "print(f\"the think-two-steps-ahead AI lost {losses} games\")\n",
    "# count tie games\n",
    "ties=results.count(0)\n",
    "print(f\"the game has tied {ties} games\")  "
   ]
  },
  {
   "cell_type": "markdown",
   "id": "e8b1c415",
   "metadata": {},
   "source": [
    "Results show that the think-two-steps-ahead AI player has won 859 out of the 1000 games; it has lost to the think-one-step-ahead player 141 times. There is no tie game. This indicates that the think-two-step-ahead AI player is clearly better than the think-one-step-ahead AI player. "
   ]
  },
  {
   "cell_type": "markdown",
   "id": "21150dcc",
   "metadata": {},
   "source": [
    "# 5. Think Three Steps Ahead\n",
    "This next section will allow the AI player to think up to three steps ahead before taking its turn. If the AI player has no winning move in the next step and the opponent has no winning moves two steps ahead, the AI player will look three steps ahead.\n",
    "It will take the next move that most likely leads to a win in three steps. In particular, if there’s a next move that guarantees the AI player to win in three steps, the AI palyer will select that next move as the best one.\n",
    "Let’s use an example to demonstrate."
   ]
  },
  {
   "cell_type": "markdown",
   "id": "d84715aa",
   "metadata": {},
   "source": [
    "## 5.1. An Example of Winning in Three Steps\n",
    "Consider the example as illustrated in the figure below. The red player is about to move, and if it chooses column 6 as its next move, it can create a double attack and gurantee a win in three steps: the red player can win by placing a piece in column 3 or column 7 in three steps and win the game. The yellow player can either block column 3 or column 7, but not both. "
   ]
  },
  {
   "attachments": {
    "doubleattack.png": {
     "image/png": "[encoded data removed]"
    }
   },
   "cell_type": "markdown",
   "id": "5873c5f4",
   "metadata": {},
   "source": [
    "![doubleattack.png](attachment:doubleattack.png)"
   ]
  },
  {
   "cell_type": "markdown",
   "id": "fb8383c8",
   "metadata": {},
   "source": [
    "## 5.2. Create an AI Player Who Thinks Three Steps Ahead\n",
    "We define a function AI_think3(). The function checks if there is a move that wins the game for the AI player right away or if the opponent has a winning move two steps ahead. If not, the player looks three steps ahead and choose the move that most likely leads to a win.  \n",
    "\n",
    "Run the following code cell to define the function:"
   ]
  },
  {
   "cell_type": "code",
   "execution_count": 20,
   "id": "b0fc9783",
   "metadata": {},
   "outputs": [],
   "source": [
    "def AI_think3(env):\n",
    "    # See if there is value from AI_think2() \n",
    "    think2=AI_think2(env)\n",
    "    # if yes, take it\n",
    "    if think2 is not None:\n",
    "        return think2\n",
    "    # look 3 steps ahead\n",
    "    w3=[]\n",
    "    for m1 in env.validinputs:\n",
    "        for m2 in env.validinputs:\n",
    "            for m3 in env.validinputs:\n",
    "                try:\n",
    "                    env_copy=deepcopy(env)\n",
    "                    s,r,done,_=env_copy.step(m1) \n",
    "                    s,r,done,_=env_copy.step(m2)   \n",
    "                    s,r,done,_=env_copy.step(m3)                    \n",
    "                    if done and r!=0:\n",
    "                        w3.append(m1) \n",
    "                except:\n",
    "                    pass\n",
    "    # Choose the most frequent winner\n",
    "    if len(w3)>0:\n",
    "        return max(set(w3),key=w3.count)                \n",
    "    # Take random move otherwise\n",
    "    return random.choice(env.validinputs)"
   ]
  },
  {
   "cell_type": "markdown",
   "id": "840da4ef",
   "metadata": {},
   "source": [
    "The function is applies to both player X and player O. \n",
    "\n",
    "Next, we'll play against the think-two-steps-ahead AI player and make sure it's working the way we intended it to do. "
   ]
  },
  {
   "cell_type": "markdown",
   "id": "3f207d6d",
   "metadata": {},
   "source": [
    "## 5.3. Play against the Think-Three-Steps-Ahead AI\n",
    "To play against the think-three-steps-ahead AI we just created, we use define the AI_vs_manual() function we have created before to play a game manually. "
   ]
  },
  {
   "cell_type": "markdown",
   "id": "80af37ef",
   "metadata": {},
   "source": [
    "We'll use AI_think3 as the argument in the AI_vs_manual() function. I'll choose to be player O and create an opportunity for Player X to have a double attack."
   ]
  },
  {
   "cell_type": "code",
   "execution_count": 21,
   "id": "26a3bd78",
   "metadata": {},
   "outputs": [
    {
     "name": "stdout",
     "output_type": "stream",
     "text": [
      "Do you want to be the red or the yellow player?yellow\n",
      "the current state is state=\n",
      "[[0 0 0 0 0 0 0]\n",
      " [0 0 0 0 0 0 0]\n",
      " [0 0 0 0 0 0 0]\n",
      " [0 0 0 0 0 0 0]\n",
      " [0 0 0 0 0 0 0]\n",
      " [0 0 0 0 0 0 0]]\n",
      "AI has chosen move 3\n",
      "the current state is state=\n",
      "[[0 0 0 0 0 0 0]\n",
      " [0 0 0 0 0 0 0]\n",
      " [0 0 0 0 0 0 0]\n",
      " [0 0 0 0 0 0 0]\n",
      " [0 0 0 0 0 0 0]\n",
      " [0 0 1 0 0 0 0]]\n",
      "enter your move:7\n",
      "you have chosen move 7\n",
      "the current state is state=\n",
      "[[ 0  0  0  0  0  0  0]\n",
      " [ 0  0  0  0  0  0  0]\n",
      " [ 0  0  0  0  0  0  0]\n",
      " [ 0  0  0  0  0  0  0]\n",
      " [ 0  0  0  0  0  0  0]\n",
      " [ 0  0  1  0  0  0 -1]]\n",
      "AI has chosen move 3\n",
      "the current state is state=\n",
      "[[ 0  0  0  0  0  0  0]\n",
      " [ 0  0  0  0  0  0  0]\n",
      " [ 0  0  0  0  0  0  0]\n",
      " [ 0  0  0  0  0  0  0]\n",
      " [ 0  0  1  0  0  0  0]\n",
      " [ 0  0  1  0  0  0 -1]]\n",
      "enter your move:3\n",
      "you have chosen move 3\n",
      "the current state is state=\n",
      "[[ 0  0  0  0  0  0  0]\n",
      " [ 0  0  0  0  0  0  0]\n",
      " [ 0  0  0  0  0  0  0]\n",
      " [ 0  0 -1  0  0  0  0]\n",
      " [ 0  0  1  0  0  0  0]\n",
      " [ 0  0  1  0  0  0 -1]]\n",
      "AI has chosen move 1\n",
      "the current state is state=\n",
      "[[ 0  0  0  0  0  0  0]\n",
      " [ 0  0  0  0  0  0  0]\n",
      " [ 0  0  0  0  0  0  0]\n",
      " [ 0  0 -1  0  0  0  0]\n",
      " [ 0  0  1  0  0  0  0]\n",
      " [ 1  0  1  0  0  0 -1]]\n",
      "enter your move:7\n",
      "you have chosen move 7\n",
      "the current state is state=\n",
      "[[ 0  0  0  0  0  0  0]\n",
      " [ 0  0  0  0  0  0  0]\n",
      " [ 0  0  0  0  0  0  0]\n",
      " [ 0  0 -1  0  0  0  0]\n",
      " [ 0  0  1  0  0  0 -1]\n",
      " [ 1  0  1  0  0  0 -1]]\n",
      "AI has chosen move 2\n",
      "the current state is state=\n",
      "[[ 0  0  0  0  0  0  0]\n",
      " [ 0  0  0  0  0  0  0]\n",
      " [ 0  0  0  0  0  0  0]\n",
      " [ 0  0 -1  0  0  0  0]\n",
      " [ 0  0  1  0  0  0 -1]\n",
      " [ 1  1  1  0  0  0 -1]]\n",
      "enter your move:4\n",
      "you have chosen move 4\n",
      "the current state is state=\n",
      "[[ 0  0  0  0  0  0  0]\n",
      " [ 0  0  0  0  0  0  0]\n",
      " [ 0  0  0  0  0  0  0]\n",
      " [ 0  0 -1  0  0  0  0]\n",
      " [ 0  0  1  0  0  0 -1]\n",
      " [ 1  1  1 -1  0  0 -1]]\n",
      "AI has chosen move 2\n",
      "the current state is state=\n",
      "[[ 0  0  0  0  0  0  0]\n",
      " [ 0  0  0  0  0  0  0]\n",
      " [ 0  0  0  0  0  0  0]\n",
      " [ 0  0 -1  0  0  0  0]\n",
      " [ 0  1  1  0  0  0 -1]\n",
      " [ 1  1  1 -1  0  0 -1]]\n",
      "enter your move:5\n",
      "you have chosen move 5\n",
      "the current state is state=\n",
      "[[ 0  0  0  0  0  0  0]\n",
      " [ 0  0  0  0  0  0  0]\n",
      " [ 0  0  0  0  0  0  0]\n",
      " [ 0  0 -1  0  0  0  0]\n",
      " [ 0  1  1  0  0  0 -1]\n",
      " [ 1  1  1 -1 -1  0 -1]]\n",
      "AI has chosen move 6\n",
      "the current state is state=\n",
      "[[ 0  0  0  0  0  0  0]\n",
      " [ 0  0  0  0  0  0  0]\n",
      " [ 0  0  0  0  0  0  0]\n",
      " [ 0  0 -1  0  0  0  0]\n",
      " [ 0  1  1  0  0  0 -1]\n",
      " [ 1  1  1 -1 -1  1 -1]]\n",
      "enter your move:6\n",
      "you have chosen move 6\n",
      "the current state is state=\n",
      "[[ 0  0  0  0  0  0  0]\n",
      " [ 0  0  0  0  0  0  0]\n",
      " [ 0  0  0  0  0  0  0]\n",
      " [ 0  0 -1  0  0  0  0]\n",
      " [ 0  1  1  0  0 -1 -1]\n",
      " [ 1  1  1 -1 -1  1 -1]]\n",
      "AI has chosen move 4\n",
      "the current state is state=\n",
      "[[ 0  0  0  0  0  0  0]\n",
      " [ 0  0  0  0  0  0  0]\n",
      " [ 0  0  0  0  0  0  0]\n",
      " [ 0  0 -1  0  0  0  0]\n",
      " [ 0  1  1  1  0 -1 -1]\n",
      " [ 1  1  1 -1 -1  1 -1]]\n",
      "enter your move:1\n",
      "you have chosen move 1\n",
      "the current state is state=\n",
      "[[ 0  0  0  0  0  0  0]\n",
      " [ 0  0  0  0  0  0  0]\n",
      " [ 0  0  0  0  0  0  0]\n",
      " [ 0  0 -1  0  0  0  0]\n",
      " [-1  1  1  1  0 -1 -1]\n",
      " [ 1  1  1 -1 -1  1 -1]]\n",
      "AI has chosen move 5\n",
      "the current state is state=\n",
      "[[ 0  0  0  0  0  0  0]\n",
      " [ 0  0  0  0  0  0  0]\n",
      " [ 0  0  0  0  0  0  0]\n",
      " [ 0  0 -1  0  0  0  0]\n",
      " [-1  1  1  1  1 -1 -1]\n",
      " [ 1  1  1 -1 -1  1 -1]]\n",
      "the AI player won\n"
     ]
    }
   ],
   "source": [
    "from utils.ch03util import AI_think3\n",
    "\n",
    "AI_vs_manual(env,AI_think3)"
   ]
  },
  {
   "cell_type": "markdown",
   "id": "ac0cf8c1",
   "metadata": {},
   "source": [
    "As you can see above, when the AI player places a piece in column 4, it has created a double attack: it can win by placing a piece in column 1 or column 5. I can only block column 5 or column 1, but not both. So the AI player wins in three steps. \n",
    "\n",
    "As an exercise, you can call the AI_vs_manual() and use AI_think3 as its argument and play a game with the AI player. Choose yellow at the beginning so that the AI player goes first. Create an opportunity for the AI player to have a double attack and see if it indeed places a piece to create a double attack and win in three steps."
   ]
  },
  {
   "cell_type": "markdown",
   "id": "6572cd31",
   "metadata": {},
   "source": [
    "## 5.4. The Efficacy of the Think-Three-Steps-Ahead AI\n",
    "Below, we'll the test_game() function to test the efficacy of the think-three-steps-ahead AI against the think-two-steps-ahead AI. "
   ]
  },
  {
   "cell_type": "markdown",
   "id": "5a5e25a8",
   "metadata": {},
   "source": [
    "We again create an empty list *results* to store game outcomes. We simulate 1000 games. Half the time, the think-three-steps-ahead AI player moves first and the other half of the time, the think-two-steps-ahead AI player moves first. This way, no player has a first-mover advantage. second. Whenever the think-three-steps-ahead AI player moves second, we multiple the outcome by -1 so that a value 1 in the list *results* indicates that the think-three-steps-ahead AI player has won."
   ]
  },
  {
   "cell_type": "code",
   "execution_count": 22,
   "id": "bdb68745",
   "metadata": {},
   "outputs": [],
   "source": [
    "results=[]\n",
    "for i in range(1000):\n",
    "    # AI moves first if i is an even number\n",
    "    if i%2==0:\n",
    "        result=test_game(env,AI_think3,AI_think2)\n",
    "        # record game outcome\n",
    "        results.append(result)\n",
    "    # AI moves second if i is an odd number\n",
    "    else:\n",
    "        result=test_game(env,AI_think2,AI_think3)\n",
    "        # record negative of game outcome\n",
    "        results.append(-result)"
   ]
  },
  {
   "cell_type": "markdown",
   "id": "d04f060d",
   "metadata": {},
   "source": [
    "We iterate i from 0 to 999. Whenever i is an even number, we simulate a game and let the think-two-steps-ahead AI player move first. The outcome is added to the list *results*: 1 means the think-two-steps-ahead player wins and -1 means the think-one-step-ahead AI player wins. Whenever i is an odd number, we simulate a game and let the think-one-step-ahead AI player move first. We then multiply the outcome by -1 so that 1 means the think-two-steps-ahead AI player has won. \n",
    "\n",
    "Run the above code cells so that we simulate 1000 games and get the outcome.\n",
    "\n",
    "Next, we count how many times the think-two-steps-ahead AI player has won by counting the number of 1s in the list *results*. Similarly, the number of -1s is the number of times the think-two-steps-ahead AI player has lost. Like so:"
   ]
  },
  {
   "cell_type": "code",
   "execution_count": 23,
   "id": "0be4d7ec",
   "metadata": {},
   "outputs": [
    {
     "name": "stdout",
     "output_type": "stream",
     "text": [
      "the think-three-steps-ahead AI won 566 games\n",
      "the think-three-steps-ahead AI lost 369 games\n",
      "the game has tied 65 times\n"
     ]
    }
   ],
   "source": [
    "# count how many times AI player has won\n",
    "wins=results.count(1)\n",
    "print(f\"the think-three-steps-ahead AI won {wins} games\")\n",
    "# count how many times AI player has lost\n",
    "losses=results.count(-1)\n",
    "print(f\"the think-three-steps-ahead AI lost {losses} games\")\n",
    "# count tie games\n",
    "ties=results.count(0)\n",
    "print(f\"the game has tied {ties} times\")  "
   ]
  },
  {
   "cell_type": "markdown",
   "id": "da324945",
   "metadata": {},
   "source": [
    "Results show that the think-two-steps-ahead AI player has won 566 out of the 1000 games; it has lost to the think-one-step-ahead player 369 times. There are a total of 65 tie games. This indicates that the think-three-step-ahead AI player is clearly better than the think-two-steps-ahead AI player. "
   ]
  }
 ],
 "metadata": {
  "kernelspec": {
   "display_name": "Python 3 (ipykernel)",
   "language": "python",
   "name": "python3"
  },
  "language_info": {
   "codemirror_mode": {
    "name": "ipython",
    "version": 3
   },
   "file_extension": ".py",
   "mimetype": "text/x-python",
   "name": "python",
   "nbconvert_exporter": "python",
   "pygments_lexer": "ipython3",
   "version": "3.9.12"
  }
 },
 "nbformat": 4,
 "nbformat_minor": 5
}
