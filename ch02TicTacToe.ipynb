{
 "cells": [
  {
   "cell_type": "markdown",
   "id": "653089c9",
   "metadata": {},
   "source": [
    "# Chapter 2: Look-Ahead Search in Tic Tac Toe\n",
    "\n",
    "\n",
    "\n",
    "***\n",
    "*“Saying Deep Blue doesn't really think about chess is like saying an airplane doesn't really\n",
    "fly because it doesn't flap its wings.”*\n",
    "\n",
    "-- Drew McDermott\n",
    "***\n",
    "\n",
    "\n",
    "\n",
    "What you'll learn in this chapter:\n",
    "\n",
    "* Learning the rules of Tic Tac Toe\n",
    "* Playing Tic Tac Toe in the local game environment\n",
    "* Creating agents that can think one, two, or three steps ahead\n",
    "* Testing the effectiveness of AI agents in Tic Tac Toe\n",
    "\n",
    "\n",
    "In this chapter, you'll learn to play the Tic Tac Toe game in a local game environment. You'll hard code in various rules to make the AI player think up to three\n",
    "steps ahead. You'll then deploy the strategies against a random player and each other\n",
    "and see how effective they are. Coding in rule-based AI in Tic Tac Toe\n",
    "in this chapter serves at least four purposes. First, you'll learn how to\n",
    "build an AI agent that can think up to three steps ahead and generalize\n",
    "the logic to other games or real-world situations. Second, it introduces\n",
    "you to the game environment of Tic Tac Toe, as we'll use this game to\n",
    "study other AI algorithms later in this book, such as MiniMax, Monte\n",
    "Carlo Tree Search, Actor-Critic, and so on. Third, in deep reinforcement\n",
    "learning, an agent learns from playing against intelligent opponents, and\n",
    "we'll use the AI players created in this chapter as opponents when we\n",
    "design deep reinforcement learning game strategies. Fourth, later in\n",
    "this book, we'll use rule-based AI to test how effective a certain game\n",
    "strategy is; that is, we'll use rule-based AI as our benchmark when\n",
    "testing the effectiveness of various game strategies.\n",
    "\n",
    "To build an AI player who can think one step ahead, we iterate through\n",
    "all possible next moves and check if any one of them leads to winning\n",
    "the game right away. If yes, the AI player will take the move. Thinking\n",
    "two steps ahead means that the AI player tries to prevent the opponent\n",
    "from winning the next turn. The program iterates through all\n",
    "combinations of the next two moves and checks if there is a combination that\n",
    "leads to a win for the opponent. If yes, the AI player blocks the\n",
    "opponent's move. By thinking three steps ahead, the AI player follows\n",
    "the path that most likely leads to a victory after three moves. In many\n",
    "scenarios, thinking three steps ahead can guarantee a win for the AI\n",
    "player in three steps."
   ]
  },
  {
   "cell_type": "markdown",
   "id": "282ad876",
   "metadata": {},
   "source": [
    "# 1. The Tic Tac Toe Game Environment"
   ]
  },
  {
   "cell_type": "markdown",
   "id": "79c437e8",
   "metadata": {},
   "source": [
    "## 1.1. Methods and Attributes in Tic Tac Toe\n",
    "\n",
    "First, download the file *coin_env.py* from the book's GitHub repository https://github.com/markhliu/AlphaGoSimplified and  place it in the folder /Desktop/ags/utils/ on your computer. "
   ]
  },
  {
   "cell_type": "markdown",
   "id": "de2d7767",
   "metadata": {},
   "source": [
    "## 1.2. Familirize Yourself with the Tic Tac Toe Game Environment"
   ]
  },
  {
   "cell_type": "code",
   "execution_count": 1,
   "id": "a847d4fe",
   "metadata": {},
   "outputs": [],
   "source": [
    "from utils.ttt_env import ttt\n",
    "\n",
    "env = ttt()\n",
    "env.reset()                    \n",
    "env.render()"
   ]
  },
  {
   "cell_type": "markdown",
   "id": "06e6bd0a",
   "metadata": {},
   "source": [
    "We import the *ttt* class from the local *ttt_env* module and set it as our game environment. Since we called the *render()* method in the above code cell, you should see a separate turtle window, with a game board as shown below: \n",
    "<img src=\"https://gattonweb.uky.edu/faculty/lium/ml/ttt_start.png\" />"
   ]
  },
  {
   "cell_type": "markdown",
   "id": "0977029b",
   "metadata": {},
   "source": [
    "The nine cells on the game board are marked 1 through nine. After each move, the corresponding cell will be marked with an X or an O. \n",
    "\n",
    "If you want to close the game board window, use the *close()* method, like so:"
   ]
  },
  {
   "cell_type": "code",
   "execution_count": 2,
   "id": "439f093e",
   "metadata": {},
   "outputs": [],
   "source": [
    "env.close()"
   ]
  },
  {
   "cell_type": "code",
   "execution_count": 3,
   "id": "15b9c0d7",
   "metadata": {},
   "outputs": [
    {
     "name": "stdout",
     "output_type": "stream",
     "text": [
      "the number of possible actions is 9\n",
      "the following are ten sample actions\n",
      "2\n",
      "7\n",
      "9\n",
      "9\n",
      "6\n",
      "8\n",
      "4\n",
      "2\n",
      "5\n",
      "9\n",
      "the shape of the observation space is (9,)\n"
     ]
    }
   ],
   "source": [
    "env=ttt()\n",
    "# check the action space\n",
    "number_actions=env.action_space.n\n",
    "print(\"the number of possible actions is\", number_actions)\n",
    "# sample the action space ten times\n",
    "print(\"the following are ten sample actions\")\n",
    "for i in range(10):\n",
    "   print(env.sample())\n",
    "# check the shape of the observation space\n",
    "print(\"the shape of the observation space is\",\\\n",
    "      env.observation_space.shape)"
   ]
  },
  {
   "cell_type": "markdown",
   "id": "fe6f879a",
   "metadata": {},
   "source": [
    "## 1.3. Play Games in the Tic Tac Toe Environment"
   ]
  },
  {
   "cell_type": "code",
   "execution_count": 4,
   "id": "f44d0601",
   "metadata": {},
   "outputs": [
    {
     "name": "stdout",
     "output_type": "stream",
     "text": [
      "the current state is \n",
      "[[0 0 0]\n",
      " [0 0 0]\n",
      " [0 0 0]]\n",
      "Player X has chosen action=2\n",
      "the current state is \n",
      "[[0 0 0]\n",
      " [0 0 0]\n",
      " [0 1 0]]\n",
      "Player O has chosen action=1\n",
      "the current state is \n",
      "[[ 0  0  0]\n",
      " [ 0  0  0]\n",
      " [-1  1  0]]\n",
      "Player X has chosen action=9\n",
      "the current state is \n",
      "[[ 0  0  1]\n",
      " [ 0  0  0]\n",
      " [-1  1  0]]\n",
      "Player O has chosen action=4\n",
      "the current state is \n",
      "[[ 0  0  1]\n",
      " [-1  0  0]\n",
      " [-1  1  0]]\n",
      "Player X has chosen action=8\n",
      "the current state is \n",
      "[[ 0  1  1]\n",
      " [-1  0  0]\n",
      " [-1  1  0]]\n",
      "Player O has chosen action=7\n",
      "game state is \n",
      "[[-1  1  1]\n",
      " [-1  0  0]\n",
      " [-1  1  0]]\n",
      "Player O has won!\n"
     ]
    }
   ],
   "source": [
    "import time\n",
    "\n",
    "# Initiate the game environment\n",
    "env=ttt()\n",
    "state=env.reset()   \n",
    "env.render()\n",
    "# Play a full game \n",
    "while True:\n",
    "    print(f\"the current state is \\n{state.reshape(3,3)[::-1]}\")    \n",
    "    action = env.sample()\n",
    "    time.sleep(1)\n",
    "    print(f\"Player X has chosen action={action}\")    \n",
    "    state, reward, done, info = env.step(action)\n",
    "    env.render()\n",
    "    if done:\n",
    "        print(f\"game state is \\n{state.reshape(3,3)[::-1]}\")\n",
    "        if reward==1:\n",
    "            print(\"Player X has won!\") \n",
    "        else:\n",
    "            print(\"It's a tie!\") \n",
    "        break\n",
    "    print(f\"the current state is \\n{state.reshape(3,3)[::-1]}\")    \n",
    "    action = env.sample()\n",
    "    time.sleep(1)\n",
    "    print(f\"Player O has chosen action={action}\")    \n",
    "    state, reward, done, info = env.step(action)\n",
    "    env.render()\n",
    "    if done:\n",
    "        print(f\"game state is \\n{state.reshape(3,3)[::-1]}\")\n",
    "        print(\"Player O has won!\") \n",
    "        break  \n",
    "env.close()    "
   ]
  },
  {
   "cell_type": "code",
   "execution_count": 5,
   "id": "aac17214",
   "metadata": {},
   "outputs": [
    {
     "name": "stdout",
     "output_type": "stream",
     "text": [
      "enter a number between 1 and 9 as your move:\n",
      "game state is \n",
      "[[0 0 0]\n",
      " [0 0 0]\n",
      " [0 0 0]]\n",
      "Player X, what's your move?\n",
      "5\n",
      "Player X has chosen action=5\n",
      "game state is \n",
      "[[0 0 0]\n",
      " [0 1 0]\n",
      " [0 0 0]]\n",
      "Player O, what's your move?\n",
      "1\n",
      "Player O has chosen action=1\n",
      "game state is \n",
      "[[ 0  0  0]\n",
      " [ 0  1  0]\n",
      " [-1  0  0]]\n",
      "Player X, what's your move?\n",
      "3\n",
      "Player X has chosen action=3\n",
      "game state is \n",
      "[[ 0  0  0]\n",
      " [ 0  1  0]\n",
      " [-1  0  1]]\n",
      "Player O, what's your move?\n",
      "7\n",
      "Player O has chosen action=7\n",
      "game state is \n",
      "[[-1  0  0]\n",
      " [ 0  1  0]\n",
      " [-1  0  1]]\n",
      "Player X, what's your move?\n",
      "4\n",
      "Player X has chosen action=4\n",
      "game state is \n",
      "[[-1  0  0]\n",
      " [ 1  1  0]\n",
      " [-1  0  1]]\n",
      "Player O, what's your move?\n",
      "6\n",
      "Player O has chosen action=6\n",
      "game state is \n",
      "[[-1  0  0]\n",
      " [ 1  1 -1]\n",
      " [-1  0  1]]\n",
      "Player X, what's your move?\n",
      "2\n",
      "Player X has chosen action=2\n",
      "game state is \n",
      "[[-1  0  0]\n",
      " [ 1  1 -1]\n",
      " [-1  1  1]]\n",
      "Player O, what's your move?\n",
      "8\n",
      "Player O has chosen action=8\n",
      "game state is \n",
      "[[-1 -1  0]\n",
      " [ 1  1 -1]\n",
      " [-1  1  1]]\n",
      "Player X, what's your move?\n",
      "9\n",
      "Player X has chosen action=9\n",
      "game state is \n",
      "[[-1 -1  1]\n",
      " [ 1  1 -1]\n",
      " [-1  1  1]]\n",
      "It's a tie!\n"
     ]
    }
   ],
   "source": [
    "state=env.reset() \n",
    "env.render()  \n",
    "print(\"enter a number between 1 and 9 as your move:\")\n",
    "# Play a full game manually\n",
    "while True:\n",
    "    print(f\"game state is \\n{state.reshape(3,3)[::-1]}\")   \n",
    "    m=int(input(f\"Player {env.turn}, what's your move?\\n\"))\n",
    "    print(f\"Player {env.turn} has chosen action={m}\")    \n",
    "    state, reward, done, info = env.step(m)\n",
    "    env.render() \n",
    "    if done:\n",
    "        print(f\"game state is \\n{state.reshape(3,3)[::-1]}\")\n",
    "        if reward!=0:\n",
    "            print(f\"Player {env.turn} has won!\") \n",
    "        else:\n",
    "            print(\"It's a tie!\") \n",
    "        break \n",
    "env.close()"
   ]
  },
  {
   "cell_type": "markdown",
   "id": "9bcbdf00",
   "metadata": {},
   "source": [
    "# 2. Think One Step Ahead in Tic Tac Toe"
   ]
  },
  {
   "cell_type": "markdown",
   "id": "e18df585",
   "metadata": {},
   "source": [
    "## 2.1. Create an AI Player Who Thinks One Step Ahead"
   ]
  },
  {
   "cell_type": "code",
   "execution_count": 6,
   "id": "3557ff1d",
   "metadata": {},
   "outputs": [],
   "source": [
    "from copy import deepcopy\n",
    "\n",
    "def ttt_think1(env):\n",
    "    # iterate through all possible next moves\n",
    "    for m in env.validinputs:\n",
    "        # make a hypothetical move\n",
    "        env_copy=deepcopy(env)\n",
    "        state,reward,done,_=env_copy.step(m) \n",
    "        # if reward is 1 or -1, current player wins\n",
    "        if done and abs(reward)==1:\n",
    "            # take the winning move\n",
    "            return m                  \n",
    "    # otherwise, randomly select a move\n",
    "    return env.sample()"
   ]
  },
  {
   "cell_type": "code",
   "execution_count": 7,
   "id": "71c3e8e9",
   "metadata": {},
   "outputs": [],
   "source": [
    "def ttt_random(env):\n",
    "    move = env.sample()\n",
    "    return move"
   ]
  },
  {
   "cell_type": "code",
   "execution_count": 8,
   "id": "b0cb728f",
   "metadata": {},
   "outputs": [],
   "source": [
    "def ttt_manual(env):\n",
    "    print(f\"game state is \\n{env.state.reshape(3,3)[::-1]}\") \n",
    "    while True:\n",
    "        move = input(f\"Player {env.turn}, what's your move?\")\n",
    "        try: \n",
    "            move = int(move)\n",
    "        except:\n",
    "            print(\"the move must be a number\")\n",
    "        if move in env.validinputs:\n",
    "            return move\n",
    "        else:\n",
    "            print(\"please enter a valid move\")"
   ]
  },
  {
   "cell_type": "code",
   "execution_count": 9,
   "id": "fc2f8827",
   "metadata": {},
   "outputs": [],
   "source": [
    "# Define the one_ttt_game() function\n",
    "def one_ttt_game(player1, player2):\n",
    "    env = ttt()\n",
    "    env.reset()     \n",
    "    while True:    \n",
    "        action = player1(env)  \n",
    "        state, reward, done, _ = env.step(action)\n",
    "        if done:\n",
    "            break\n",
    "        action = player2(env)  \n",
    "        state, reward, done, _ = env.step(action)\n",
    "        if done:\n",
    "            break            \n",
    "    return reward      "
   ]
  },
  {
   "cell_type": "markdown",
   "id": "2ebaaecd",
   "metadata": {},
   "source": [
    "## 2.2. Test the Think-One-Step-Ahead AI in Tic Tac Toe"
   ]
  },
  {
   "cell_type": "code",
   "execution_count": 10,
   "id": "e9d23acb",
   "metadata": {},
   "outputs": [
    {
     "name": "stdout",
     "output_type": "stream",
     "text": [
      "game state is \n",
      "[[0 0 0]\n",
      " [0 1 0]\n",
      " [0 0 0]]\n",
      "Player O, what's your move?1\n",
      "game state is \n",
      "[[ 0  0  1]\n",
      " [ 0  1  0]\n",
      " [-1  0  0]]\n",
      "Player O, what's your move?2\n",
      "game state is \n",
      "[[ 0  0  1]\n",
      " [ 0  1  1]\n",
      " [-1 -1  0]]\n",
      "Player O, what's your move?4\n",
      "the game outcome is 1\n"
     ]
    }
   ],
   "source": [
    "from utils.ch02util import one_ttt_game, ttt_think1, ttt_manual\n",
    "\n",
    "reward=one_ttt_game(ttt_think1, ttt_manual)\n",
    "print(f\"the game outcome is {reward}\")"
   ]
  },
  {
   "cell_type": "code",
   "execution_count": 11,
   "id": "176c2b71",
   "metadata": {},
   "outputs": [],
   "source": [
    "from utils.ch02util import ttt_random\n",
    "\n",
    "results=[]\n",
    "for i in range(1000):\n",
    "    # AI moves first if i is an even number\n",
    "    if i%2==0:\n",
    "        result=one_ttt_game(ttt_think1,ttt_random)\n",
    "        # record game outcome\n",
    "        results.append(result)\n",
    "    # AI moves second if i is an odd number\n",
    "    else:\n",
    "        result=one_ttt_game(ttt_random,ttt_think1)\n",
    "        # record negative of the game outcome\n",
    "        results.append(-result)"
   ]
  },
  {
   "cell_type": "code",
   "execution_count": 12,
   "id": "d1e19a63",
   "metadata": {},
   "outputs": [
    {
     "name": "stdout",
     "output_type": "stream",
     "text": [
      "the AI player has won 653 games\n",
      "the AI player has lost 272 games\n",
      "the game has tied 75 times\n"
     ]
    }
   ],
   "source": [
    "# count how many times AI player has won\n",
    "wins=results.count(1)\n",
    "print(f\"the AI player has won {wins} games\")\n",
    "# count how many times AI player has lost\n",
    "losses=results.count(-1)\n",
    "print(f\"the AI player has lost {losses} games\")\n",
    "# count tie games\n",
    "ties=results.count(0)\n",
    "print(f\"the game has tied {ties} times\")"
   ]
  },
  {
   "cell_type": "markdown",
   "id": "f7373bfa",
   "metadata": {},
   "source": [
    "# 3. Think Two Steps Ahead in Tic Tac Toe\n"
   ]
  },
  {
   "cell_type": "markdown",
   "id": "0bd5e7d9",
   "metadata": {},
   "source": [
    "## 3.1. A Tic Tac Toe Agent Who Thinks Two Steps Ahead\n"
   ]
  },
  {
   "cell_type": "code",
   "execution_count": 13,
   "id": "d0f0dc85",
   "metadata": {},
   "outputs": [],
   "source": [
    "def ttt_think2(env):\n",
    "    # iterate through all possible next moves\n",
    "    for m in env.validinputs:\n",
    "        # make a hypothetical move\n",
    "        env_copy=deepcopy(env)\n",
    "        state,reward,done,_=env_copy.step(m) \n",
    "        # if reward is 1 or -1, current player wins\n",
    "        if done and abs(reward)==1:\n",
    "            # take the winning move\n",
    "            return m  \n",
    "    # otherwise, look two moves ahead\n",
    "    for m1 in env.validinputs:\n",
    "        for m2 in env.validinputs:\n",
    "            if m1!=m2:\n",
    "                env_copy=deepcopy(env)\n",
    "                s,r,done,_=env_copy.step(m1) \n",
    "                s,r,done,_=env_copy.step(m2)                     \n",
    "                # block opponent's winning move\n",
    "                if done and r!=0:\n",
    "                    return m2 \n",
    "    # otherwise, return a random move               \n",
    "    return env.sample()"
   ]
  },
  {
   "cell_type": "markdown",
   "id": "6997e023",
   "metadata": {},
   "source": [
    "## 3.2. Test the Think-Two-Steps-Ahead AI in Tic Tac Toe "
   ]
  },
  {
   "cell_type": "code",
   "execution_count": 14,
   "id": "f34930dd",
   "metadata": {},
   "outputs": [
    {
     "name": "stdout",
     "output_type": "stream",
     "text": [
      "game state is \n",
      "[[0 1 0]\n",
      " [0 0 0]\n",
      " [0 0 0]]\n",
      "Player O, what's your move?5\n",
      "game state is \n",
      "[[ 0  1  0]\n",
      " [ 0 -1  0]\n",
      " [ 1  0  0]]\n",
      "Player O, what's your move?3\n",
      "game state is \n",
      "[[ 1  1  0]\n",
      " [ 0 -1  0]\n",
      " [ 1  0 -1]]\n",
      "Player O, what's your move?2\n",
      "the game outcome is 1\n"
     ]
    }
   ],
   "source": [
    "from utils.ch02util import ttt_think2\n",
    "\n",
    "reward=one_ttt_game(ttt_think2, ttt_manual)\n",
    "print(f\"the game outcome is {reward}\")"
   ]
  },
  {
   "cell_type": "code",
   "execution_count": 15,
   "id": "63d36b68",
   "metadata": {},
   "outputs": [],
   "source": [
    "results=[]\n",
    "for i in range(1000):\n",
    "    # think-two-steps-ahead AI moves first at even i\n",
    "    if i%2==0:\n",
    "        result=one_ttt_game(ttt_think2, ttt_think1)\n",
    "        # record game outcome\n",
    "        results.append(result)\n",
    "    # think-two-steps-ahead AI moves second at odd i\n",
    "    else:\n",
    "        result=one_ttt_game(ttt_think1, ttt_think2)\n",
    "        # record negative of game outcome\n",
    "        results.append(-result)"
   ]
  },
  {
   "cell_type": "code",
   "execution_count": 16,
   "id": "d07476eb",
   "metadata": {},
   "outputs": [
    {
     "name": "stdout",
     "output_type": "stream",
     "text": [
      "think-two-steps-ahead AI won 778 games\n",
      "think-two-steps-ahead AI lost 77 games\n",
      "the game has tied 145 times\n"
     ]
    }
   ],
   "source": [
    "# count how many times think-two-steps-ahead AI won\n",
    "wins=results.count(1)\n",
    "print(f\"think-two-steps-ahead AI won {wins} games\")\n",
    "# count how many times it lost\n",
    "losses=results.count(-1)\n",
    "print(f\"think-two-steps-ahead AI lost {losses} games\")\n",
    "# count tie games\n",
    "ties=results.count(0)\n",
    "print(f\"the game has tied {ties} times\")"
   ]
  },
  {
   "cell_type": "markdown",
   "id": "21150dcc",
   "metadata": {},
   "source": [
    "# 4. Think Three Steps Ahead\n"
   ]
  },
  {
   "attachments": {
    "think3.png": {
     "image/png": "[encoded data removed]"
    }
   },
   "cell_type": "markdown",
   "id": "d84715aa",
   "metadata": {},
   "source": [
    "## 4.1. Think-Three-Steps-Ahead AI in Tic Tac Toe\n",
    "Consider the example as illustrated in the figure below. It's Player X's turn to move, and if it chooses cell 2 as its next move, it can create a double attack and gurantee a win in three steps: Player X can win by placing a piece in cell 3 or cell 8 in three steps and win the game. Player O can either block cell 3 or cell 8, but not both. \n",
    "\n",
    "![think3.png](attachment:think3.png) "
   ]
  },
  {
   "cell_type": "markdown",
   "id": "fb8383c8",
   "metadata": {},
   "source": [
    "We define a function *ttt_think3()* in the local module *ch02util*. The function checks if there is a move that wins the game for the AI player right away or if the opponent has a winning move two steps ahead. If not, the funnction looks three steps ahead and chooses the move that most likely leads to a win for the current player.  \n",
    "\n",
    "Take a look at the function *ttt_think3()* in the file *ch02util.py*. In particular, the following lines of code allows the agent to look three steps ahead:"
   ]
  },
  {
   "cell_type": "markdown",
   "id": "6f8a7eff",
   "metadata": {},
   "source": [
    "```Python\n",
    "def ttt_think3(env):\n",
    "    ...\n",
    "    # look three steps ahead\n",
    "    w3=[]\n",
    "    for m1 in env.validinputs:\n",
    "        for m2 in env.validinputs:\n",
    "            for m3 in env.validinputs:\n",
    "                if m1!=m2 and m1!=m3 and m2!=m3:\n",
    "                    env_copy=deepcopy(env)\n",
    "                    s,r,done,_=env_copy.step(m1) \n",
    "                    s,r,done,_=env_copy.step(m2)   \n",
    "                    s,r,done,_=env_copy.step(m3)                    \n",
    "                    if done and r!=0:\n",
    "                        w3.append(m1) \n",
    "    # Choose the most frequent winner\n",
    "    if len(w3)>0:\n",
    "        return max(w3,key=w3.count)                \n",
    "    # Return random move otherwise\n",
    "    return env.sample()\n",
    "```"
   ]
  },
  {
   "cell_type": "markdown",
   "id": "3f207d6d",
   "metadata": {},
   "source": [
    "## 4.2. Test the Think-Three-Steps-Ahead AI in Tic Tac Toe"
   ]
  },
  {
   "cell_type": "code",
   "execution_count": 17,
   "id": "26a3bd78",
   "metadata": {},
   "outputs": [
    {
     "name": "stdout",
     "output_type": "stream",
     "text": [
      "game state is \n",
      "[[0 0 0]\n",
      " [0 1 0]\n",
      " [0 0 0]]\n",
      "Player O, what's your move?4\n",
      "game state is \n",
      "[[ 0  0  0]\n",
      " [-1  1  0]\n",
      " [ 1  0  0]]\n",
      "Player O, what's your move?9\n",
      "game state is \n",
      "[[ 0  0 -1]\n",
      " [-1  1  0]\n",
      " [ 1  1  0]]\n",
      "Player O, what's your move?3\n",
      "the game outcome is 1\n"
     ]
    }
   ],
   "source": [
    "from utils.ch02util import ttt_think3\n",
    "\n",
    "reward=one_ttt_game(ttt_think3, ttt_manual)\n",
    "print(f\"the game outcome is {reward}\")"
   ]
  },
  {
   "cell_type": "code",
   "execution_count": 18,
   "id": "bdb68745",
   "metadata": {},
   "outputs": [],
   "source": [
    "results=[]\n",
    "for i in range(1000):\n",
    "    # think-three-steps-ahead AI moves first at even i\n",
    "    if i%2==0:\n",
    "        result=one_ttt_game(ttt_think3, ttt_think2)\n",
    "        # record game outcome\n",
    "        results.append(result)\n",
    "    # think-three-steps-ahead AI moves second otherwise\n",
    "    else:\n",
    "        result=one_ttt_game(ttt_think2, ttt_think3)\n",
    "        # record negative game outcome\n",
    "        results.append(-result)"
   ]
  },
  {
   "cell_type": "code",
   "execution_count": 19,
   "id": "0be4d7ec",
   "metadata": {},
   "outputs": [
    {
     "name": "stdout",
     "output_type": "stream",
     "text": [
      "think-three-steps-ahead AI won 270 games\n",
      "think-three-steps-ahead AI lost 179 games\n",
      "the game has tied 551 times\n"
     ]
    }
   ],
   "source": [
    "# count how many times think-three-steps-ahead AI won\n",
    "wins=results.count(1)\n",
    "print(f\"think-three-steps-ahead AI won {wins} games\")\n",
    "# count how many times it lost\n",
    "losses=results.count(-1)\n",
    "print(f\"think-three-steps-ahead AI lost {losses} games\")\n",
    "# count tie games\n",
    "ties=results.count(0)\n",
    "print(f\"the game has tied {ties} times\")"
   ]
  }
 ],
 "metadata": {
  "kernelspec": {
   "display_name": "Python 3 (ipykernel)",
   "language": "python",
   "name": "python3"
  },
  "language_info": {
   "codemirror_mode": {
    "name": "ipython",
    "version": 3
   },
   "file_extension": ".py",
   "mimetype": "text/x-python",
   "name": "python",
   "nbconvert_exporter": "python",
   "pygments_lexer": "ipython3",
   "version": "3.9.12"
  }
 },
 "nbformat": 4,
 "nbformat_minor": 5
}
